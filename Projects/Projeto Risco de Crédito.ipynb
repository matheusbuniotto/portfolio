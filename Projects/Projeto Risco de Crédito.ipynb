{
 "cells": [
  {
   "cell_type": "markdown",
   "metadata": {},
   "source": [
    "# Avaliação de Risco de Crédito "
   ]
  },
  {
   "cell_type": "markdown",
   "metadata": {},
   "source": [
    "## 1.1 Contextualização\n",
    "\n",
    "Você já precisou ir a um banco ou financeira para solicitar  um empréstimo? Por trás da resposta do atendente existem inúmeros processos complexos ocorrendo para garantir o melhor retorno ao branco. Avaliar se uma pessoa ou empresa irá cumprir a obrigação de pagamento é algo muito importante para as instituições financeiras, visto que, um erro de avaliação pode levar a grandes prejuízos para a empresa. \n",
    "\n",
    "A inadimplência, ou default¹,  representa a falta de cumprimento de uma obrigação, nesse caso, a falta de pagamento de algum empréstimo ou financiamento junto ao banco.\n",
    "<img src=\"https://img.rawpixel.com/s3fs-private/rawpixel_images/website_content/rm208batch4-kwan-01-g.jpg?w=1300&dpr=1&fit=default&crop=default&q=80&vib=3&con=3&usm=15&bg=F4F4F3&ixlib=js-2.2.1&s=fc27ff4fcdb3abc71a49741b50657a91\">\n",
    "\n",
    "Uma definição mais abrangente que a de Bessis é a adotada pelo O BCBS (Comitê da Basiléia sobre Supervisão Bancária) adota a seguinte definição de default\n",
    "(2006, p. 100):\n",
    "\n",
    "> Considera-se ter ocorrido default em relação a um devedor específico quando um ou ambos os\n",
    "eventos seguintes tenham acontecido:\n",
    ">\n",
    "> * O banco considera improvável que o devedor pague na totalidade suas obrigações ao\n",
    "conglomerado financeiro sem que este tenha que recorrer a ações tais como a realização de\n",
    "garantias (se possuir);\n",
    ">\n",
    "> * O devedor está atrasado em mais de 90 dias em alguma obrigação material com o\n",
    "conglomerado financeiro. Saques a descoberto são considerados como operações em atraso\n",
    "quando o cliente infringir um limite recomendado ou tenha lhe sido recomendado um limite\n",
    "menor que a dívida atual.\n",
    "\n",
    "Devido a complexidade e importância do processo de avaliação de risco, cada vez mais, as instituições financeiras estão investindo em modelos de Machine Learning para garantir o melhor retorno sobre o investimento.\n",
    "\n",
    "<i> 1 Embora possa haver alguma diferença entre os conceitos de default e inadimplência, neste projeto esses termos serão utilizados com o mesmo sentido.</i>\n",
    "\n",
    "### 1.2 O projeto\n",
    "Esse projeto tem o objetivo de fazer uma previsão de um determinado cliente ser inadimplênte. Para isso, será utilizado um conjunto de dados abertos de uma instituição financeira. Os dados passarão por um processamento e após isso um modelo de Machine Learning será desenvolvido para realizar as previsões.\n",
    "\n",
    "### 1.3 A hipótese\n",
    "Utilizando um conjunto de informações de um determinado cliente, seremos capaz de prever se o cliente, em seu primeiro contato com o banco, será um possível cliente default.!"
   ]
  },
  {
   "cell_type": "markdown",
   "metadata": {},
   "source": [
    "### 2. Os dados\n",
    "Os dados utilizados para esse projeto podem ser baixados aqui: [link para download](http://dl.dropboxusercontent.com/s/xn2a4kzf0zer0xu/acquisition_train.csv?dl=0)\n",
    "\n",
    "Também serão utilizadas algumas bibliotecas da linguagem python para realização do projeto."
   ]
  },
  {
   "cell_type": "code",
   "execution_count": 1,
   "metadata": {},
   "outputs": [],
   "source": [
    "import pandas as pd\n",
    "import numpy as npa\n",
    "!pip install seaborn -q"
   ]
  },
  {
   "cell_type": "code",
   "execution_count": 2,
   "metadata": {},
   "outputs": [],
   "source": [
    "# importar os pacotes necessários\n",
    "import pandas as pd\n",
    "import matplotlib.pyplot as plt\n",
    "import seaborn as sns\n",
    "import numpy as np\n",
    "%matplotlib inline\n",
    "from sklearn.preprocessing import StandardScaler\n",
    "from sklearn.preprocessing import LabelEncoder\n",
    "\n",
    "sns.set_style('white')\n",
    "import warnings\n",
    "warnings.simplefilter(\"ignore\")"
   ]
  },
  {
   "cell_type": "markdown",
   "metadata": {},
   "source": [
    "Importando os dados para análise"
   ]
  },
  {
   "cell_type": "code",
   "execution_count": 3,
   "metadata": {},
   "outputs": [],
   "source": [
    "df = pd.read_csv(\"http://dl.dropboxusercontent.com/s/xn2a4kzf0zer0xu/acquisition_train.csv?dl=0\")"
   ]
  },
  {
   "cell_type": "markdown",
   "metadata": {},
   "source": [
    "### 3. Análise inicial\n",
    "Nesse etapa faremos uma análise exploratória inicial dos dados para que auxile na tomada de decisão que serão necessárias na fase de processamento e limpeza dos dados. Além disso, essa fase nos permite avaliar e entender melhor como é o conjunto de dados que estamos lidando."
   ]
  },
  {
   "cell_type": "markdown",
   "metadata": {},
   "source": [
    "Verificando o tamanho do conjunto de dados - **entradas e variáveis.**"
   ]
  },
  {
   "cell_type": "code",
   "execution_count": 4,
   "metadata": {},
   "outputs": [
    {
     "name": "stdout",
     "output_type": "stream",
     "text": [
      "O dataset possui 45000 entradas\n",
      "O dataset possui 43 variáveis\n"
     ]
    }
   ],
   "source": [
    "df.shape\n",
    "print('O dataset possui {} entradas'.format(df.shape[0]))\n",
    "print('O dataset possui {} variáveis'.format(df.shape[1]))"
   ]
  },
  {
   "cell_type": "markdown",
   "metadata": {},
   "source": [
    "Verificando as <b> primeiras entradas  </b> do dataset. "
   ]
  },
  {
   "cell_type": "code",
   "execution_count": 5,
   "metadata": {},
   "outputs": [
    {
     "data": {
      "text/html": [
       "<div>\n",
       "<style scoped>\n",
       "    .dataframe tbody tr th:only-of-type {\n",
       "        vertical-align: middle;\n",
       "    }\n",
       "\n",
       "    .dataframe tbody tr th {\n",
       "        vertical-align: top;\n",
       "    }\n",
       "\n",
       "    .dataframe thead th {\n",
       "        text-align: right;\n",
       "    }\n",
       "</style>\n",
       "<table border=\"1\" class=\"dataframe\">\n",
       "  <thead>\n",
       "    <tr style=\"text-align: right;\">\n",
       "      <th></th>\n",
       "      <th>ids</th>\n",
       "      <th>target_default</th>\n",
       "      <th>score_1</th>\n",
       "      <th>score_2</th>\n",
       "      <th>score_3</th>\n",
       "      <th>score_4</th>\n",
       "      <th>score_5</th>\n",
       "      <th>score_6</th>\n",
       "      <th>risk_rate</th>\n",
       "      <th>last_amount_borrowed</th>\n",
       "      <th>...</th>\n",
       "      <th>external_data_provider_fraud_score</th>\n",
       "      <th>lat_lon</th>\n",
       "      <th>marketing_channel</th>\n",
       "      <th>profile_phone_number</th>\n",
       "      <th>reported_income</th>\n",
       "      <th>shipping_state</th>\n",
       "      <th>shipping_zip_code</th>\n",
       "      <th>profile_tags</th>\n",
       "      <th>user_agent</th>\n",
       "      <th>target_fraud</th>\n",
       "    </tr>\n",
       "  </thead>\n",
       "  <tbody>\n",
       "    <tr>\n",
       "      <th>0</th>\n",
       "      <td>343b7e7b-2cf8-e508-b8fd-0a0285af30aa</td>\n",
       "      <td>False</td>\n",
       "      <td>1Rk8w4Ucd5yR3KcqZzLdow==</td>\n",
       "      <td>IOVu8au3ISbo6+zmfnYwMg==</td>\n",
       "      <td>350.0</td>\n",
       "      <td>101.800832</td>\n",
       "      <td>0.259555</td>\n",
       "      <td>108.427273</td>\n",
       "      <td>0.40</td>\n",
       "      <td>25033.92</td>\n",
       "      <td>...</td>\n",
       "      <td>645</td>\n",
       "      <td>(-29.151545708122246, -51.1386461804385)</td>\n",
       "      <td>Invite-email</td>\n",
       "      <td>514-9840782</td>\n",
       "      <td>57849.0</td>\n",
       "      <td>BR-MT</td>\n",
       "      <td>17528</td>\n",
       "      <td>{'tags': ['n19', 'n8']}</td>\n",
       "      <td>Mozilla/5.0 (Linux; Android 6.0.1; SGP771 Buil...</td>\n",
       "      <td>NaN</td>\n",
       "    </tr>\n",
       "    <tr>\n",
       "      <th>1</th>\n",
       "      <td>bc2c7502-bbad-0f8c-39c3-94e881967124</td>\n",
       "      <td>False</td>\n",
       "      <td>DGCQep2AE5QRkNCshIAlFQ==</td>\n",
       "      <td>SaamrHMo23l/3TwXOWgVzw==</td>\n",
       "      <td>370.0</td>\n",
       "      <td>97.062615</td>\n",
       "      <td>0.942655</td>\n",
       "      <td>92.002546</td>\n",
       "      <td>0.24</td>\n",
       "      <td>NaN</td>\n",
       "      <td>...</td>\n",
       "      <td>243</td>\n",
       "      <td>(-19.687710705798963, -47.94151536525154)</td>\n",
       "      <td>Radio-commercial</td>\n",
       "      <td>251-3659293</td>\n",
       "      <td>4902.0</td>\n",
       "      <td>BR-RS</td>\n",
       "      <td>40933</td>\n",
       "      <td>{'tags': ['n6', 'n7', 'nim']}</td>\n",
       "      <td>Mozilla/5.0 (Linux; Android 5.0.2; SAMSUNG SM-...</td>\n",
       "      <td>NaN</td>\n",
       "    </tr>\n",
       "    <tr>\n",
       "      <th>2</th>\n",
       "      <td>669630dd-2e6a-0396-84bf-455e5009c922</td>\n",
       "      <td>True</td>\n",
       "      <td>DGCQep2AE5QRkNCshIAlFQ==</td>\n",
       "      <td>Fv28Bz0YRTVAT5kl1bAV6g==</td>\n",
       "      <td>360.0</td>\n",
       "      <td>100.027073</td>\n",
       "      <td>0.351918</td>\n",
       "      <td>112.892453</td>\n",
       "      <td>0.29</td>\n",
       "      <td>7207.92</td>\n",
       "      <td>...</td>\n",
       "      <td>65</td>\n",
       "      <td>(-28.748023890412284, -51.867279334353995)</td>\n",
       "      <td>Waiting-list</td>\n",
       "      <td>230-6097993</td>\n",
       "      <td>163679.0</td>\n",
       "      <td>BR-RR</td>\n",
       "      <td>50985</td>\n",
       "      <td>{'tags': ['n0', 'n17', 'nim', 'da']}</td>\n",
       "      <td>Mozilla/5.0 (Linux; Android 6.0.1; SGP771 Buil...</td>\n",
       "      <td>NaN</td>\n",
       "    </tr>\n",
       "  </tbody>\n",
       "</table>\n",
       "<p>3 rows × 43 columns</p>\n",
       "</div>"
      ],
      "text/plain": [
       "                                    ids target_default  \\\n",
       "0  343b7e7b-2cf8-e508-b8fd-0a0285af30aa          False   \n",
       "1  bc2c7502-bbad-0f8c-39c3-94e881967124          False   \n",
       "2  669630dd-2e6a-0396-84bf-455e5009c922           True   \n",
       "\n",
       "                    score_1                   score_2  score_3     score_4  \\\n",
       "0  1Rk8w4Ucd5yR3KcqZzLdow==  IOVu8au3ISbo6+zmfnYwMg==    350.0  101.800832   \n",
       "1  DGCQep2AE5QRkNCshIAlFQ==  SaamrHMo23l/3TwXOWgVzw==    370.0   97.062615   \n",
       "2  DGCQep2AE5QRkNCshIAlFQ==  Fv28Bz0YRTVAT5kl1bAV6g==    360.0  100.027073   \n",
       "\n",
       "    score_5     score_6  risk_rate  last_amount_borrowed  ...  \\\n",
       "0  0.259555  108.427273       0.40              25033.92  ...   \n",
       "1  0.942655   92.002546       0.24                   NaN  ...   \n",
       "2  0.351918  112.892453       0.29               7207.92  ...   \n",
       "\n",
       "   external_data_provider_fraud_score  \\\n",
       "0                                 645   \n",
       "1                                 243   \n",
       "2                                  65   \n",
       "\n",
       "                                      lat_lon marketing_channel  \\\n",
       "0    (-29.151545708122246, -51.1386461804385)      Invite-email   \n",
       "1   (-19.687710705798963, -47.94151536525154)  Radio-commercial   \n",
       "2  (-28.748023890412284, -51.867279334353995)      Waiting-list   \n",
       "\n",
       "   profile_phone_number reported_income shipping_state shipping_zip_code  \\\n",
       "0           514-9840782         57849.0          BR-MT             17528   \n",
       "1           251-3659293          4902.0          BR-RS             40933   \n",
       "2           230-6097993        163679.0          BR-RR             50985   \n",
       "\n",
       "                           profile_tags  \\\n",
       "0               {'tags': ['n19', 'n8']}   \n",
       "1         {'tags': ['n6', 'n7', 'nim']}   \n",
       "2  {'tags': ['n0', 'n17', 'nim', 'da']}   \n",
       "\n",
       "                                          user_agent target_fraud  \n",
       "0  Mozilla/5.0 (Linux; Android 6.0.1; SGP771 Buil...          NaN  \n",
       "1  Mozilla/5.0 (Linux; Android 5.0.2; SAMSUNG SM-...          NaN  \n",
       "2  Mozilla/5.0 (Linux; Android 6.0.1; SGP771 Buil...          NaN  \n",
       "\n",
       "[3 rows x 43 columns]"
      ]
     },
     "execution_count": 5,
     "metadata": {},
     "output_type": "execute_result"
    }
   ],
   "source": [
    "df.head(3)"
   ]
  },
  {
   "cell_type": "code",
   "execution_count": 6,
   "metadata": {},
   "outputs": [
    {
     "data": {
      "text/plain": [
       "ids                                                  object\n",
       "target_default                                       object\n",
       "score_1                                              object\n",
       "score_2                                              object\n",
       "score_3                                             float64\n",
       "score_4                                             float64\n",
       "score_5                                             float64\n",
       "score_6                                             float64\n",
       "risk_rate                                           float64\n",
       "last_amount_borrowed                                float64\n",
       "last_borrowed_in_months                             float64\n",
       "credit_limit                                        float64\n",
       "reason                                               object\n",
       "income                                              float64\n",
       "facebook_profile                                     object\n",
       "state                                                object\n",
       "zip                                                  object\n",
       "channel                                              object\n",
       "job_name                                             object\n",
       "real_state                                           object\n",
       "ok_since                                            float64\n",
       "n_bankruptcies                                      float64\n",
       "n_defaulted_loans                                   float64\n",
       "n_accounts                                          float64\n",
       "n_issues                                            float64\n",
       "application_time_applied                             object\n",
       "application_time_in_funnel                            int64\n",
       "email                                                object\n",
       "external_data_provider_credit_checks_last_2_year    float64\n",
       "external_data_provider_credit_checks_last_month       int64\n",
       "external_data_provider_credit_checks_last_year      float64\n",
       "external_data_provider_email_seen_before            float64\n",
       "external_data_provider_first_name                    object\n",
       "external_data_provider_fraud_score                    int64\n",
       "lat_lon                                              object\n",
       "marketing_channel                                    object\n",
       "profile_phone_number                                 object\n",
       "reported_income                                     float64\n",
       "shipping_state                                       object\n",
       "shipping_zip_code                                     int64\n",
       "profile_tags                                         object\n",
       "user_agent                                           object\n",
       "target_fraud                                         object\n",
       "dtype: object"
      ]
     },
     "execution_count": 6,
     "metadata": {},
     "output_type": "execute_result"
    }
   ],
   "source": [
    "df.dtypes"
   ]
  },
  {
   "cell_type": "code",
   "execution_count": 7,
   "metadata": {},
   "outputs": [
    {
     "data": {
      "text/html": [
       "<div>\n",
       "<style scoped>\n",
       "    .dataframe tbody tr th:only-of-type {\n",
       "        vertical-align: middle;\n",
       "    }\n",
       "\n",
       "    .dataframe tbody tr th {\n",
       "        vertical-align: top;\n",
       "    }\n",
       "\n",
       "    .dataframe thead th {\n",
       "        text-align: right;\n",
       "    }\n",
       "</style>\n",
       "<table border=\"1\" class=\"dataframe\">\n",
       "  <thead>\n",
       "    <tr style=\"text-align: right;\">\n",
       "      <th></th>\n",
       "      <th>score_3</th>\n",
       "      <th>score_4</th>\n",
       "      <th>score_5</th>\n",
       "      <th>score_6</th>\n",
       "      <th>risk_rate</th>\n",
       "      <th>last_amount_borrowed</th>\n",
       "      <th>last_borrowed_in_months</th>\n",
       "      <th>credit_limit</th>\n",
       "      <th>income</th>\n",
       "      <th>ok_since</th>\n",
       "      <th>...</th>\n",
       "      <th>n_accounts</th>\n",
       "      <th>n_issues</th>\n",
       "      <th>application_time_in_funnel</th>\n",
       "      <th>external_data_provider_credit_checks_last_2_year</th>\n",
       "      <th>external_data_provider_credit_checks_last_month</th>\n",
       "      <th>external_data_provider_credit_checks_last_year</th>\n",
       "      <th>external_data_provider_email_seen_before</th>\n",
       "      <th>external_data_provider_fraud_score</th>\n",
       "      <th>reported_income</th>\n",
       "      <th>shipping_zip_code</th>\n",
       "    </tr>\n",
       "  </thead>\n",
       "  <tbody>\n",
       "    <tr>\n",
       "      <th>count</th>\n",
       "      <td>44438.000000</td>\n",
       "      <td>45000.000000</td>\n",
       "      <td>45000.000000</td>\n",
       "      <td>45000.000000</td>\n",
       "      <td>44438.000000</td>\n",
       "      <td>15044.000000</td>\n",
       "      <td>15044.000000</td>\n",
       "      <td>31200.000000</td>\n",
       "      <td>4.443800e+04</td>\n",
       "      <td>18455.000000</td>\n",
       "      <td>...</td>\n",
       "      <td>44438.000000</td>\n",
       "      <td>33456.000000</td>\n",
       "      <td>45000.000000</td>\n",
       "      <td>22372.0</td>\n",
       "      <td>45000.000000</td>\n",
       "      <td>29876.000000</td>\n",
       "      <td>42767.000000</td>\n",
       "      <td>45000.000000</td>\n",
       "      <td>45000.00</td>\n",
       "      <td>45000.000000</td>\n",
       "    </tr>\n",
       "    <tr>\n",
       "      <th>mean</th>\n",
       "      <td>347.983258</td>\n",
       "      <td>100.006797</td>\n",
       "      <td>0.500037</td>\n",
       "      <td>99.925228</td>\n",
       "      <td>0.296717</td>\n",
       "      <td>13782.341991</td>\n",
       "      <td>41.763893</td>\n",
       "      <td>34381.951154</td>\n",
       "      <td>7.160739e+04</td>\n",
       "      <td>35.069737</td>\n",
       "      <td>...</td>\n",
       "      <td>10.696701</td>\n",
       "      <td>11.068119</td>\n",
       "      <td>247.537000</td>\n",
       "      <td>0.0</td>\n",
       "      <td>1.501067</td>\n",
       "      <td>0.503381</td>\n",
       "      <td>12.534781</td>\n",
       "      <td>500.399800</td>\n",
       "      <td>inf</td>\n",
       "      <td>33923.514844</td>\n",
       "    </tr>\n",
       "    <tr>\n",
       "      <th>std</th>\n",
       "      <td>110.429165</td>\n",
       "      <td>3.178080</td>\n",
       "      <td>0.288326</td>\n",
       "      <td>10.016549</td>\n",
       "      <td>0.101933</td>\n",
       "      <td>8077.571933</td>\n",
       "      <td>10.252705</td>\n",
       "      <td>36586.982218</td>\n",
       "      <td>5.185897e+04</td>\n",
       "      <td>21.663194</td>\n",
       "      <td>...</td>\n",
       "      <td>4.592463</td>\n",
       "      <td>4.595501</td>\n",
       "      <td>146.118398</td>\n",
       "      <td>0.0</td>\n",
       "      <td>1.114941</td>\n",
       "      <td>0.499997</td>\n",
       "      <td>126.530487</td>\n",
       "      <td>287.968873</td>\n",
       "      <td>NaN</td>\n",
       "      <td>12692.406382</td>\n",
       "    </tr>\n",
       "    <tr>\n",
       "      <th>min</th>\n",
       "      <td>0.000000</td>\n",
       "      <td>86.191572</td>\n",
       "      <td>0.000035</td>\n",
       "      <td>60.663039</td>\n",
       "      <td>0.000000</td>\n",
       "      <td>1005.180000</td>\n",
       "      <td>36.000000</td>\n",
       "      <td>0.000000</td>\n",
       "      <td>4.821180e+03</td>\n",
       "      <td>0.000000</td>\n",
       "      <td>...</td>\n",
       "      <td>0.000000</td>\n",
       "      <td>0.000000</td>\n",
       "      <td>0.000000</td>\n",
       "      <td>0.0</td>\n",
       "      <td>0.000000</td>\n",
       "      <td>0.000000</td>\n",
       "      <td>-999.000000</td>\n",
       "      <td>0.000000</td>\n",
       "      <td>403.00</td>\n",
       "      <td>12001.000000</td>\n",
       "    </tr>\n",
       "    <tr>\n",
       "      <th>25%</th>\n",
       "      <td>270.000000</td>\n",
       "      <td>97.867036</td>\n",
       "      <td>0.252150</td>\n",
       "      <td>93.198353</td>\n",
       "      <td>0.220000</td>\n",
       "      <td>7519.502500</td>\n",
       "      <td>36.000000</td>\n",
       "      <td>10000.000000</td>\n",
       "      <td>4.501078e+04</td>\n",
       "      <td>17.000000</td>\n",
       "      <td>...</td>\n",
       "      <td>7.000000</td>\n",
       "      <td>8.000000</td>\n",
       "      <td>120.000000</td>\n",
       "      <td>0.0</td>\n",
       "      <td>1.000000</td>\n",
       "      <td>0.000000</td>\n",
       "      <td>11.000000</td>\n",
       "      <td>252.000000</td>\n",
       "      <td>50948.25</td>\n",
       "      <td>22937.000000</td>\n",
       "    </tr>\n",
       "    <tr>\n",
       "      <th>50%</th>\n",
       "      <td>340.000000</td>\n",
       "      <td>100.018900</td>\n",
       "      <td>0.500753</td>\n",
       "      <td>99.974796</td>\n",
       "      <td>0.290000</td>\n",
       "      <td>12023.465000</td>\n",
       "      <td>36.000000</td>\n",
       "      <td>25647.000000</td>\n",
       "      <td>6.126676e+04</td>\n",
       "      <td>32.000000</td>\n",
       "      <td>...</td>\n",
       "      <td>10.000000</td>\n",
       "      <td>10.000000</td>\n",
       "      <td>248.000000</td>\n",
       "      <td>0.0</td>\n",
       "      <td>2.000000</td>\n",
       "      <td>1.000000</td>\n",
       "      <td>27.000000</td>\n",
       "      <td>503.000000</td>\n",
       "      <td>101779.00</td>\n",
       "      <td>33896.000000</td>\n",
       "    </tr>\n",
       "    <tr>\n",
       "      <th>75%</th>\n",
       "      <td>420.000000</td>\n",
       "      <td>102.141797</td>\n",
       "      <td>0.748816</td>\n",
       "      <td>106.640275</td>\n",
       "      <td>0.360000</td>\n",
       "      <td>19220.270000</td>\n",
       "      <td>36.000000</td>\n",
       "      <td>47086.750000</td>\n",
       "      <td>8.601923e+04</td>\n",
       "      <td>50.000000</td>\n",
       "      <td>...</td>\n",
       "      <td>13.000000</td>\n",
       "      <td>14.000000</td>\n",
       "      <td>375.000000</td>\n",
       "      <td>0.0</td>\n",
       "      <td>2.000000</td>\n",
       "      <td>1.000000</td>\n",
       "      <td>43.000000</td>\n",
       "      <td>747.000000</td>\n",
       "      <td>151337.25</td>\n",
       "      <td>44910.000000</td>\n",
       "    </tr>\n",
       "    <tr>\n",
       "      <th>max</th>\n",
       "      <td>990.000000</td>\n",
       "      <td>113.978234</td>\n",
       "      <td>0.999973</td>\n",
       "      <td>142.192400</td>\n",
       "      <td>0.900000</td>\n",
       "      <td>35059.600000</td>\n",
       "      <td>60.000000</td>\n",
       "      <td>448269.000000</td>\n",
       "      <td>5.000028e+06</td>\n",
       "      <td>141.000000</td>\n",
       "      <td>...</td>\n",
       "      <td>49.000000</td>\n",
       "      <td>49.000000</td>\n",
       "      <td>500.000000</td>\n",
       "      <td>0.0</td>\n",
       "      <td>3.000000</td>\n",
       "      <td>1.000000</td>\n",
       "      <td>59.000000</td>\n",
       "      <td>1000.000000</td>\n",
       "      <td>inf</td>\n",
       "      <td>56000.000000</td>\n",
       "    </tr>\n",
       "  </tbody>\n",
       "</table>\n",
       "<p>8 rows × 22 columns</p>\n",
       "</div>"
      ],
      "text/plain": [
       "            score_3       score_4       score_5       score_6     risk_rate  \\\n",
       "count  44438.000000  45000.000000  45000.000000  45000.000000  44438.000000   \n",
       "mean     347.983258    100.006797      0.500037     99.925228      0.296717   \n",
       "std      110.429165      3.178080      0.288326     10.016549      0.101933   \n",
       "min        0.000000     86.191572      0.000035     60.663039      0.000000   \n",
       "25%      270.000000     97.867036      0.252150     93.198353      0.220000   \n",
       "50%      340.000000    100.018900      0.500753     99.974796      0.290000   \n",
       "75%      420.000000    102.141797      0.748816    106.640275      0.360000   \n",
       "max      990.000000    113.978234      0.999973    142.192400      0.900000   \n",
       "\n",
       "       last_amount_borrowed  last_borrowed_in_months   credit_limit  \\\n",
       "count          15044.000000             15044.000000   31200.000000   \n",
       "mean           13782.341991                41.763893   34381.951154   \n",
       "std             8077.571933                10.252705   36586.982218   \n",
       "min             1005.180000                36.000000       0.000000   \n",
       "25%             7519.502500                36.000000   10000.000000   \n",
       "50%            12023.465000                36.000000   25647.000000   \n",
       "75%            19220.270000                36.000000   47086.750000   \n",
       "max            35059.600000                60.000000  448269.000000   \n",
       "\n",
       "             income      ok_since  ...    n_accounts      n_issues  \\\n",
       "count  4.443800e+04  18455.000000  ...  44438.000000  33456.000000   \n",
       "mean   7.160739e+04     35.069737  ...     10.696701     11.068119   \n",
       "std    5.185897e+04     21.663194  ...      4.592463      4.595501   \n",
       "min    4.821180e+03      0.000000  ...      0.000000      0.000000   \n",
       "25%    4.501078e+04     17.000000  ...      7.000000      8.000000   \n",
       "50%    6.126676e+04     32.000000  ...     10.000000     10.000000   \n",
       "75%    8.601923e+04     50.000000  ...     13.000000     14.000000   \n",
       "max    5.000028e+06    141.000000  ...     49.000000     49.000000   \n",
       "\n",
       "       application_time_in_funnel  \\\n",
       "count                45000.000000   \n",
       "mean                   247.537000   \n",
       "std                    146.118398   \n",
       "min                      0.000000   \n",
       "25%                    120.000000   \n",
       "50%                    248.000000   \n",
       "75%                    375.000000   \n",
       "max                    500.000000   \n",
       "\n",
       "       external_data_provider_credit_checks_last_2_year  \\\n",
       "count                                           22372.0   \n",
       "mean                                                0.0   \n",
       "std                                                 0.0   \n",
       "min                                                 0.0   \n",
       "25%                                                 0.0   \n",
       "50%                                                 0.0   \n",
       "75%                                                 0.0   \n",
       "max                                                 0.0   \n",
       "\n",
       "       external_data_provider_credit_checks_last_month  \\\n",
       "count                                     45000.000000   \n",
       "mean                                          1.501067   \n",
       "std                                           1.114941   \n",
       "min                                           0.000000   \n",
       "25%                                           1.000000   \n",
       "50%                                           2.000000   \n",
       "75%                                           2.000000   \n",
       "max                                           3.000000   \n",
       "\n",
       "       external_data_provider_credit_checks_last_year  \\\n",
       "count                                    29876.000000   \n",
       "mean                                         0.503381   \n",
       "std                                          0.499997   \n",
       "min                                          0.000000   \n",
       "25%                                          0.000000   \n",
       "50%                                          1.000000   \n",
       "75%                                          1.000000   \n",
       "max                                          1.000000   \n",
       "\n",
       "       external_data_provider_email_seen_before  \\\n",
       "count                              42767.000000   \n",
       "mean                                  12.534781   \n",
       "std                                  126.530487   \n",
       "min                                 -999.000000   \n",
       "25%                                   11.000000   \n",
       "50%                                   27.000000   \n",
       "75%                                   43.000000   \n",
       "max                                   59.000000   \n",
       "\n",
       "       external_data_provider_fraud_score  reported_income  shipping_zip_code  \n",
       "count                        45000.000000         45000.00       45000.000000  \n",
       "mean                           500.399800              inf       33923.514844  \n",
       "std                            287.968873              NaN       12692.406382  \n",
       "min                              0.000000           403.00       12001.000000  \n",
       "25%                            252.000000         50948.25       22937.000000  \n",
       "50%                            503.000000        101779.00       33896.000000  \n",
       "75%                            747.000000        151337.25       44910.000000  \n",
       "max                           1000.000000              inf       56000.000000  \n",
       "\n",
       "[8 rows x 22 columns]"
      ]
     },
     "execution_count": 7,
     "metadata": {},
     "output_type": "execute_result"
    }
   ],
   "source": [
    "#describe para variáveis numéricas\n",
    "df.describe()"
   ]
  },
  {
   "cell_type": "code",
   "execution_count": 8,
   "metadata": {},
   "outputs": [
    {
     "data": {
      "text/plain": [
       "external_data_provider_credit_checks_last_2_year        1\n",
       "channel                                                 1\n",
       "target_fraud                                            2\n",
       "target_default                                          2\n",
       "external_data_provider_credit_checks_last_year          2\n",
       "facebook_profile                                        2\n",
       "last_borrowed_in_months                                 2\n",
       "external_data_provider_credit_checks_last_month         4\n",
       "n_defaulted_loans                                       5\n",
       "real_state                                              5\n",
       "email                                                   6\n",
       "n_bankruptcies                                          6\n",
       "score_1                                                 7\n",
       "marketing_channel                                       9\n",
       "shipping_state                                         25\n",
       "score_2                                                35\n",
       "n_issues                                               44\n",
       "n_accounts                                             44\n",
       "state                                                  50\n",
       "external_data_provider_email_seen_before               62\n",
       "risk_rate                                              82\n",
       "score_3                                                88\n",
       "ok_since                                              100\n",
       "user_agent                                            297\n",
       "application_time_in_funnel                            501\n",
       "zip                                                   823\n",
       "external_data_provider_fraud_score                   1001\n",
       "last_amount_borrowed                                14325\n",
       "reason                                              14874\n",
       "credit_limit                                        20928\n",
       "lat_lon                                             22412\n",
       "profile_tags                                        26131\n",
       "shipping_zip_code                                   28263\n",
       "job_name                                            32265\n",
       "external_data_provider_first_name                   32886\n",
       "application_time_applied                            35543\n",
       "reported_income                                     40025\n",
       "income                                              41211\n",
       "score_4                                             45000\n",
       "score_5                                             45000\n",
       "score_6                                             45000\n",
       "profile_phone_number                                45000\n",
       "ids                                                 45000\n",
       "dtype: int64"
      ]
     },
     "execution_count": 8,
     "metadata": {},
     "output_type": "execute_result"
    }
   ],
   "source": [
    "#verificar os números únicos\n",
    "df.nunique().sort_values()"
   ]
  },
  {
   "cell_type": "markdown",
   "metadata": {},
   "source": [
    "Nessa primeira visão do nosso conjunto de dados, podemos verificar alguns problemas logo de cara:\n",
    "\n",
    "* limite de crédito e income com valor muito acima da média.\n",
    "* n_accounts e n_issues com valores muito semelhantes.\n",
    "* external_data_provider_credit_checks_last_2_year só possui valores '0'\n",
    "* valor -999.00000 para external_data_provider_email_seen_before\t\n",
    "* reported_income com valores infinitos e NaN\n",
    "* coluna user_agent que possui varias informações agrupadas sobre o navegador/sistema operacional\n",
    "* Dados máscarados\n",
    "  * Score_1 e 2\n",
    "  * Reason\n",
    "  * Informações pessoais: zip,state, job_name, channel.\n",
    "  * coluna lat e long agrupadas na mesma\n",
    "  * target_fraud, não há infos relevantes para identificar a utilidade da coluna\n",
    "  * profile_tag\n",
    "\n",
    "\n",
    "Variáveis categóricas como:\n",
    "  * Target_fraud\n",
    "  * real_state\n",
    "  * marketing_channel\n",
    "  * last_borrowed_in_months\n",
    "  * facebook_profile \n",
    "  * external_data_provider_credit_checks_last_month/year\n",
    "\n",
    "Variável alvo:\n",
    "  * target_default"
   ]
  },
  {
   "cell_type": "markdown",
   "metadata": {},
   "source": [
    "### 4. Tratando os dados"
   ]
  },
  {
   "cell_type": "code",
   "execution_count": 9,
   "metadata": {},
   "outputs": [],
   "source": [
    "df_clean = df.copy()\n",
    "\n",
    "# tratar dados os dados númericos - reported_income - valores infinitos e NaN\n",
    "df_clean.reported_income = df_clean.reported_income.replace(np.inf, np.nan)\n",
    "df_clean.replace(-999.000000, df_clean['external_data_provider_email_seen_before'].mean(), inplace=True)\n",
    "#df_clean.loc[df_clean['external_data_provider_email_seen_before'] == -999.000000] = df_clean['external_data_provider_email_seen_before'].mean()       "
   ]
  },
  {
   "cell_type": "markdown",
   "metadata": {},
   "source": [
    "Agora, após tratar as variáveis numéricas, vamos remover as variáveis que não possuem informação relevantes para a construção do modelo."
   ]
  },
  {
   "cell_type": "code",
   "execution_count": 10,
   "metadata": {},
   "outputs": [],
   "source": [
    "#remover variáveis irrelevantes\n",
    "df_clean.drop(['channel', 'zip', 'state','reason',\n",
    "               'job_name', 'target_fraud', 'n_issues',\n",
    "               'ids', 'real_state','external_data_provider_first_name',\n",
    "               'user_agent','shipping_state', 'profile_tags', \n",
    "               'profile_phone_number', 'lat_lon', 'shipping_zip_code',\n",
    "               'application_time_applied','email', 'external_data_provider_credit_checks_last_2_year'], axis=1, inplace=True)"
   ]
  },
  {
   "cell_type": "markdown",
   "metadata": {},
   "source": [
    "Verificar valores nulos"
   ]
  },
  {
   "cell_type": "code",
   "execution_count": 11,
   "metadata": {},
   "outputs": [
    {
     "data": {
      "text/plain": [
       "last_amount_borrowed                               0.665689\n",
       "last_borrowed_in_months                            0.665689\n",
       "ok_since                                           0.589889\n",
       "external_data_provider_credit_checks_last_year     0.336089\n",
       "credit_limit                                       0.306667\n",
       "facebook_profile                                   0.099067\n",
       "marketing_channel                                  0.079511\n",
       "target_default                                     0.072422\n",
       "external_data_provider_email_seen_before           0.049622\n",
       "n_bankruptcies                                     0.015489\n",
       "n_defaulted_loans                                  0.012756\n",
       "score_1                                            0.012489\n",
       "score_2                                            0.012489\n",
       "score_3                                            0.012489\n",
       "risk_rate                                          0.012489\n",
       "income                                             0.012489\n",
       "n_accounts                                         0.012489\n",
       "reported_income                                    0.001489\n",
       "score_6                                            0.000000\n",
       "score_5                                            0.000000\n",
       "score_4                                            0.000000\n",
       "application_time_in_funnel                         0.000000\n",
       "external_data_provider_credit_checks_last_month    0.000000\n",
       "external_data_provider_fraud_score                 0.000000\n",
       "dtype: float64"
      ]
     },
     "execution_count": 11,
     "metadata": {},
     "output_type": "execute_result"
    }
   ],
   "source": [
    "(df_clean.isnull().sum()/len(df_clean)).sort_values(ascending=False)"
   ]
  },
  {
   "cell_type": "markdown",
   "metadata": {},
   "source": [
    "Primeiramente, vamos remover os dados nulos da variável alvo 'target_default'"
   ]
  },
  {
   "cell_type": "code",
   "execution_count": 12,
   "metadata": {},
   "outputs": [],
   "source": [
    "df_clean.target_default.fillna('drop-me', axis=0, inplace=True)\n",
    "df_clean.drop(df_clean.loc[df_clean['target_default']=='drop-me'].index, inplace=True)"
   ]
  },
  {
   "cell_type": "code",
   "execution_count": 13,
   "metadata": {},
   "outputs": [
    {
     "name": "stdout",
     "output_type": "stream",
     "text": [
      "False    0.840421\n",
      "True     0.159579\n",
      "Name: target_default, dtype: float64\n"
     ]
    },
    {
     "data": {
      "image/png": "[encoded data removed]",
      "text/plain": [
       "<Figure size 432x288 with 1 Axes>"
      ]
     },
     "metadata": {},
     "output_type": "display_data"
    }
   ],
   "source": [
    "#plotar gráficos\n",
    "sns.countplot(data=df_clean, x='target_default')\n",
    "\n",
    "print(df_clean['target_default'].value_counts() / len(df_clean))"
   ]
  },
  {
   "cell_type": "code",
   "execution_count": 14,
   "metadata": {},
   "outputs": [
    {
     "data": {
      "text/html": [
       "<div>\n",
       "<style scoped>\n",
       "    .dataframe tbody tr th:only-of-type {\n",
       "        vertical-align: middle;\n",
       "    }\n",
       "\n",
       "    .dataframe tbody tr th {\n",
       "        vertical-align: top;\n",
       "    }\n",
       "\n",
       "    .dataframe thead th {\n",
       "        text-align: right;\n",
       "    }\n",
       "</style>\n",
       "<table border=\"1\" class=\"dataframe\">\n",
       "  <thead>\n",
       "    <tr style=\"text-align: right;\">\n",
       "      <th></th>\n",
       "      <th>target_default</th>\n",
       "      <th>score_1</th>\n",
       "      <th>score_2</th>\n",
       "      <th>score_3</th>\n",
       "      <th>score_4</th>\n",
       "      <th>score_5</th>\n",
       "      <th>score_6</th>\n",
       "      <th>risk_rate</th>\n",
       "      <th>last_amount_borrowed</th>\n",
       "      <th>last_borrowed_in_months</th>\n",
       "      <th>...</th>\n",
       "      <th>n_bankruptcies</th>\n",
       "      <th>n_defaulted_loans</th>\n",
       "      <th>n_accounts</th>\n",
       "      <th>application_time_in_funnel</th>\n",
       "      <th>external_data_provider_credit_checks_last_month</th>\n",
       "      <th>external_data_provider_credit_checks_last_year</th>\n",
       "      <th>external_data_provider_email_seen_before</th>\n",
       "      <th>external_data_provider_fraud_score</th>\n",
       "      <th>marketing_channel</th>\n",
       "      <th>reported_income</th>\n",
       "    </tr>\n",
       "  </thead>\n",
       "  <tbody>\n",
       "    <tr>\n",
       "      <th>0</th>\n",
       "      <td>False</td>\n",
       "      <td>1Rk8w4Ucd5yR3KcqZzLdow==</td>\n",
       "      <td>IOVu8au3ISbo6+zmfnYwMg==</td>\n",
       "      <td>350.0</td>\n",
       "      <td>101.800832</td>\n",
       "      <td>0.259555</td>\n",
       "      <td>108.427273</td>\n",
       "      <td>0.40</td>\n",
       "      <td>25033.92</td>\n",
       "      <td>36.0</td>\n",
       "      <td>...</td>\n",
       "      <td>0.0</td>\n",
       "      <td>0.0</td>\n",
       "      <td>18.0</td>\n",
       "      <td>444</td>\n",
       "      <td>2</td>\n",
       "      <td>0.0</td>\n",
       "      <td>51.0</td>\n",
       "      <td>645</td>\n",
       "      <td>Invite-email</td>\n",
       "      <td>57849.0</td>\n",
       "    </tr>\n",
       "    <tr>\n",
       "      <th>1</th>\n",
       "      <td>False</td>\n",
       "      <td>DGCQep2AE5QRkNCshIAlFQ==</td>\n",
       "      <td>SaamrHMo23l/3TwXOWgVzw==</td>\n",
       "      <td>370.0</td>\n",
       "      <td>97.062615</td>\n",
       "      <td>0.942655</td>\n",
       "      <td>92.002546</td>\n",
       "      <td>0.24</td>\n",
       "      <td>NaN</td>\n",
       "      <td>NaN</td>\n",
       "      <td>...</td>\n",
       "      <td>0.0</td>\n",
       "      <td>0.0</td>\n",
       "      <td>14.0</td>\n",
       "      <td>346</td>\n",
       "      <td>1</td>\n",
       "      <td>0.0</td>\n",
       "      <td>17.0</td>\n",
       "      <td>243</td>\n",
       "      <td>Radio-commercial</td>\n",
       "      <td>4902.0</td>\n",
       "    </tr>\n",
       "    <tr>\n",
       "      <th>2</th>\n",
       "      <td>True</td>\n",
       "      <td>DGCQep2AE5QRkNCshIAlFQ==</td>\n",
       "      <td>Fv28Bz0YRTVAT5kl1bAV6g==</td>\n",
       "      <td>360.0</td>\n",
       "      <td>100.027073</td>\n",
       "      <td>0.351918</td>\n",
       "      <td>112.892453</td>\n",
       "      <td>0.29</td>\n",
       "      <td>7207.92</td>\n",
       "      <td>36.0</td>\n",
       "      <td>...</td>\n",
       "      <td>0.0</td>\n",
       "      <td>0.0</td>\n",
       "      <td>10.0</td>\n",
       "      <td>6</td>\n",
       "      <td>2</td>\n",
       "      <td>NaN</td>\n",
       "      <td>9.0</td>\n",
       "      <td>65</td>\n",
       "      <td>Waiting-list</td>\n",
       "      <td>163679.0</td>\n",
       "    </tr>\n",
       "    <tr>\n",
       "      <th>3</th>\n",
       "      <td>False</td>\n",
       "      <td>1Rk8w4Ucd5yR3KcqZzLdow==</td>\n",
       "      <td>dCm9hFKfdRm7ej3jW+gyxw==</td>\n",
       "      <td>510.0</td>\n",
       "      <td>101.599485</td>\n",
       "      <td>0.987673</td>\n",
       "      <td>94.902491</td>\n",
       "      <td>0.32</td>\n",
       "      <td>NaN</td>\n",
       "      <td>NaN</td>\n",
       "      <td>...</td>\n",
       "      <td>1.0</td>\n",
       "      <td>0.0</td>\n",
       "      <td>19.0</td>\n",
       "      <td>406</td>\n",
       "      <td>3</td>\n",
       "      <td>NaN</td>\n",
       "      <td>38.0</td>\n",
       "      <td>815</td>\n",
       "      <td>Waiting-list</td>\n",
       "      <td>1086.0</td>\n",
       "    </tr>\n",
       "    <tr>\n",
       "      <th>4</th>\n",
       "      <td>False</td>\n",
       "      <td>8k8UDR4Yx0qasAjkGrUZLw==</td>\n",
       "      <td>+CxEO4w7jv3QPI/BQbyqAA==</td>\n",
       "      <td>500.0</td>\n",
       "      <td>98.474289</td>\n",
       "      <td>0.532539</td>\n",
       "      <td>118.126207</td>\n",
       "      <td>0.18</td>\n",
       "      <td>NaN</td>\n",
       "      <td>NaN</td>\n",
       "      <td>...</td>\n",
       "      <td>0.0</td>\n",
       "      <td>0.0</td>\n",
       "      <td>11.0</td>\n",
       "      <td>240</td>\n",
       "      <td>2</td>\n",
       "      <td>1.0</td>\n",
       "      <td>46.0</td>\n",
       "      <td>320</td>\n",
       "      <td>Invite-email</td>\n",
       "      <td>198618.0</td>\n",
       "    </tr>\n",
       "  </tbody>\n",
       "</table>\n",
       "<p>5 rows × 24 columns</p>\n",
       "</div>"
      ],
      "text/plain": [
       "  target_default                   score_1                   score_2  score_3  \\\n",
       "0          False  1Rk8w4Ucd5yR3KcqZzLdow==  IOVu8au3ISbo6+zmfnYwMg==    350.0   \n",
       "1          False  DGCQep2AE5QRkNCshIAlFQ==  SaamrHMo23l/3TwXOWgVzw==    370.0   \n",
       "2           True  DGCQep2AE5QRkNCshIAlFQ==  Fv28Bz0YRTVAT5kl1bAV6g==    360.0   \n",
       "3          False  1Rk8w4Ucd5yR3KcqZzLdow==  dCm9hFKfdRm7ej3jW+gyxw==    510.0   \n",
       "4          False  8k8UDR4Yx0qasAjkGrUZLw==  +CxEO4w7jv3QPI/BQbyqAA==    500.0   \n",
       "\n",
       "      score_4   score_5     score_6  risk_rate  last_amount_borrowed  \\\n",
       "0  101.800832  0.259555  108.427273       0.40              25033.92   \n",
       "1   97.062615  0.942655   92.002546       0.24                   NaN   \n",
       "2  100.027073  0.351918  112.892453       0.29               7207.92   \n",
       "3  101.599485  0.987673   94.902491       0.32                   NaN   \n",
       "4   98.474289  0.532539  118.126207       0.18                   NaN   \n",
       "\n",
       "   last_borrowed_in_months  ...  n_bankruptcies  n_defaulted_loans n_accounts  \\\n",
       "0                     36.0  ...             0.0                0.0       18.0   \n",
       "1                      NaN  ...             0.0                0.0       14.0   \n",
       "2                     36.0  ...             0.0                0.0       10.0   \n",
       "3                      NaN  ...             1.0                0.0       19.0   \n",
       "4                      NaN  ...             0.0                0.0       11.0   \n",
       "\n",
       "   application_time_in_funnel  \\\n",
       "0                         444   \n",
       "1                         346   \n",
       "2                           6   \n",
       "3                         406   \n",
       "4                         240   \n",
       "\n",
       "   external_data_provider_credit_checks_last_month  \\\n",
       "0                                                2   \n",
       "1                                                1   \n",
       "2                                                2   \n",
       "3                                                3   \n",
       "4                                                2   \n",
       "\n",
       "   external_data_provider_credit_checks_last_year  \\\n",
       "0                                             0.0   \n",
       "1                                             0.0   \n",
       "2                                             NaN   \n",
       "3                                             NaN   \n",
       "4                                             1.0   \n",
       "\n",
       "   external_data_provider_email_seen_before  \\\n",
       "0                                      51.0   \n",
       "1                                      17.0   \n",
       "2                                       9.0   \n",
       "3                                      38.0   \n",
       "4                                      46.0   \n",
       "\n",
       "   external_data_provider_fraud_score  marketing_channel  reported_income  \n",
       "0                                 645       Invite-email          57849.0  \n",
       "1                                 243   Radio-commercial           4902.0  \n",
       "2                                  65       Waiting-list         163679.0  \n",
       "3                                 815       Waiting-list           1086.0  \n",
       "4                                 320       Invite-email         198618.0  \n",
       "\n",
       "[5 rows x 24 columns]"
      ]
     },
     "execution_count": 14,
     "metadata": {},
     "output_type": "execute_result"
    }
   ],
   "source": [
    "df_clean.head()"
   ]
  },
  {
   "cell_type": "code",
   "execution_count": 15,
   "metadata": {},
   "outputs": [
    {
     "data": {
      "text/plain": [
       "last_amount_borrowed                               0.661412\n",
       "last_borrowed_in_months                            0.661412\n",
       "ok_since                                           0.586114\n",
       "external_data_provider_credit_checks_last_year     0.335905\n",
       "credit_limit                                       0.314056\n",
       "facebook_profile                                   0.099495\n",
       "marketing_channel                                  0.079251\n",
       "external_data_provider_email_seen_before           0.049951\n",
       "n_bankruptcies                                     0.003234\n",
       "reported_income                                    0.001581\n",
       "n_defaulted_loans                                  0.000287\n",
       "score_6                                            0.000000\n",
       "score_4                                            0.000000\n",
       "score_3                                            0.000000\n",
       "score_2                                            0.000000\n",
       "score_1                                            0.000000\n",
       "score_5                                            0.000000\n",
       "income                                             0.000000\n",
       "risk_rate                                          0.000000\n",
       "n_accounts                                         0.000000\n",
       "application_time_in_funnel                         0.000000\n",
       "external_data_provider_credit_checks_last_month    0.000000\n",
       "external_data_provider_fraud_score                 0.000000\n",
       "target_default                                     0.000000\n",
       "dtype: float64"
      ]
     },
     "execution_count": 15,
     "metadata": {},
     "output_type": "execute_result"
    }
   ],
   "source": [
    "(df_clean.isnull().sum()/len(df_clean)).sort_values(ascending=False)"
   ]
  },
  {
   "cell_type": "markdown",
   "metadata": {},
   "source": [
    "Tratar valores nulos para variáveis núméricas"
   ]
  },
  {
   "cell_type": "code",
   "execution_count": 16,
   "metadata": {},
   "outputs": [
    {
     "data": {
      "image/png": "[encoded data removed]",
      "text/plain": [
       "<Figure size 1008x576 with 6 Axes>"
      ]
     },
     "metadata": {},
     "output_type": "display_data"
    }
   ],
   "source": [
    "fig, (ax1, ax2, ax3, ax4, ax5, ax6) = plt.subplots(6,1, figsize=(14,8))\n",
    "\n",
    "sns.boxplot(data=df_clean, x='last_amount_borrowed', ax=ax1)\n",
    "sns.boxplot(data=df_clean, x='last_borrowed_in_months', ax=ax2)\n",
    "sns.boxplot(data=df_clean, x='ok_since', ax=ax3)\n",
    "sns.boxplot(data=df_clean, x='credit_limit', ax=ax4)\n",
    "sns.boxplot(data=df_clean, x='reported_income', ax=ax5)\n",
    "sns.boxplot(data=df_clean, x='n_defaulted_loans', ax=ax6)\n",
    "\n",
    "\n",
    "ax1.set_title('Last Borrowed')\n",
    "ax2.set_title('Last Borrowed In Month')\n",
    "ax3.set_title('Ok Since')\n",
    "ax4.set_title('Credit Limit');\n",
    "ax5.set_title('Reported Income');\n",
    "ax6.set_title('n_defaulted_loans')\n",
    "plt.tight_layout()"
   ]
  },
  {
   "cell_type": "code",
   "execution_count": 17,
   "metadata": {},
   "outputs": [],
   "source": [
    "#completar valores nulos para as variáveis numéricas\n",
    "df_clean['last_amount_borrowed'].fillna(df_clean['last_amount_borrowed'].mean(), axis=0, inplace=True)\n",
    "df_clean['last_borrowed_in_months'].fillna(df_clean['last_borrowed_in_months'].mean(), axis=0, inplace=True)\n",
    "df_clean['ok_since'].fillna(df_clean['ok_since'].mean(), axis=0, inplace=True)\n",
    "df_clean['credit_limit'].fillna(df_clean['credit_limit'].median(), axis=0, inplace=True)\n",
    "df_clean['external_data_provider_credit_checks_last_year'].fillna(df_clean['external_data_provider_credit_checks_last_year'].mean(), axis=0, inplace=True)                                \n",
    "df_clean['reported_income'].fillna(df_clean['reported_income'].mean(), axis=0, inplace=True)      \n",
    "df_clean['external_data_provider_email_seen_before'].fillna(df_clean['external_data_provider_email_seen_before'].mean(), axis=0, inplace=True)                                \n",
    "df_clean['n_bankruptcies'].fillna(df_clean['n_bankruptcies'].mean(), axis=0, inplace=True)                                \n",
    "df_clean['n_defaulted_loans'].fillna(df_clean['n_defaulted_loans'].mean(), axis=0, inplace=True)                                \n"
   ]
  },
  {
   "cell_type": "code",
   "execution_count": 18,
   "metadata": {},
   "outputs": [
    {
     "data": {
      "text/plain": [
       "0    Website\n",
       "dtype: object"
      ]
     },
     "execution_count": 18,
     "metadata": {},
     "output_type": "execute_result"
    }
   ],
   "source": [
    "df_clean['facebook_profile'].mode()\n",
    "df_clean['marketing_channel'].mode()"
   ]
  },
  {
   "cell_type": "code",
   "execution_count": 19,
   "metadata": {},
   "outputs": [],
   "source": [
    "#completar valores nulos para as variáveis categóricas\n",
    "df_clean['facebook_profile'].fillna(False, axis=0, inplace=True)                                \n",
    "df_clean['marketing_channel'].fillna('Website', axis=0, inplace=True)                                "
   ]
  },
  {
   "cell_type": "code",
   "execution_count": 20,
   "metadata": {},
   "outputs": [
    {
     "data": {
      "text/plain": [
       "target_default                                     0\n",
       "score_1                                            0\n",
       "score_2                                            0\n",
       "score_3                                            0\n",
       "score_4                                            0\n",
       "score_5                                            0\n",
       "score_6                                            0\n",
       "risk_rate                                          0\n",
       "last_amount_borrowed                               0\n",
       "last_borrowed_in_months                            0\n",
       "credit_limit                                       0\n",
       "income                                             0\n",
       "facebook_profile                                   0\n",
       "ok_since                                           0\n",
       "n_bankruptcies                                     0\n",
       "n_defaulted_loans                                  0\n",
       "n_accounts                                         0\n",
       "application_time_in_funnel                         0\n",
       "external_data_provider_credit_checks_last_month    0\n",
       "external_data_provider_credit_checks_last_year     0\n",
       "external_data_provider_email_seen_before           0\n",
       "external_data_provider_fraud_score                 0\n",
       "marketing_channel                                  0\n",
       "reported_income                                    0\n",
       "dtype: int64"
      ]
     },
     "execution_count": 20,
     "metadata": {},
     "output_type": "execute_result"
    }
   ],
   "source": [
    "df_clean.isnull().sum()"
   ]
  },
  {
   "cell_type": "code",
   "execution_count": 21,
   "metadata": {},
   "outputs": [
    {
     "data": {
      "text/plain": [
       "count    4.174100e+04\n",
       "mean     1.052261e+13\n",
       "std      2.581893e+14\n",
       "min      4.030000e+02\n",
       "25%      5.091000e+04\n",
       "50%      1.016230e+05\n",
       "75%      1.512480e+05\n",
       "max      6.355500e+15\n",
       "Name: reported_income, dtype: float64"
      ]
     },
     "execution_count": 21,
     "metadata": {},
     "output_type": "execute_result"
    }
   ],
   "source": [
    "df_clean['reported_income'].describe()"
   ]
  },
  {
   "cell_type": "markdown",
   "metadata": {},
   "source": [
    "A variável reported_income possi valores muito discrepantes, vamos substituir esses valores."
   ]
  },
  {
   "cell_type": "markdown",
   "metadata": {},
   "source": [
    "### 4.2 Preparando os dados para o modelo"
   ]
  },
  {
   "cell_type": "code",
   "execution_count": 22,
   "metadata": {},
   "outputs": [],
   "source": [
    "df_norm = df_clean.copy()\n",
    "from sklearn.preprocessing import StandardScaler\n",
    "scaler = StandardScaler()"
   ]
  },
  {
   "cell_type": "code",
   "execution_count": 23,
   "metadata": {},
   "outputs": [],
   "source": [
    "var_num = df_clean.select_dtypes('float', 'int')\n",
    "var_num = var_num.columns"
   ]
  },
  {
   "cell_type": "code",
   "execution_count": 24,
   "metadata": {},
   "outputs": [
    {
     "data": {
      "text/html": [
       "<div>\n",
       "<style scoped>\n",
       "    .dataframe tbody tr th:only-of-type {\n",
       "        vertical-align: middle;\n",
       "    }\n",
       "\n",
       "    .dataframe tbody tr th {\n",
       "        vertical-align: top;\n",
       "    }\n",
       "\n",
       "    .dataframe thead th {\n",
       "        text-align: right;\n",
       "    }\n",
       "</style>\n",
       "<table border=\"1\" class=\"dataframe\">\n",
       "  <thead>\n",
       "    <tr style=\"text-align: right;\">\n",
       "      <th></th>\n",
       "      <th>target_default</th>\n",
       "      <th>score_1</th>\n",
       "      <th>score_2</th>\n",
       "      <th>score_3</th>\n",
       "      <th>score_4</th>\n",
       "      <th>score_5</th>\n",
       "      <th>score_6</th>\n",
       "      <th>risk_rate</th>\n",
       "      <th>last_amount_borrowed</th>\n",
       "      <th>last_borrowed_in_months</th>\n",
       "      <th>...</th>\n",
       "      <th>n_bankruptcies</th>\n",
       "      <th>n_defaulted_loans</th>\n",
       "      <th>n_accounts</th>\n",
       "      <th>application_time_in_funnel</th>\n",
       "      <th>external_data_provider_credit_checks_last_month</th>\n",
       "      <th>external_data_provider_credit_checks_last_year</th>\n",
       "      <th>external_data_provider_email_seen_before</th>\n",
       "      <th>external_data_provider_fraud_score</th>\n",
       "      <th>marketing_channel</th>\n",
       "      <th>reported_income</th>\n",
       "    </tr>\n",
       "  </thead>\n",
       "  <tbody>\n",
       "    <tr>\n",
       "      <th>0</th>\n",
       "      <td>False</td>\n",
       "      <td>1Rk8w4Ucd5yR3KcqZzLdow==</td>\n",
       "      <td>IOVu8au3ISbo6+zmfnYwMg==</td>\n",
       "      <td>0.032154</td>\n",
       "      <td>0.563484</td>\n",
       "      <td>-0.832617</td>\n",
       "      <td>0.848870</td>\n",
       "      <td>1.039282</td>\n",
       "      <td>2.540549</td>\n",
       "      <td>-8.355353e-01</td>\n",
       "      <td>...</td>\n",
       "      <td>-0.279532</td>\n",
       "      <td>-0.057709</td>\n",
       "      <td>1.604337</td>\n",
       "      <td>444</td>\n",
       "      <td>2</td>\n",
       "      <td>-1.237427e+00</td>\n",
       "      <td>1.328615</td>\n",
       "      <td>645</td>\n",
       "      <td>Invite-email</td>\n",
       "      <td>-0.040756</td>\n",
       "    </tr>\n",
       "    <tr>\n",
       "      <th>1</th>\n",
       "      <td>False</td>\n",
       "      <td>DGCQep2AE5QRkNCshIAlFQ==</td>\n",
       "      <td>SaamrHMo23l/3TwXOWgVzw==</td>\n",
       "      <td>0.213805</td>\n",
       "      <td>-0.924750</td>\n",
       "      <td>1.538588</td>\n",
       "      <td>-0.789902</td>\n",
       "      <td>-0.536149</td>\n",
       "      <td>0.000000</td>\n",
       "      <td>-1.293876e-15</td>\n",
       "      <td>...</td>\n",
       "      <td>-0.279532</td>\n",
       "      <td>-0.057709</td>\n",
       "      <td>0.732520</td>\n",
       "      <td>346</td>\n",
       "      <td>1</td>\n",
       "      <td>-1.237427e+00</td>\n",
       "      <td>-0.619019</td>\n",
       "      <td>243</td>\n",
       "      <td>Radio-commercial</td>\n",
       "      <td>-0.040756</td>\n",
       "    </tr>\n",
       "    <tr>\n",
       "      <th>2</th>\n",
       "      <td>True</td>\n",
       "      <td>DGCQep2AE5QRkNCshIAlFQ==</td>\n",
       "      <td>Fv28Bz0YRTVAT5kl1bAV6g==</td>\n",
       "      <td>0.122980</td>\n",
       "      <td>0.006361</td>\n",
       "      <td>-0.512003</td>\n",
       "      <td>1.294382</td>\n",
       "      <td>-0.043827</td>\n",
       "      <td>-1.328282</td>\n",
       "      <td>-8.355353e-01</td>\n",
       "      <td>...</td>\n",
       "      <td>-0.279532</td>\n",
       "      <td>-0.057709</td>\n",
       "      <td>-0.139296</td>\n",
       "      <td>6</td>\n",
       "      <td>2</td>\n",
       "      <td>2.724835e-16</td>\n",
       "      <td>-1.077285</td>\n",
       "      <td>65</td>\n",
       "      <td>Waiting-list</td>\n",
       "      <td>-0.040756</td>\n",
       "    </tr>\n",
       "    <tr>\n",
       "      <th>3</th>\n",
       "      <td>False</td>\n",
       "      <td>1Rk8w4Ucd5yR3KcqZzLdow==</td>\n",
       "      <td>dCm9hFKfdRm7ej3jW+gyxw==</td>\n",
       "      <td>1.485366</td>\n",
       "      <td>0.500243</td>\n",
       "      <td>1.694857</td>\n",
       "      <td>-0.500560</td>\n",
       "      <td>0.251567</td>\n",
       "      <td>0.000000</td>\n",
       "      <td>-1.293876e-15</td>\n",
       "      <td>...</td>\n",
       "      <td>3.365154</td>\n",
       "      <td>-0.057709</td>\n",
       "      <td>1.822291</td>\n",
       "      <td>406</td>\n",
       "      <td>3</td>\n",
       "      <td>2.724835e-16</td>\n",
       "      <td>0.583931</td>\n",
       "      <td>815</td>\n",
       "      <td>Waiting-list</td>\n",
       "      <td>-0.040756</td>\n",
       "    </tr>\n",
       "    <tr>\n",
       "      <th>4</th>\n",
       "      <td>False</td>\n",
       "      <td>8k8UDR4Yx0qasAjkGrUZLw==</td>\n",
       "      <td>+CxEO4w7jv3QPI/BQbyqAA==</td>\n",
       "      <td>1.394540</td>\n",
       "      <td>-0.481355</td>\n",
       "      <td>0.114978</td>\n",
       "      <td>1.816579</td>\n",
       "      <td>-1.126935</td>\n",
       "      <td>0.000000</td>\n",
       "      <td>-1.293876e-15</td>\n",
       "      <td>...</td>\n",
       "      <td>-0.279532</td>\n",
       "      <td>-0.057709</td>\n",
       "      <td>0.078658</td>\n",
       "      <td>240</td>\n",
       "      <td>2</td>\n",
       "      <td>1.216886e+00</td>\n",
       "      <td>1.042198</td>\n",
       "      <td>320</td>\n",
       "      <td>Invite-email</td>\n",
       "      <td>-0.040756</td>\n",
       "    </tr>\n",
       "  </tbody>\n",
       "</table>\n",
       "<p>5 rows × 24 columns</p>\n",
       "</div>"
      ],
      "text/plain": [
       "  target_default                   score_1                   score_2  \\\n",
       "0          False  1Rk8w4Ucd5yR3KcqZzLdow==  IOVu8au3ISbo6+zmfnYwMg==   \n",
       "1          False  DGCQep2AE5QRkNCshIAlFQ==  SaamrHMo23l/3TwXOWgVzw==   \n",
       "2           True  DGCQep2AE5QRkNCshIAlFQ==  Fv28Bz0YRTVAT5kl1bAV6g==   \n",
       "3          False  1Rk8w4Ucd5yR3KcqZzLdow==  dCm9hFKfdRm7ej3jW+gyxw==   \n",
       "4          False  8k8UDR4Yx0qasAjkGrUZLw==  +CxEO4w7jv3QPI/BQbyqAA==   \n",
       "\n",
       "    score_3   score_4   score_5   score_6  risk_rate  last_amount_borrowed  \\\n",
       "0  0.032154  0.563484 -0.832617  0.848870   1.039282              2.540549   \n",
       "1  0.213805 -0.924750  1.538588 -0.789902  -0.536149              0.000000   \n",
       "2  0.122980  0.006361 -0.512003  1.294382  -0.043827             -1.328282   \n",
       "3  1.485366  0.500243  1.694857 -0.500560   0.251567              0.000000   \n",
       "4  1.394540 -0.481355  0.114978  1.816579  -1.126935              0.000000   \n",
       "\n",
       "   last_borrowed_in_months  ...  n_bankruptcies  n_defaulted_loans  \\\n",
       "0            -8.355353e-01  ...       -0.279532          -0.057709   \n",
       "1            -1.293876e-15  ...       -0.279532          -0.057709   \n",
       "2            -8.355353e-01  ...       -0.279532          -0.057709   \n",
       "3            -1.293876e-15  ...        3.365154          -0.057709   \n",
       "4            -1.293876e-15  ...       -0.279532          -0.057709   \n",
       "\n",
       "   n_accounts  application_time_in_funnel  \\\n",
       "0    1.604337                         444   \n",
       "1    0.732520                         346   \n",
       "2   -0.139296                           6   \n",
       "3    1.822291                         406   \n",
       "4    0.078658                         240   \n",
       "\n",
       "   external_data_provider_credit_checks_last_month  \\\n",
       "0                                                2   \n",
       "1                                                1   \n",
       "2                                                2   \n",
       "3                                                3   \n",
       "4                                                2   \n",
       "\n",
       "   external_data_provider_credit_checks_last_year  \\\n",
       "0                                   -1.237427e+00   \n",
       "1                                   -1.237427e+00   \n",
       "2                                    2.724835e-16   \n",
       "3                                    2.724835e-16   \n",
       "4                                    1.216886e+00   \n",
       "\n",
       "   external_data_provider_email_seen_before  \\\n",
       "0                                  1.328615   \n",
       "1                                 -0.619019   \n",
       "2                                 -1.077285   \n",
       "3                                  0.583931   \n",
       "4                                  1.042198   \n",
       "\n",
       "   external_data_provider_fraud_score  marketing_channel  reported_income  \n",
       "0                                 645       Invite-email        -0.040756  \n",
       "1                                 243   Radio-commercial        -0.040756  \n",
       "2                                  65       Waiting-list        -0.040756  \n",
       "3                                 815       Waiting-list        -0.040756  \n",
       "4                                 320       Invite-email        -0.040756  \n",
       "\n",
       "[5 rows x 24 columns]"
      ]
     },
     "execution_count": 24,
     "metadata": {},
     "output_type": "execute_result"
    }
   ],
   "source": [
    "df_norm[var_num] = scaler.fit_transform(df_norm[var_num].values)\n",
    "df_norm.head()"
   ]
  },
  {
   "cell_type": "markdown",
   "metadata": {},
   "source": [
    "Agora, vamos utilizar o labelEncoder em nossas variáveis categóricas."
   ]
  },
  {
   "cell_type": "code",
   "execution_count": 25,
   "metadata": {},
   "outputs": [],
   "source": [
    "encoder = LabelEncoder()\n",
    "\n",
    "var_cat = ['score_1', 'score_2', 'facebook_profile', 'marketing_channel', 'target_default']\n"
   ]
  },
  {
   "cell_type": "code",
   "execution_count": 26,
   "metadata": {},
   "outputs": [],
   "source": [
    "for col in var_cat:\n",
    "    df_norm[col] = encoder.fit_transform(df_norm[col])"
   ]
  },
  {
   "cell_type": "code",
   "execution_count": 27,
   "metadata": {},
   "outputs": [
    {
     "data": {
      "text/html": [
       "<div>\n",
       "<style scoped>\n",
       "    .dataframe tbody tr th:only-of-type {\n",
       "        vertical-align: middle;\n",
       "    }\n",
       "\n",
       "    .dataframe tbody tr th {\n",
       "        vertical-align: top;\n",
       "    }\n",
       "\n",
       "    .dataframe thead th {\n",
       "        text-align: right;\n",
       "    }\n",
       "</style>\n",
       "<table border=\"1\" class=\"dataframe\">\n",
       "  <thead>\n",
       "    <tr style=\"text-align: right;\">\n",
       "      <th></th>\n",
       "      <th>target_default</th>\n",
       "      <th>score_1</th>\n",
       "      <th>score_2</th>\n",
       "      <th>score_3</th>\n",
       "      <th>score_4</th>\n",
       "      <th>score_5</th>\n",
       "      <th>score_6</th>\n",
       "      <th>risk_rate</th>\n",
       "      <th>last_amount_borrowed</th>\n",
       "      <th>last_borrowed_in_months</th>\n",
       "      <th>...</th>\n",
       "      <th>n_bankruptcies</th>\n",
       "      <th>n_defaulted_loans</th>\n",
       "      <th>n_accounts</th>\n",
       "      <th>application_time_in_funnel</th>\n",
       "      <th>external_data_provider_credit_checks_last_month</th>\n",
       "      <th>external_data_provider_credit_checks_last_year</th>\n",
       "      <th>external_data_provider_email_seen_before</th>\n",
       "      <th>external_data_provider_fraud_score</th>\n",
       "      <th>marketing_channel</th>\n",
       "      <th>reported_income</th>\n",
       "    </tr>\n",
       "  </thead>\n",
       "  <tbody>\n",
       "    <tr>\n",
       "      <th>0</th>\n",
       "      <td>0</td>\n",
       "      <td>0</td>\n",
       "      <td>10</td>\n",
       "      <td>0.032154</td>\n",
       "      <td>0.563484</td>\n",
       "      <td>-0.832617</td>\n",
       "      <td>0.848870</td>\n",
       "      <td>1.039282</td>\n",
       "      <td>2.540549</td>\n",
       "      <td>-8.355353e-01</td>\n",
       "      <td>...</td>\n",
       "      <td>-0.279532</td>\n",
       "      <td>-0.057709</td>\n",
       "      <td>1.604337</td>\n",
       "      <td>444</td>\n",
       "      <td>2</td>\n",
       "      <td>-1.237427e+00</td>\n",
       "      <td>1.328615</td>\n",
       "      <td>645</td>\n",
       "      <td>2</td>\n",
       "      <td>-0.040756</td>\n",
       "    </tr>\n",
       "    <tr>\n",
       "      <th>1</th>\n",
       "      <td>0</td>\n",
       "      <td>3</td>\n",
       "      <td>16</td>\n",
       "      <td>0.213805</td>\n",
       "      <td>-0.924750</td>\n",
       "      <td>1.538588</td>\n",
       "      <td>-0.789902</td>\n",
       "      <td>-0.536149</td>\n",
       "      <td>0.000000</td>\n",
       "      <td>-1.293876e-15</td>\n",
       "      <td>...</td>\n",
       "      <td>-0.279532</td>\n",
       "      <td>-0.057709</td>\n",
       "      <td>0.732520</td>\n",
       "      <td>346</td>\n",
       "      <td>1</td>\n",
       "      <td>-1.237427e+00</td>\n",
       "      <td>-0.619019</td>\n",
       "      <td>243</td>\n",
       "      <td>5</td>\n",
       "      <td>-0.040756</td>\n",
       "    </tr>\n",
       "    <tr>\n",
       "      <th>2</th>\n",
       "      <td>1</td>\n",
       "      <td>3</td>\n",
       "      <td>9</td>\n",
       "      <td>0.122980</td>\n",
       "      <td>0.006361</td>\n",
       "      <td>-0.512003</td>\n",
       "      <td>1.294382</td>\n",
       "      <td>-0.043827</td>\n",
       "      <td>-1.328282</td>\n",
       "      <td>-8.355353e-01</td>\n",
       "      <td>...</td>\n",
       "      <td>-0.279532</td>\n",
       "      <td>-0.057709</td>\n",
       "      <td>-0.139296</td>\n",
       "      <td>6</td>\n",
       "      <td>2</td>\n",
       "      <td>2.724835e-16</td>\n",
       "      <td>-1.077285</td>\n",
       "      <td>65</td>\n",
       "      <td>7</td>\n",
       "      <td>-0.040756</td>\n",
       "    </tr>\n",
       "    <tr>\n",
       "      <th>3</th>\n",
       "      <td>0</td>\n",
       "      <td>0</td>\n",
       "      <td>21</td>\n",
       "      <td>1.485366</td>\n",
       "      <td>0.500243</td>\n",
       "      <td>1.694857</td>\n",
       "      <td>-0.500560</td>\n",
       "      <td>0.251567</td>\n",
       "      <td>0.000000</td>\n",
       "      <td>-1.293876e-15</td>\n",
       "      <td>...</td>\n",
       "      <td>3.365154</td>\n",
       "      <td>-0.057709</td>\n",
       "      <td>1.822291</td>\n",
       "      <td>406</td>\n",
       "      <td>3</td>\n",
       "      <td>2.724835e-16</td>\n",
       "      <td>0.583931</td>\n",
       "      <td>815</td>\n",
       "      <td>7</td>\n",
       "      <td>-0.040756</td>\n",
       "    </tr>\n",
       "    <tr>\n",
       "      <th>4</th>\n",
       "      <td>0</td>\n",
       "      <td>2</td>\n",
       "      <td>1</td>\n",
       "      <td>1.394540</td>\n",
       "      <td>-0.481355</td>\n",
       "      <td>0.114978</td>\n",
       "      <td>1.816579</td>\n",
       "      <td>-1.126935</td>\n",
       "      <td>0.000000</td>\n",
       "      <td>-1.293876e-15</td>\n",
       "      <td>...</td>\n",
       "      <td>-0.279532</td>\n",
       "      <td>-0.057709</td>\n",
       "      <td>0.078658</td>\n",
       "      <td>240</td>\n",
       "      <td>2</td>\n",
       "      <td>1.216886e+00</td>\n",
       "      <td>1.042198</td>\n",
       "      <td>320</td>\n",
       "      <td>2</td>\n",
       "      <td>-0.040756</td>\n",
       "    </tr>\n",
       "  </tbody>\n",
       "</table>\n",
       "<p>5 rows × 24 columns</p>\n",
       "</div>"
      ],
      "text/plain": [
       "   target_default  score_1  score_2   score_3   score_4   score_5   score_6  \\\n",
       "0               0        0       10  0.032154  0.563484 -0.832617  0.848870   \n",
       "1               0        3       16  0.213805 -0.924750  1.538588 -0.789902   \n",
       "2               1        3        9  0.122980  0.006361 -0.512003  1.294382   \n",
       "3               0        0       21  1.485366  0.500243  1.694857 -0.500560   \n",
       "4               0        2        1  1.394540 -0.481355  0.114978  1.816579   \n",
       "\n",
       "   risk_rate  last_amount_borrowed  last_borrowed_in_months  ...  \\\n",
       "0   1.039282              2.540549            -8.355353e-01  ...   \n",
       "1  -0.536149              0.000000            -1.293876e-15  ...   \n",
       "2  -0.043827             -1.328282            -8.355353e-01  ...   \n",
       "3   0.251567              0.000000            -1.293876e-15  ...   \n",
       "4  -1.126935              0.000000            -1.293876e-15  ...   \n",
       "\n",
       "   n_bankruptcies  n_defaulted_loans  n_accounts  application_time_in_funnel  \\\n",
       "0       -0.279532          -0.057709    1.604337                         444   \n",
       "1       -0.279532          -0.057709    0.732520                         346   \n",
       "2       -0.279532          -0.057709   -0.139296                           6   \n",
       "3        3.365154          -0.057709    1.822291                         406   \n",
       "4       -0.279532          -0.057709    0.078658                         240   \n",
       "\n",
       "   external_data_provider_credit_checks_last_month  \\\n",
       "0                                                2   \n",
       "1                                                1   \n",
       "2                                                2   \n",
       "3                                                3   \n",
       "4                                                2   \n",
       "\n",
       "   external_data_provider_credit_checks_last_year  \\\n",
       "0                                   -1.237427e+00   \n",
       "1                                   -1.237427e+00   \n",
       "2                                    2.724835e-16   \n",
       "3                                    2.724835e-16   \n",
       "4                                    1.216886e+00   \n",
       "\n",
       "   external_data_provider_email_seen_before  \\\n",
       "0                                  1.328615   \n",
       "1                                 -0.619019   \n",
       "2                                 -1.077285   \n",
       "3                                  0.583931   \n",
       "4                                  1.042198   \n",
       "\n",
       "   external_data_provider_fraud_score  marketing_channel  reported_income  \n",
       "0                                 645                  2        -0.040756  \n",
       "1                                 243                  5        -0.040756  \n",
       "2                                  65                  7        -0.040756  \n",
       "3                                 815                  7        -0.040756  \n",
       "4                                 320                  2        -0.040756  \n",
       "\n",
       "[5 rows x 24 columns]"
      ]
     },
     "execution_count": 27,
     "metadata": {},
     "output_type": "execute_result"
    }
   ],
   "source": [
    "df_norm.head()"
   ]
  },
  {
   "cell_type": "code",
   "execution_count": 68,
   "metadata": {},
   "outputs": [],
   "source": [
    "corr = df_norm.corr()"
   ]
  },
  {
   "cell_type": "code",
   "execution_count": 74,
   "metadata": {},
   "outputs": [
    {
     "data": {
      "image/png": "[encoded data removed]",
      "text/plain": [
       "<Figure size 864x864 with 2 Axes>"
      ]
     },
     "metadata": {},
     "output_type": "display_data"
    }
   ],
   "source": [
    "fig, ax = plt.subplots(figsize=(12,12))\n",
    "sns.heatmap(corr, square=True, ax=ax, cmap='coolwarm');"
   ]
  },
  {
   "cell_type": "markdown",
   "metadata": {},
   "source": [
    "### 5. Construindo o modelo base"
   ]
  },
  {
   "cell_type": "code",
   "execution_count": 28,
   "metadata": {},
   "outputs": [],
   "source": [
    "!pip install scikit-plot -q"
   ]
  },
  {
   "cell_type": "markdown",
   "metadata": {},
   "source": [
    "Importando as bibliotecas necessárias\n"
   ]
  },
  {
   "cell_type": "code",
   "execution_count": 29,
   "metadata": {},
   "outputs": [],
   "source": [
    "#importar as bibliotecas necessárias\n",
    "from sklearn.model_selection import train_test_split\n",
    "from sklearn.preprocessing import LabelEncoder\n",
    "from sklearn.metrics import classification_report\n",
    "from sklearn.metrics import confusion_matrix\n",
    "import scikitplot as skplt\n",
    "from sklearn.metrics import roc_auc_score, accuracy_score, recall_score\n",
    "from sklearn.model_selection import cross_val_score\n"
   ]
  },
  {
   "cell_type": "markdown",
   "metadata": {},
   "source": [
    "Para treina o modelo de Machine Learning é necessário dividir os dados entre Treino e Teste."
   ]
  },
  {
   "cell_type": "code",
   "execution_count": 30,
   "metadata": {},
   "outputs": [],
   "source": [
    "#separa dados alvo \n",
    "X = df_norm.drop('target_default', axis=1)\n",
    "y = df_norm.target_default\n",
    "\n",
    "# dividir entre treino e teste\n",
    "X_train, X_test, y_train, y_test = train_test_split(X,y)"
   ]
  },
  {
   "cell_type": "markdown",
   "metadata": {},
   "source": [
    "Criando o modelo de base, que nos informará se os esforços de otimização estão valendo a pena."
   ]
  },
  {
   "cell_type": "code",
   "execution_count": 31,
   "metadata": {},
   "outputs": [
    {
     "name": "stdout",
     "output_type": "stream",
     "text": [
      "Acurácia de: 0.743 (+/- 0.00)\n",
      "Recall de: 0.253 (+/- 0.02)\n"
     ]
    }
   ],
   "source": [
    "from sklearn.tree import DecisionTreeClassifier\n",
    "\n",
    "# construindo função de avaliação do baseline\n",
    "def validation(X, y, model, quite=False):\n",
    "\n",
    "    X = np.array(X)\n",
    "    y = np.array(y)\n",
    "    scores = cross_val_score(model, X, y, scoring='accuracy')\n",
    "    scores_recall = cross_val_score(model, X,y, scoring='recall')\n",
    "\n",
    "    if quite == False:\n",
    "        print(\"Acurácia de: {:.3f} (+/- {:.2f})\".format(scores.mean(), scores.std()))\n",
    "        print(\"Recall de: {:.3f} (+/- {:.2f})\".format(scores_recall.mean(), scores_recall.std()))\n",
    "           \n",
    "    return scores.mean()\n",
    "\n",
    "# criar baseline e ver desempenho\n",
    "dt = DecisionTreeClassifier()\n",
    "score_baseline = validation(X_train, y_train, dt) "
   ]
  },
  {
   "cell_type": "markdown",
   "metadata": {},
   "source": [
    "O modelo de Decision Tree possui uma acurácia de 0.743, porém, somente 0.253 de Recall."
   ]
  },
  {
   "cell_type": "markdown",
   "metadata": {},
   "source": [
    "### 5.2 Otimizando o modelo de machine learning"
   ]
  },
  {
   "cell_type": "code",
   "execution_count": 32,
   "metadata": {},
   "outputs": [],
   "source": [
    "!pip install imbalanced-learn -q\n",
    "!pip install delayed -q"
   ]
  },
  {
   "cell_type": "markdown",
   "metadata": {},
   "source": [
    "Como vimos acima, os dados da variável alvo estão desbalanceados. Vamos balancear esses dados para que o modelo escolhido não tenha overfiting"
   ]
  },
  {
   "cell_type": "code",
   "execution_count": 33,
   "metadata": {},
   "outputs": [
    {
     "data": {
      "image/png": "[encoded data removed]",
      "text/plain": [
       "<Figure size 432x288 with 1 Axes>"
      ]
     },
     "metadata": {},
     "output_type": "display_data"
    },
    {
     "name": "stdout",
     "output_type": "stream",
     "text": [
      "[5046 5046]\n"
     ]
    }
   ],
   "source": [
    "from imblearn.under_sampling import RandomUnderSampler\n",
    "\n",
    "undersample = RandomUnderSampler()\n",
    "\n",
    "X_under, y_under = undersample.fit_resample(X_train, y_train)\n",
    "\n",
    "sns.countplot(x=y_under)\n",
    "plt.show()\n",
    "print(np.bincount(y_under))"
   ]
  },
  {
   "cell_type": "markdown",
   "metadata": {},
   "source": [
    "Com os dados balanceados, vamos testar alguns modelos e escolher qual possuir a melhor performance."
   ]
  },
  {
   "cell_type": "code",
   "execution_count": 34,
   "metadata": {},
   "outputs": [],
   "source": [
    "#modelos \n",
    "from sklearn.svm import LinearSVC\n",
    "from sklearn.linear_model import SGDClassifier\n",
    "from sklearn.linear_model import LogisticRegression\n",
    "from sklearn.ensemble import RandomForestClassifier\n",
    "from sklearn.model_selection import GridSearchCV\n",
    "\n",
    "svc = LinearSVC()\n",
    "sgdc = SGDClassifier()\n",
    "lr = LogisticRegression()\n",
    "rf = RandomForestClassifier()\n"
   ]
  },
  {
   "cell_type": "code",
   "execution_count": 35,
   "metadata": {},
   "outputs": [
    {
     "name": "stdout",
     "output_type": "stream",
     "text": [
      "LinearSVC\n",
      "Acurácia de: 0.506 (+/- 0.01)\n",
      "Recall de: 0.529 (+/- 0.38)\n",
      "\n",
      "\n",
      "SGDClassifier\n",
      "Acurácia de: 0.511 (+/- 0.01)\n",
      "Recall de: 0.656 (+/- 0.38)\n",
      "\n",
      "\n",
      "LogisticRegression\n",
      "Acurácia de: 0.617 (+/- 0.01)\n",
      "Recall de: 0.619 (+/- 0.01)\n",
      "\n",
      "\n",
      "RandomForestClassifier\n",
      "Acurácia de: 0.634 (+/- 0.01)\n",
      "Recall de: 0.611 (+/- 0.01)\n",
      "\n",
      "\n",
      "DecisionTreeClassifier\n",
      "Acurácia de: 0.558 (+/- 0.01)\n",
      "Recall de: 0.564 (+/- 0.01)\n",
      "\n",
      "\n"
     ]
    }
   ],
   "source": [
    "modelos = [svc, sgdc, lr, rf, dt]\n",
    "\n",
    "for m in modelos:\n",
    "    print(m.__class__.__name__)\n",
    "    validation(X_under, y_under, m)\n",
    "    print('\\n')"
   ]
  },
  {
   "cell_type": "markdown",
   "metadata": {},
   "source": [
    "Baseado nos modelos testados, o modelo escolhido foi Logistic Regresssion. Vamos escolher os melhor parametros para ele."
   ]
  },
  {
   "cell_type": "markdown",
   "metadata": {},
   "source": [
    "### 5.3 Otimizando o modelo\n",
    "Após escolher o modelo, agora é hora de selecionar os melhores parâmetros para aumentar a perfomance do modelo criado."
   ]
  },
  {
   "cell_type": "code",
   "execution_count": 56,
   "metadata": {},
   "outputs": [
    {
     "data": {
      "text/plain": [
       "{'C': 1.0,\n",
       " 'class_weight': None,\n",
       " 'dual': False,\n",
       " 'fit_intercept': True,\n",
       " 'intercept_scaling': 1,\n",
       " 'l1_ratio': None,\n",
       " 'max_iter': 240,\n",
       " 'multi_class': 'auto',\n",
       " 'n_jobs': None,\n",
       " 'penalty': 'l2',\n",
       " 'random_state': None,\n",
       " 'solver': 'lbfgs',\n",
       " 'tol': 0.0001,\n",
       " 'verbose': 0,\n",
       " 'warm_start': False}"
      ]
     },
     "execution_count": 56,
     "metadata": {},
     "output_type": "execute_result"
    }
   ],
   "source": [
    "lr.get_params()"
   ]
  },
  {
   "cell_type": "code",
   "execution_count": 62,
   "metadata": {},
   "outputs": [
    {
     "name": "stdout",
     "output_type": "stream",
     "text": [
      "0.6129633300297325\n",
      "{'max_iter': 80}\n"
     ]
    }
   ],
   "source": [
    "# 1. parametrizando o modelo\n",
    "lr = LogisticRegression(random_state=20)\n",
    "\n",
    "# 2. Grid Search\n",
    "parameters = {'max_iter' : range(10,100,10)}\n",
    "\n",
    "clf = GridSearchCV(lr, parameters, scoring='recall')\n",
    "clf.fit(X_under, y_under)\n",
    "\n",
    "print(clf.best_score_)\n",
    "print(clf.best_params_)"
   ]
  },
  {
   "cell_type": "markdown",
   "metadata": {},
   "source": [
    "Vemos que a melhor perfomance para o modelo é max_iter de 80. Agora, vamos parametrizar o modelo final."
   ]
  },
  {
   "cell_type": "code",
   "execution_count": 63,
   "metadata": {},
   "outputs": [
    {
     "name": "stdout",
     "output_type": "stream",
     "text": [
      "Acurácia de: 0.611 (+/- 0.01)\n",
      "Recall de: 0.613 (+/- 0.02)\n"
     ]
    },
    {
     "data": {
      "text/plain": [
       "0.6114758653053671"
      ]
     },
     "execution_count": 63,
     "metadata": {},
     "output_type": "execute_result"
    }
   ],
   "source": [
    "lr = LogisticRegression(max_iter = 80)\n",
    "validation(X_under, y_under, lr)"
   ]
  },
  {
   "cell_type": "code",
   "execution_count": 67,
   "metadata": {},
   "outputs": [
    {
     "name": "stdout",
     "output_type": "stream",
     "text": [
      "              precision    recall  f1-score   support\n",
      "\n",
      "           0       0.91      0.63      0.74      8821\n",
      "           1       0.24      0.64      0.35      1615\n",
      "\n",
      "    accuracy                           0.63     10436\n",
      "   macro avg       0.57      0.63      0.55     10436\n",
      "weighted avg       0.80      0.63      0.68     10436\n",
      "\n",
      "Recall: 0.641\n",
      "\n",
      "Acurácia: 0.630\n",
      "\n",
      "AUC: 0.635\n",
      "\n"
     ]
    },
    {
     "data": {
      "image/png": "[encoded data removed]",
      "text/plain": [
       "<Figure size 432x288 with 2 Axes>"
      ]
     },
     "metadata": {},
     "output_type": "display_data"
    }
   ],
   "source": [
    "#1 importar modelos\n",
    "lr = LogisticRegression(max_iter = 80, l1_ratio='l1')\n",
    "\n",
    "#2 treinar modelo\n",
    "lr.fit(X_under, y_under)\n",
    "\n",
    "#3 ML nos dados de teste\n",
    "y_pred = lr.predict(X_test)\n",
    "y_proba = lr.predict_proba(X_test)\n",
    "\n",
    "#4 Classification Report\n",
    "print(classification_report(y_test, y_pred))\n",
    "print(\"Recall: {:.3f}\\n\".format(recall_score(y_test, y_pred)))\n",
    "print(\"Acurácia: {:.3f}\\n\".format(accuracy_score(y_test, y_pred)))\n",
    "print(\"AUC: {:.3}\\n\".format(roc_auc_score(y_test, y_pred)))\n",
    "\n",
    "# plotar matriz de confusão\n",
    "skplt.metrics.plot_confusion_matrix(y_test, y_pred, normalize=True,\n",
    "                                    title='Logistic Regression',\n",
    "                                    title_fontsize=16,\n",
    "                                    text_fontsize=14,\n",
    "                                    cmap='coolwarm');"
   ]
  },
  {
   "cell_type": "markdown",
   "metadata": {},
   "source": [
    "Quando usamos nosso modelo para realizar as previsões finais, ele possui uma acurácia de 0.63 e um Recall de 0.64. O recall é importante para prever de forma acertiva o cliente que será default."
   ]
  },
  {
   "cell_type": "markdown",
   "metadata": {},
   "source": [
    "### Conclusão"
   ]
  },
  {
   "cell_type": "markdown",
   "metadata": {},
   "source": [
    "Nesse projeto entendemos a importância de classificação dos clientes que serão possíveis default, dessa forma, reduzindo os problemas com a inadimplência futura. Utilizando um conjunto de dados abertos disponíveis na internet, foi realizado uma análise, tratamento e preparação dos dados para treinamento do modelo de machine learning. \n",
    "\n",
    "Após isso, nosso modelo foi testado e validado na base de teste, para que então fosse utilizado na base de testes e verificamos sua performance. Durante esse projeto vimos em uma menor escala uma parte do processo que ocorre na maioria das instituições financeiras, obviamente, o processo real de uma previsão de default envolve outros diversos fatores e otimizações constantes dos algorítimos por parte das instituições."
   ]
  }
 ],
 "metadata": {
  "kernelspec": {
   "display_name": "Python 3",
   "language": "python",
   "name": "python3"
  },
  "language_info": {
   "codemirror_mode": {
    "name": "ipython",
    "version": 3
   },
   "file_extension": ".py",
   "mimetype": "text/x-python",
   "name": "python",
   "nbconvert_exporter": "python",
   "pygments_lexer": "ipython3",
   "version": "3.7.7"
  },
  "widgets": {
   "application/vnd.jupyter.widget-state+json": {
    "state": {},
    "version_major": 2,
    "version_minor": 0
   }
  }
 },
 "nbformat": 4,
 "nbformat_minor": 4
}
