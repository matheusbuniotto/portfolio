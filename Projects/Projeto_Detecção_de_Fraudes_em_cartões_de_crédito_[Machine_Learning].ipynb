{
  "nbformat": 4,
  "nbformat_minor": 5,
  "metadata": {
    "kernelspec": {
      "display_name": "Python 3",
      "language": "python",
      "name": "python3"
    },
    "language_info": {
      "codemirror_mode": {
        "name": "ipython",
        "version": 3
      },
      "file_extension": ".py",
      "mimetype": "text/x-python",
      "name": "python",
      "nbconvert_exporter": "python",
      "pygments_lexer": "ipython3",
      "version": "3.8.5"
    },
    "colab": {
      "name": "Projeto Detecção de Fraudes em cartões de crédito [Machine Learning].ipynb",
      "provenance": [],
      "include_colab_link": true
    }
  },
  "cells": [
    {
      "cell_type": "markdown",
      "metadata": {
        "id": "view-in-github",
        "colab_type": "text"
      },
      "source": [
        "<a href=\"https://colab.research.google.com/github/matheusbuniotto/portfolio/blob/main/Projeto_Detec%C3%A7%C3%A3o_de_Fraudes_em_cart%C3%B5es_de_cr%C3%A9dito_%5BMachine_Learning%5D.ipynb\" target=\"_parent\"><img src=\"https://colab.research.google.com/assets/colab-badge.svg\" alt=\"Open In Colab\"/></a>"
      ]
    },
    {
      "cell_type": "markdown",
      "metadata": {
        "id": "rlWRAjUBgKLW"
      },
      "source": [
        "<a href=\"#\"><img src=\"https://github.com/matheusbuniotto/portifolio/blob/main/logo_vertical.png?raw=true\" width='210px' alt=\"logo\" border=\"0\"></a>\r\n",
        "#### **Projeto Machine Learning - Detecção de Fraude**\r\n",
        "#### *Data Science na Prática**\r\n",
        "*por Matheus Buniotto*\r\n",
        "\r\n",
        "---\r\n",
        "\r\n"
      ],
      "id": "rlWRAjUBgKLW"
    },
    {
      "cell_type": "markdown",
      "metadata": {
        "id": "GOO2hwZ7gLxT"
      },
      "source": [
        "# Detecção de Fraudes em Cartões de Crédito\r\n",
        "\r\n",
        "<a href=\"#\"><img src=\"https://github.com/matheusbuniotto/presets/blob/main/projeto-matheus-cart%C3%A3o.png?raw=true\" width='100%' alt=\"banner\" border=\"0\"></a>\r\n",
        "\r\n",
        "\r\n",
        "No ano de 2020 foi um ano de repleto de transformações digitais. Devido à pandemia e o isolamento social, ocorreu uma explosão no consumo de serviços de streaming, delivery e também nas compras realizadas através da internet. \r\n",
        "\r\n",
        "Esse aumento repentino no nas compras e consumos de serviços online trouxeram algumas consequências indesejadas, uma delas foi o **grande aumento no número de fraudes e golpes no ambiente digital.**\r\n",
        "\r\n",
        "Uma pesquisa realizada pela multinacional Visa aponta que o **Brasil é o segundo pais da América Latina no ranking de fraudes no comércio virtual**, perdendo apenas para o México.\r\n",
        "\r\n",
        "Com o aumento do consumo em ambiente digital os criminosos também aumentaram os ataques na modalidade phishing, que cresceu cerca de 80% durante a pandemia. O Phishing é usado para roubar informações pessoais de usuários através de e-mails ou redes sociais fingindo ser uma empresa ou serviço conhecido.\r\n",
        "\r\n",
        "Uma das formas implementadas pelos Bancos e fintech's para evitar que os clientes sejam vítimas de fraudes é a utilização de a**lgoritmos que detectam comportamentos estranhos ou tentativa de fraude.**\r\n",
        "\r\n",
        "Nesse projeto, vamos utilizar algumas técnicas de **classificação para detectar possíveis fraudes** nos dados de cartão de crédito.\r\n",
        "\r\n",
        "\r\n",
        "\r\n",
        "\r\n"
      ],
      "id": "GOO2hwZ7gLxT"
    },
    {
      "cell_type": "markdown",
      "metadata": {
        "id": "s9abeYzTuqh6"
      },
      "source": [
        "## Obtenção dos dados\r\n",
        "Os dados utilizados para esse projeto são de algumas empresas européias de cartão de crédito. Apesar do grande volume de dados, representando um total de 284807 transações, as operações financeiras represetam apenas um período de dois dias, no mês de setembro de 2013. \r\n",
        "\r\n",
        "Dentre esse total de mais de 284 mil transações, apenas 492 foram transações fraudulentas. Nosso trabalho aqui, será utilizar as informações provenientes dessas 492 transações para que possamos criar um modelo de detecção de fraudes. Para isso, utilizaremos a variável Class, que representa se a transação foi fraudulenta ou não (1 para fraude e 0 caso não for).\r\n",
        "\r\n",
        "Devido à questões de confidencialidade, todas as *variáveis* passaram por um processo de descaracterização, tendo seus nomes subistituidos por: V1,V2,V3...\r\n",
        "Outro detalhe importante é que os dados passaram por um processo de PCA (Análise de Componentes Principais), exceto as variáveis 'Time' e 'Amount', que representando sucessivamente o tempo decorrido entre cada transação e o valor da transação. \r\n",
        "\r\n",
        "A análise de componentes principais é uma técnica da estatística multivariada que consiste em transformar um conjunto de variáveis originais em outro conjunto de variáveis de mesma dimensão denominadas de componentes principais. (VARELLA, Carlos Alberto Alves. Disponível em: [Análise de Componentes\r\n",
        "Principais](http://www.ufrrj.br/institutos/it/deng/varella/Downloads/multivariada%20aplicada%20as%20ciencias%20agrarias/Aulas/analise%20de%20componentes%20principais.pdf))\r\n",
        "\r\n",
        "Os dados podem ser obtidos através do link: [Dataset Credit Card](https://www.kaggle.com/mlg-ulb/creditcardfraud)\r\n",
        "\r\n",
        "\r\n"
      ],
      "id": "s9abeYzTuqh6"
    },
    {
      "cell_type": "code",
      "metadata": {
        "id": "qyUhNkwHO7Fd"
      },
      "source": [
        "!pip install scikit-plot -q"
      ],
      "id": "qyUhNkwHO7Fd",
      "execution_count": 1,
      "outputs": []
    },
    {
      "cell_type": "code",
      "metadata": {
        "id": "blond-finger",
        "colab": {
          "base_uri": "https://localhost:8080/"
        },
        "outputId": "5a0f0b27-cabc-41f0-b0bc-2c5ec9ce0096"
      },
      "source": [
        "# importar os pacotes necessários\n",
        "import pandas as pd\n",
        "import matplotlib.pyplot as plt\n",
        "import numpy as np\n",
        "import seaborn as sns\n",
        "from sklearn.preprocessing import StandardScaler\n",
        "from sklearn.model_selection import train_test_split\n",
        "from imblearn.under_sampling import RandomUnderSampler #balancear dados\n",
        "from sklearn.linear_model import LogisticRegression\n",
        "from sklearn.metrics import classification_report\n",
        "from sklearn.metrics import confusion_matrix\n",
        "from sklearn.metrics import accuracy_score\n",
        "from sklearn.metrics import recall_score\n",
        "import scikitplot as skplt\n",
        "from sklearn.metrics import roc_curve\n",
        "from sklearn.metrics import roc_auc_score, auc\n",
        "\n",
        "%matplotlib inline\n",
        "\n",
        "# configurar o estilo dos gráficos com o Seaborn\n",
        "sns.set_style('dark')"
      ],
      "id": "blond-finger",
      "execution_count": 2,
      "outputs": [
        {
          "output_type": "stream",
          "text": [
            "/usr/local/lib/python3.7/dist-packages/sklearn/externals/six.py:31: FutureWarning: The module is deprecated in version 0.21 and will be removed in version 0.23 since we've dropped support for Python 2.7. Please rely on the official version of six (https://pypi.org/project/six/).\n",
            "  \"(https://pypi.org/project/six/).\", FutureWarning)\n",
            "/usr/local/lib/python3.7/dist-packages/sklearn/utils/deprecation.py:144: FutureWarning: The sklearn.neighbors.base module is  deprecated in version 0.22 and will be removed in version 0.24. The corresponding classes / functions should instead be imported from sklearn.neighbors. Anything that cannot be imported from sklearn.neighbors is now part of the private API.\n",
            "  warnings.warn(message, FutureWarning)\n"
          ],
          "name": "stderr"
        }
      ]
    },
    {
      "cell_type": "code",
      "metadata": {
        "id": "roman-smoke"
      },
      "source": [
        "# importar os dados para um dataframe\n",
        "df = pd.read_csv(\"https://www.dropbox.com/s/b44o3t3ehmnx2b7/creditcard.csv?dl=1\")"
      ],
      "id": "roman-smoke",
      "execution_count": 3,
      "outputs": []
    },
    {
      "cell_type": "code",
      "metadata": {
        "id": "PPIRqKcmqsSU"
      },
      "source": [
        ""
      ],
      "id": "PPIRqKcmqsSU",
      "execution_count": 3,
      "outputs": []
    },
    {
      "cell_type": "markdown",
      "metadata": {
        "id": "Pya_m6igq8Xw"
      },
      "source": [
        "## Etapas para resolução do problema \r\n",
        "Antes de mais nada, serão definidas as etapas que serão seguidas para solução do problema:\r\n",
        "\r\n",
        "1.   **Definição do problema**\r\n",
        "2.   **Análise exploratória**\r\n",
        "3.   **Preparação dos dados**\r\n",
        "4.   **Modelagem do algoritmo**\r\n",
        "5.   **Avaliação**\r\n",
        "\r\n",
        "\r\n"
      ],
      "id": "Pya_m6igq8Xw"
    },
    {
      "cell_type": "markdown",
      "metadata": {
        "id": "9Gn8PWPEsjQj"
      },
      "source": [
        "## 1. Definição do problema\r\n",
        "Como descrito acima, as fraudes em cartões de créditos estão aumentando vertiginosamente. Uma forma que as empresas de cartões de créditos encontram para combater esse tipo de crime, é a criação de algoritmos para detecção de fraudes e transações suspeitas."
      ],
      "id": "9Gn8PWPEsjQj"
    },
    {
      "cell_type": "markdown",
      "metadata": {
        "id": "rough-edition"
      },
      "source": [
        "## 2. Análise Exploratória\n",
        "Nessa etapa iremos explorar a fundo o conjunto de dados, com o intuito de extrair informações e \"insights\" que possam guiar nossa análise e a construção do algoritmo para detectar as fraudes nas transações dos cartões. "
      ],
      "id": "rough-edition"
    },
    {
      "cell_type": "markdown",
      "metadata": {
        "id": "L-_IeHwewpfJ"
      },
      "source": [
        "Primeiramente vamos enteder qual o tamanho do nosso conjunto de dados, quantas entradas e quantas colunas ele possui."
      ],
      "id": "L-_IeHwewpfJ"
    },
    {
      "cell_type": "code",
      "metadata": {
        "colab": {
          "base_uri": "https://localhost:8080/"
        },
        "id": "mWpqKSGGwjsT",
        "outputId": "e78bd40a-bda1-4d16-d4e0-43f87422a0f4"
      },
      "source": [
        "df.shape\r\n",
        "print(\"\\nO conjunto de dados possui {:} entradas.\\n\".format((df.shape[0])))\r\n",
        "print(\"\\nO conjunto de dados possui {:} variáveis.\\n\".format((df.shape[1])))"
      ],
      "id": "mWpqKSGGwjsT",
      "execution_count": 4,
      "outputs": [
        {
          "output_type": "stream",
          "text": [
            "\n",
            "O conjunto de dados possui 284807 entradas.\n",
            "\n",
            "\n",
            "O conjunto de dados possui 31 variáveis.\n",
            "\n"
          ],
          "name": "stdout"
        }
      ]
    },
    {
      "cell_type": "markdown",
      "metadata": {
        "id": "MeTW55EAlEBp"
      },
      "source": [
        "Usando a função .head conseguimos avaliar as 5 primeiras entradas dos conjunto de dados. Aqui já conseguimos ver que os dados passaram pelo processo de PCA e somente as variáveis Time e Amount não foram pré-processadas. Além disso, também vamos usar a função .tail que nos permite visualizar as últimas entradas."
      ],
      "id": "MeTW55EAlEBp"
    },
    {
      "cell_type": "code",
      "metadata": {
        "id": "bulgarian-packet",
        "colab": {
          "base_uri": "https://localhost:8080/",
          "height": 224
        },
        "outputId": "76f56605-ecbf-41eb-f47c-4063333d7ae0"
      },
      "source": [
        "df.head()"
      ],
      "id": "bulgarian-packet",
      "execution_count": 5,
      "outputs": [
        {
          "output_type": "execute_result",
          "data": {
            "text/html": [
              "<div>\n",
              "<style scoped>\n",
              "    .dataframe tbody tr th:only-of-type {\n",
              "        vertical-align: middle;\n",
              "    }\n",
              "\n",
              "    .dataframe tbody tr th {\n",
              "        vertical-align: top;\n",
              "    }\n",
              "\n",
              "    .dataframe thead th {\n",
              "        text-align: right;\n",
              "    }\n",
              "</style>\n",
              "<table border=\"1\" class=\"dataframe\">\n",
              "  <thead>\n",
              "    <tr style=\"text-align: right;\">\n",
              "      <th></th>\n",
              "      <th>Time</th>\n",
              "      <th>V1</th>\n",
              "      <th>V2</th>\n",
              "      <th>V3</th>\n",
              "      <th>V4</th>\n",
              "      <th>V5</th>\n",
              "      <th>V6</th>\n",
              "      <th>V7</th>\n",
              "      <th>V8</th>\n",
              "      <th>V9</th>\n",
              "      <th>V10</th>\n",
              "      <th>V11</th>\n",
              "      <th>V12</th>\n",
              "      <th>V13</th>\n",
              "      <th>V14</th>\n",
              "      <th>V15</th>\n",
              "      <th>V16</th>\n",
              "      <th>V17</th>\n",
              "      <th>V18</th>\n",
              "      <th>V19</th>\n",
              "      <th>V20</th>\n",
              "      <th>V21</th>\n",
              "      <th>V22</th>\n",
              "      <th>V23</th>\n",
              "      <th>V24</th>\n",
              "      <th>V25</th>\n",
              "      <th>V26</th>\n",
              "      <th>V27</th>\n",
              "      <th>V28</th>\n",
              "      <th>Amount</th>\n",
              "      <th>Class</th>\n",
              "    </tr>\n",
              "  </thead>\n",
              "  <tbody>\n",
              "    <tr>\n",
              "      <th>0</th>\n",
              "      <td>0.0</td>\n",
              "      <td>-1.359807</td>\n",
              "      <td>-0.072781</td>\n",
              "      <td>2.536347</td>\n",
              "      <td>1.378155</td>\n",
              "      <td>-0.338321</td>\n",
              "      <td>0.462388</td>\n",
              "      <td>0.239599</td>\n",
              "      <td>0.098698</td>\n",
              "      <td>0.363787</td>\n",
              "      <td>0.090794</td>\n",
              "      <td>-0.551600</td>\n",
              "      <td>-0.617801</td>\n",
              "      <td>-0.991390</td>\n",
              "      <td>-0.311169</td>\n",
              "      <td>1.468177</td>\n",
              "      <td>-0.470401</td>\n",
              "      <td>0.207971</td>\n",
              "      <td>0.025791</td>\n",
              "      <td>0.403993</td>\n",
              "      <td>0.251412</td>\n",
              "      <td>-0.018307</td>\n",
              "      <td>0.277838</td>\n",
              "      <td>-0.110474</td>\n",
              "      <td>0.066928</td>\n",
              "      <td>0.128539</td>\n",
              "      <td>-0.189115</td>\n",
              "      <td>0.133558</td>\n",
              "      <td>-0.021053</td>\n",
              "      <td>149.62</td>\n",
              "      <td>0</td>\n",
              "    </tr>\n",
              "    <tr>\n",
              "      <th>1</th>\n",
              "      <td>0.0</td>\n",
              "      <td>1.191857</td>\n",
              "      <td>0.266151</td>\n",
              "      <td>0.166480</td>\n",
              "      <td>0.448154</td>\n",
              "      <td>0.060018</td>\n",
              "      <td>-0.082361</td>\n",
              "      <td>-0.078803</td>\n",
              "      <td>0.085102</td>\n",
              "      <td>-0.255425</td>\n",
              "      <td>-0.166974</td>\n",
              "      <td>1.612727</td>\n",
              "      <td>1.065235</td>\n",
              "      <td>0.489095</td>\n",
              "      <td>-0.143772</td>\n",
              "      <td>0.635558</td>\n",
              "      <td>0.463917</td>\n",
              "      <td>-0.114805</td>\n",
              "      <td>-0.183361</td>\n",
              "      <td>-0.145783</td>\n",
              "      <td>-0.069083</td>\n",
              "      <td>-0.225775</td>\n",
              "      <td>-0.638672</td>\n",
              "      <td>0.101288</td>\n",
              "      <td>-0.339846</td>\n",
              "      <td>0.167170</td>\n",
              "      <td>0.125895</td>\n",
              "      <td>-0.008983</td>\n",
              "      <td>0.014724</td>\n",
              "      <td>2.69</td>\n",
              "      <td>0</td>\n",
              "    </tr>\n",
              "    <tr>\n",
              "      <th>2</th>\n",
              "      <td>1.0</td>\n",
              "      <td>-1.358354</td>\n",
              "      <td>-1.340163</td>\n",
              "      <td>1.773209</td>\n",
              "      <td>0.379780</td>\n",
              "      <td>-0.503198</td>\n",
              "      <td>1.800499</td>\n",
              "      <td>0.791461</td>\n",
              "      <td>0.247676</td>\n",
              "      <td>-1.514654</td>\n",
              "      <td>0.207643</td>\n",
              "      <td>0.624501</td>\n",
              "      <td>0.066084</td>\n",
              "      <td>0.717293</td>\n",
              "      <td>-0.165946</td>\n",
              "      <td>2.345865</td>\n",
              "      <td>-2.890083</td>\n",
              "      <td>1.109969</td>\n",
              "      <td>-0.121359</td>\n",
              "      <td>-2.261857</td>\n",
              "      <td>0.524980</td>\n",
              "      <td>0.247998</td>\n",
              "      <td>0.771679</td>\n",
              "      <td>0.909412</td>\n",
              "      <td>-0.689281</td>\n",
              "      <td>-0.327642</td>\n",
              "      <td>-0.139097</td>\n",
              "      <td>-0.055353</td>\n",
              "      <td>-0.059752</td>\n",
              "      <td>378.66</td>\n",
              "      <td>0</td>\n",
              "    </tr>\n",
              "    <tr>\n",
              "      <th>3</th>\n",
              "      <td>1.0</td>\n",
              "      <td>-0.966272</td>\n",
              "      <td>-0.185226</td>\n",
              "      <td>1.792993</td>\n",
              "      <td>-0.863291</td>\n",
              "      <td>-0.010309</td>\n",
              "      <td>1.247203</td>\n",
              "      <td>0.237609</td>\n",
              "      <td>0.377436</td>\n",
              "      <td>-1.387024</td>\n",
              "      <td>-0.054952</td>\n",
              "      <td>-0.226487</td>\n",
              "      <td>0.178228</td>\n",
              "      <td>0.507757</td>\n",
              "      <td>-0.287924</td>\n",
              "      <td>-0.631418</td>\n",
              "      <td>-1.059647</td>\n",
              "      <td>-0.684093</td>\n",
              "      <td>1.965775</td>\n",
              "      <td>-1.232622</td>\n",
              "      <td>-0.208038</td>\n",
              "      <td>-0.108300</td>\n",
              "      <td>0.005274</td>\n",
              "      <td>-0.190321</td>\n",
              "      <td>-1.175575</td>\n",
              "      <td>0.647376</td>\n",
              "      <td>-0.221929</td>\n",
              "      <td>0.062723</td>\n",
              "      <td>0.061458</td>\n",
              "      <td>123.50</td>\n",
              "      <td>0</td>\n",
              "    </tr>\n",
              "    <tr>\n",
              "      <th>4</th>\n",
              "      <td>2.0</td>\n",
              "      <td>-1.158233</td>\n",
              "      <td>0.877737</td>\n",
              "      <td>1.548718</td>\n",
              "      <td>0.403034</td>\n",
              "      <td>-0.407193</td>\n",
              "      <td>0.095921</td>\n",
              "      <td>0.592941</td>\n",
              "      <td>-0.270533</td>\n",
              "      <td>0.817739</td>\n",
              "      <td>0.753074</td>\n",
              "      <td>-0.822843</td>\n",
              "      <td>0.538196</td>\n",
              "      <td>1.345852</td>\n",
              "      <td>-1.119670</td>\n",
              "      <td>0.175121</td>\n",
              "      <td>-0.451449</td>\n",
              "      <td>-0.237033</td>\n",
              "      <td>-0.038195</td>\n",
              "      <td>0.803487</td>\n",
              "      <td>0.408542</td>\n",
              "      <td>-0.009431</td>\n",
              "      <td>0.798278</td>\n",
              "      <td>-0.137458</td>\n",
              "      <td>0.141267</td>\n",
              "      <td>-0.206010</td>\n",
              "      <td>0.502292</td>\n",
              "      <td>0.219422</td>\n",
              "      <td>0.215153</td>\n",
              "      <td>69.99</td>\n",
              "      <td>0</td>\n",
              "    </tr>\n",
              "  </tbody>\n",
              "</table>\n",
              "</div>"
            ],
            "text/plain": [
              "   Time        V1        V2        V3  ...       V27       V28  Amount  Class\n",
              "0   0.0 -1.359807 -0.072781  2.536347  ...  0.133558 -0.021053  149.62      0\n",
              "1   0.0  1.191857  0.266151  0.166480  ... -0.008983  0.014724    2.69      0\n",
              "2   1.0 -1.358354 -1.340163  1.773209  ... -0.055353 -0.059752  378.66      0\n",
              "3   1.0 -0.966272 -0.185226  1.792993  ...  0.062723  0.061458  123.50      0\n",
              "4   2.0 -1.158233  0.877737  1.548718  ...  0.219422  0.215153   69.99      0\n",
              "\n",
              "[5 rows x 31 columns]"
            ]
          },
          "metadata": {
            "tags": []
          },
          "execution_count": 5
        }
      ]
    },
    {
      "cell_type": "code",
      "metadata": {
        "scrolled": true,
        "id": "cross-asthma",
        "colab": {
          "base_uri": "https://localhost:8080/",
          "height": 224
        },
        "outputId": "a3b58146-aee8-422f-b6bf-6e89e8ba0668"
      },
      "source": [
        "df.tail()"
      ],
      "id": "cross-asthma",
      "execution_count": 6,
      "outputs": [
        {
          "output_type": "execute_result",
          "data": {
            "text/html": [
              "<div>\n",
              "<style scoped>\n",
              "    .dataframe tbody tr th:only-of-type {\n",
              "        vertical-align: middle;\n",
              "    }\n",
              "\n",
              "    .dataframe tbody tr th {\n",
              "        vertical-align: top;\n",
              "    }\n",
              "\n",
              "    .dataframe thead th {\n",
              "        text-align: right;\n",
              "    }\n",
              "</style>\n",
              "<table border=\"1\" class=\"dataframe\">\n",
              "  <thead>\n",
              "    <tr style=\"text-align: right;\">\n",
              "      <th></th>\n",
              "      <th>Time</th>\n",
              "      <th>V1</th>\n",
              "      <th>V2</th>\n",
              "      <th>V3</th>\n",
              "      <th>V4</th>\n",
              "      <th>V5</th>\n",
              "      <th>V6</th>\n",
              "      <th>V7</th>\n",
              "      <th>V8</th>\n",
              "      <th>V9</th>\n",
              "      <th>V10</th>\n",
              "      <th>V11</th>\n",
              "      <th>V12</th>\n",
              "      <th>V13</th>\n",
              "      <th>V14</th>\n",
              "      <th>V15</th>\n",
              "      <th>V16</th>\n",
              "      <th>V17</th>\n",
              "      <th>V18</th>\n",
              "      <th>V19</th>\n",
              "      <th>V20</th>\n",
              "      <th>V21</th>\n",
              "      <th>V22</th>\n",
              "      <th>V23</th>\n",
              "      <th>V24</th>\n",
              "      <th>V25</th>\n",
              "      <th>V26</th>\n",
              "      <th>V27</th>\n",
              "      <th>V28</th>\n",
              "      <th>Amount</th>\n",
              "      <th>Class</th>\n",
              "    </tr>\n",
              "  </thead>\n",
              "  <tbody>\n",
              "    <tr>\n",
              "      <th>284802</th>\n",
              "      <td>172786.0</td>\n",
              "      <td>-11.881118</td>\n",
              "      <td>10.071785</td>\n",
              "      <td>-9.834783</td>\n",
              "      <td>-2.066656</td>\n",
              "      <td>-5.364473</td>\n",
              "      <td>-2.606837</td>\n",
              "      <td>-4.918215</td>\n",
              "      <td>7.305334</td>\n",
              "      <td>1.914428</td>\n",
              "      <td>4.356170</td>\n",
              "      <td>-1.593105</td>\n",
              "      <td>2.711941</td>\n",
              "      <td>-0.689256</td>\n",
              "      <td>4.626942</td>\n",
              "      <td>-0.924459</td>\n",
              "      <td>1.107641</td>\n",
              "      <td>1.991691</td>\n",
              "      <td>0.510632</td>\n",
              "      <td>-0.682920</td>\n",
              "      <td>1.475829</td>\n",
              "      <td>0.213454</td>\n",
              "      <td>0.111864</td>\n",
              "      <td>1.014480</td>\n",
              "      <td>-0.509348</td>\n",
              "      <td>1.436807</td>\n",
              "      <td>0.250034</td>\n",
              "      <td>0.943651</td>\n",
              "      <td>0.823731</td>\n",
              "      <td>0.77</td>\n",
              "      <td>0</td>\n",
              "    </tr>\n",
              "    <tr>\n",
              "      <th>284803</th>\n",
              "      <td>172787.0</td>\n",
              "      <td>-0.732789</td>\n",
              "      <td>-0.055080</td>\n",
              "      <td>2.035030</td>\n",
              "      <td>-0.738589</td>\n",
              "      <td>0.868229</td>\n",
              "      <td>1.058415</td>\n",
              "      <td>0.024330</td>\n",
              "      <td>0.294869</td>\n",
              "      <td>0.584800</td>\n",
              "      <td>-0.975926</td>\n",
              "      <td>-0.150189</td>\n",
              "      <td>0.915802</td>\n",
              "      <td>1.214756</td>\n",
              "      <td>-0.675143</td>\n",
              "      <td>1.164931</td>\n",
              "      <td>-0.711757</td>\n",
              "      <td>-0.025693</td>\n",
              "      <td>-1.221179</td>\n",
              "      <td>-1.545556</td>\n",
              "      <td>0.059616</td>\n",
              "      <td>0.214205</td>\n",
              "      <td>0.924384</td>\n",
              "      <td>0.012463</td>\n",
              "      <td>-1.016226</td>\n",
              "      <td>-0.606624</td>\n",
              "      <td>-0.395255</td>\n",
              "      <td>0.068472</td>\n",
              "      <td>-0.053527</td>\n",
              "      <td>24.79</td>\n",
              "      <td>0</td>\n",
              "    </tr>\n",
              "    <tr>\n",
              "      <th>284804</th>\n",
              "      <td>172788.0</td>\n",
              "      <td>1.919565</td>\n",
              "      <td>-0.301254</td>\n",
              "      <td>-3.249640</td>\n",
              "      <td>-0.557828</td>\n",
              "      <td>2.630515</td>\n",
              "      <td>3.031260</td>\n",
              "      <td>-0.296827</td>\n",
              "      <td>0.708417</td>\n",
              "      <td>0.432454</td>\n",
              "      <td>-0.484782</td>\n",
              "      <td>0.411614</td>\n",
              "      <td>0.063119</td>\n",
              "      <td>-0.183699</td>\n",
              "      <td>-0.510602</td>\n",
              "      <td>1.329284</td>\n",
              "      <td>0.140716</td>\n",
              "      <td>0.313502</td>\n",
              "      <td>0.395652</td>\n",
              "      <td>-0.577252</td>\n",
              "      <td>0.001396</td>\n",
              "      <td>0.232045</td>\n",
              "      <td>0.578229</td>\n",
              "      <td>-0.037501</td>\n",
              "      <td>0.640134</td>\n",
              "      <td>0.265745</td>\n",
              "      <td>-0.087371</td>\n",
              "      <td>0.004455</td>\n",
              "      <td>-0.026561</td>\n",
              "      <td>67.88</td>\n",
              "      <td>0</td>\n",
              "    </tr>\n",
              "    <tr>\n",
              "      <th>284805</th>\n",
              "      <td>172788.0</td>\n",
              "      <td>-0.240440</td>\n",
              "      <td>0.530483</td>\n",
              "      <td>0.702510</td>\n",
              "      <td>0.689799</td>\n",
              "      <td>-0.377961</td>\n",
              "      <td>0.623708</td>\n",
              "      <td>-0.686180</td>\n",
              "      <td>0.679145</td>\n",
              "      <td>0.392087</td>\n",
              "      <td>-0.399126</td>\n",
              "      <td>-1.933849</td>\n",
              "      <td>-0.962886</td>\n",
              "      <td>-1.042082</td>\n",
              "      <td>0.449624</td>\n",
              "      <td>1.962563</td>\n",
              "      <td>-0.608577</td>\n",
              "      <td>0.509928</td>\n",
              "      <td>1.113981</td>\n",
              "      <td>2.897849</td>\n",
              "      <td>0.127434</td>\n",
              "      <td>0.265245</td>\n",
              "      <td>0.800049</td>\n",
              "      <td>-0.163298</td>\n",
              "      <td>0.123205</td>\n",
              "      <td>-0.569159</td>\n",
              "      <td>0.546668</td>\n",
              "      <td>0.108821</td>\n",
              "      <td>0.104533</td>\n",
              "      <td>10.00</td>\n",
              "      <td>0</td>\n",
              "    </tr>\n",
              "    <tr>\n",
              "      <th>284806</th>\n",
              "      <td>172792.0</td>\n",
              "      <td>-0.533413</td>\n",
              "      <td>-0.189733</td>\n",
              "      <td>0.703337</td>\n",
              "      <td>-0.506271</td>\n",
              "      <td>-0.012546</td>\n",
              "      <td>-0.649617</td>\n",
              "      <td>1.577006</td>\n",
              "      <td>-0.414650</td>\n",
              "      <td>0.486180</td>\n",
              "      <td>-0.915427</td>\n",
              "      <td>-1.040458</td>\n",
              "      <td>-0.031513</td>\n",
              "      <td>-0.188093</td>\n",
              "      <td>-0.084316</td>\n",
              "      <td>0.041333</td>\n",
              "      <td>-0.302620</td>\n",
              "      <td>-0.660377</td>\n",
              "      <td>0.167430</td>\n",
              "      <td>-0.256117</td>\n",
              "      <td>0.382948</td>\n",
              "      <td>0.261057</td>\n",
              "      <td>0.643078</td>\n",
              "      <td>0.376777</td>\n",
              "      <td>0.008797</td>\n",
              "      <td>-0.473649</td>\n",
              "      <td>-0.818267</td>\n",
              "      <td>-0.002415</td>\n",
              "      <td>0.013649</td>\n",
              "      <td>217.00</td>\n",
              "      <td>0</td>\n",
              "    </tr>\n",
              "  </tbody>\n",
              "</table>\n",
              "</div>"
            ],
            "text/plain": [
              "            Time         V1         V2  ...       V28  Amount  Class\n",
              "284802  172786.0 -11.881118  10.071785  ...  0.823731    0.77      0\n",
              "284803  172787.0  -0.732789  -0.055080  ... -0.053527   24.79      0\n",
              "284804  172788.0   1.919565  -0.301254  ... -0.026561   67.88      0\n",
              "284805  172788.0  -0.240440   0.530483  ...  0.104533   10.00      0\n",
              "284806  172792.0  -0.533413  -0.189733  ...  0.013649  217.00      0\n",
              "\n",
              "[5 rows x 31 columns]"
            ]
          },
          "metadata": {
            "tags": []
          },
          "execution_count": 6
        }
      ]
    },
    {
      "cell_type": "markdown",
      "metadata": {
        "id": "BAiavNQ_tYco"
      },
      "source": [
        "Sabemos que os maiores problemas presentes nos conjuntos de dados são em relação à qualidade dos dados. Nessa etapa vamos verificar a quantidade de valores ausentes e nulos em nosso dataset.\r\n",
        "\r\n"
      ],
      "id": "BAiavNQ_tYco"
    },
    {
      "cell_type": "code",
      "metadata": {
        "id": "caroline-nicholas",
        "colab": {
          "base_uri": "https://localhost:8080/"
        },
        "outputId": "237c85a3-b47b-49c8-a38b-9bcb0b20f23f"
      },
      "source": [
        "nulos = df.isnull().sum()\n",
        "print(nulos[nulos > 0])"
      ],
      "id": "caroline-nicholas",
      "execution_count": 7,
      "outputs": [
        {
          "output_type": "stream",
          "text": [
            "Series([], dtype: int64)\n"
          ],
          "name": "stdout"
        }
      ]
    },
    {
      "cell_type": "markdown",
      "metadata": {
        "id": "Xgdz0B3qtzyP"
      },
      "source": [
        "O conjunto de dados não possui nenhum valor ausente ou nulo, resultado de um possível tratamento realizado anteriormente."
      ],
      "id": "Xgdz0B3qtzyP"
    },
    {
      "cell_type": "code",
      "metadata": {
        "id": "continent-violin",
        "colab": {
          "base_uri": "https://localhost:8080/"
        },
        "outputId": "3c407d72-cd42-426c-beba-8c99940b81f1"
      },
      "source": [
        "df.dtypes"
      ],
      "id": "continent-violin",
      "execution_count": 8,
      "outputs": [
        {
          "output_type": "execute_result",
          "data": {
            "text/plain": [
              "Time      float64\n",
              "V1        float64\n",
              "V2        float64\n",
              "V3        float64\n",
              "V4        float64\n",
              "V5        float64\n",
              "V6        float64\n",
              "V7        float64\n",
              "V8        float64\n",
              "V9        float64\n",
              "V10       float64\n",
              "V11       float64\n",
              "V12       float64\n",
              "V13       float64\n",
              "V14       float64\n",
              "V15       float64\n",
              "V16       float64\n",
              "V17       float64\n",
              "V18       float64\n",
              "V19       float64\n",
              "V20       float64\n",
              "V21       float64\n",
              "V22       float64\n",
              "V23       float64\n",
              "V24       float64\n",
              "V25       float64\n",
              "V26       float64\n",
              "V27       float64\n",
              "V28       float64\n",
              "Amount    float64\n",
              "Class       int64\n",
              "dtype: object"
            ]
          },
          "metadata": {
            "tags": []
          },
          "execution_count": 8
        }
      ]
    },
    {
      "cell_type": "markdown",
      "metadata": {
        "id": "fmPoyUI6t8gC"
      },
      "source": [
        "Utilizamos a função describe(), que nos traz um “resumo estatísticos” do conjunto de dados.\r\n",
        "\r\n",
        "As informações estatísticas, como media, mediana, valores máximos, mínimos e quartis, que vão nos fornecer insighs importantes sobre o tema analisado.\r\n",
        "Além disso, podemos ter uma primeira ideia se existem alguns dados discrepantes que necessitem um tratamento mais apurado para que não tornem nossos resultados enviesados."
      ],
      "id": "fmPoyUI6t8gC"
    },
    {
      "cell_type": "code",
      "metadata": {
        "id": "auburn-competition",
        "colab": {
          "base_uri": "https://localhost:8080/",
          "height": 317
        },
        "outputId": "fc37615f-59b9-49d5-d31d-eb68b78f9e49"
      },
      "source": [
        "df.describe()"
      ],
      "id": "auburn-competition",
      "execution_count": 9,
      "outputs": [
        {
          "output_type": "execute_result",
          "data": {
            "text/html": [
              "<div>\n",
              "<style scoped>\n",
              "    .dataframe tbody tr th:only-of-type {\n",
              "        vertical-align: middle;\n",
              "    }\n",
              "\n",
              "    .dataframe tbody tr th {\n",
              "        vertical-align: top;\n",
              "    }\n",
              "\n",
              "    .dataframe thead th {\n",
              "        text-align: right;\n",
              "    }\n",
              "</style>\n",
              "<table border=\"1\" class=\"dataframe\">\n",
              "  <thead>\n",
              "    <tr style=\"text-align: right;\">\n",
              "      <th></th>\n",
              "      <th>Time</th>\n",
              "      <th>V1</th>\n",
              "      <th>V2</th>\n",
              "      <th>V3</th>\n",
              "      <th>V4</th>\n",
              "      <th>V5</th>\n",
              "      <th>V6</th>\n",
              "      <th>V7</th>\n",
              "      <th>V8</th>\n",
              "      <th>V9</th>\n",
              "      <th>V10</th>\n",
              "      <th>V11</th>\n",
              "      <th>V12</th>\n",
              "      <th>V13</th>\n",
              "      <th>V14</th>\n",
              "      <th>V15</th>\n",
              "      <th>V16</th>\n",
              "      <th>V17</th>\n",
              "      <th>V18</th>\n",
              "      <th>V19</th>\n",
              "      <th>V20</th>\n",
              "      <th>V21</th>\n",
              "      <th>V22</th>\n",
              "      <th>V23</th>\n",
              "      <th>V24</th>\n",
              "      <th>V25</th>\n",
              "      <th>V26</th>\n",
              "      <th>V27</th>\n",
              "      <th>V28</th>\n",
              "      <th>Amount</th>\n",
              "      <th>Class</th>\n",
              "    </tr>\n",
              "  </thead>\n",
              "  <tbody>\n",
              "    <tr>\n",
              "      <th>count</th>\n",
              "      <td>284807.000000</td>\n",
              "      <td>2.848070e+05</td>\n",
              "      <td>2.848070e+05</td>\n",
              "      <td>2.848070e+05</td>\n",
              "      <td>2.848070e+05</td>\n",
              "      <td>2.848070e+05</td>\n",
              "      <td>2.848070e+05</td>\n",
              "      <td>2.848070e+05</td>\n",
              "      <td>2.848070e+05</td>\n",
              "      <td>2.848070e+05</td>\n",
              "      <td>2.848070e+05</td>\n",
              "      <td>2.848070e+05</td>\n",
              "      <td>2.848070e+05</td>\n",
              "      <td>2.848070e+05</td>\n",
              "      <td>2.848070e+05</td>\n",
              "      <td>2.848070e+05</td>\n",
              "      <td>2.848070e+05</td>\n",
              "      <td>2.848070e+05</td>\n",
              "      <td>2.848070e+05</td>\n",
              "      <td>2.848070e+05</td>\n",
              "      <td>2.848070e+05</td>\n",
              "      <td>2.848070e+05</td>\n",
              "      <td>2.848070e+05</td>\n",
              "      <td>2.848070e+05</td>\n",
              "      <td>2.848070e+05</td>\n",
              "      <td>2.848070e+05</td>\n",
              "      <td>2.848070e+05</td>\n",
              "      <td>2.848070e+05</td>\n",
              "      <td>2.848070e+05</td>\n",
              "      <td>284807.000000</td>\n",
              "      <td>284807.000000</td>\n",
              "    </tr>\n",
              "    <tr>\n",
              "      <th>mean</th>\n",
              "      <td>94813.859575</td>\n",
              "      <td>3.919560e-15</td>\n",
              "      <td>5.688174e-16</td>\n",
              "      <td>-8.769071e-15</td>\n",
              "      <td>2.782312e-15</td>\n",
              "      <td>-1.552563e-15</td>\n",
              "      <td>2.010663e-15</td>\n",
              "      <td>-1.694249e-15</td>\n",
              "      <td>-1.927028e-16</td>\n",
              "      <td>-3.137024e-15</td>\n",
              "      <td>1.768627e-15</td>\n",
              "      <td>9.170318e-16</td>\n",
              "      <td>-1.810658e-15</td>\n",
              "      <td>1.693438e-15</td>\n",
              "      <td>1.479045e-15</td>\n",
              "      <td>3.482336e-15</td>\n",
              "      <td>1.392007e-15</td>\n",
              "      <td>-7.528491e-16</td>\n",
              "      <td>4.328772e-16</td>\n",
              "      <td>9.049732e-16</td>\n",
              "      <td>5.085503e-16</td>\n",
              "      <td>1.537294e-16</td>\n",
              "      <td>7.959909e-16</td>\n",
              "      <td>5.367590e-16</td>\n",
              "      <td>4.458112e-15</td>\n",
              "      <td>1.453003e-15</td>\n",
              "      <td>1.699104e-15</td>\n",
              "      <td>-3.660161e-16</td>\n",
              "      <td>-1.206049e-16</td>\n",
              "      <td>88.349619</td>\n",
              "      <td>0.001727</td>\n",
              "    </tr>\n",
              "    <tr>\n",
              "      <th>std</th>\n",
              "      <td>47488.145955</td>\n",
              "      <td>1.958696e+00</td>\n",
              "      <td>1.651309e+00</td>\n",
              "      <td>1.516255e+00</td>\n",
              "      <td>1.415869e+00</td>\n",
              "      <td>1.380247e+00</td>\n",
              "      <td>1.332271e+00</td>\n",
              "      <td>1.237094e+00</td>\n",
              "      <td>1.194353e+00</td>\n",
              "      <td>1.098632e+00</td>\n",
              "      <td>1.088850e+00</td>\n",
              "      <td>1.020713e+00</td>\n",
              "      <td>9.992014e-01</td>\n",
              "      <td>9.952742e-01</td>\n",
              "      <td>9.585956e-01</td>\n",
              "      <td>9.153160e-01</td>\n",
              "      <td>8.762529e-01</td>\n",
              "      <td>8.493371e-01</td>\n",
              "      <td>8.381762e-01</td>\n",
              "      <td>8.140405e-01</td>\n",
              "      <td>7.709250e-01</td>\n",
              "      <td>7.345240e-01</td>\n",
              "      <td>7.257016e-01</td>\n",
              "      <td>6.244603e-01</td>\n",
              "      <td>6.056471e-01</td>\n",
              "      <td>5.212781e-01</td>\n",
              "      <td>4.822270e-01</td>\n",
              "      <td>4.036325e-01</td>\n",
              "      <td>3.300833e-01</td>\n",
              "      <td>250.120109</td>\n",
              "      <td>0.041527</td>\n",
              "    </tr>\n",
              "    <tr>\n",
              "      <th>min</th>\n",
              "      <td>0.000000</td>\n",
              "      <td>-5.640751e+01</td>\n",
              "      <td>-7.271573e+01</td>\n",
              "      <td>-4.832559e+01</td>\n",
              "      <td>-5.683171e+00</td>\n",
              "      <td>-1.137433e+02</td>\n",
              "      <td>-2.616051e+01</td>\n",
              "      <td>-4.355724e+01</td>\n",
              "      <td>-7.321672e+01</td>\n",
              "      <td>-1.343407e+01</td>\n",
              "      <td>-2.458826e+01</td>\n",
              "      <td>-4.797473e+00</td>\n",
              "      <td>-1.868371e+01</td>\n",
              "      <td>-5.791881e+00</td>\n",
              "      <td>-1.921433e+01</td>\n",
              "      <td>-4.498945e+00</td>\n",
              "      <td>-1.412985e+01</td>\n",
              "      <td>-2.516280e+01</td>\n",
              "      <td>-9.498746e+00</td>\n",
              "      <td>-7.213527e+00</td>\n",
              "      <td>-5.449772e+01</td>\n",
              "      <td>-3.483038e+01</td>\n",
              "      <td>-1.093314e+01</td>\n",
              "      <td>-4.480774e+01</td>\n",
              "      <td>-2.836627e+00</td>\n",
              "      <td>-1.029540e+01</td>\n",
              "      <td>-2.604551e+00</td>\n",
              "      <td>-2.256568e+01</td>\n",
              "      <td>-1.543008e+01</td>\n",
              "      <td>0.000000</td>\n",
              "      <td>0.000000</td>\n",
              "    </tr>\n",
              "    <tr>\n",
              "      <th>25%</th>\n",
              "      <td>54201.500000</td>\n",
              "      <td>-9.203734e-01</td>\n",
              "      <td>-5.985499e-01</td>\n",
              "      <td>-8.903648e-01</td>\n",
              "      <td>-8.486401e-01</td>\n",
              "      <td>-6.915971e-01</td>\n",
              "      <td>-7.682956e-01</td>\n",
              "      <td>-5.540759e-01</td>\n",
              "      <td>-2.086297e-01</td>\n",
              "      <td>-6.430976e-01</td>\n",
              "      <td>-5.354257e-01</td>\n",
              "      <td>-7.624942e-01</td>\n",
              "      <td>-4.055715e-01</td>\n",
              "      <td>-6.485393e-01</td>\n",
              "      <td>-4.255740e-01</td>\n",
              "      <td>-5.828843e-01</td>\n",
              "      <td>-4.680368e-01</td>\n",
              "      <td>-4.837483e-01</td>\n",
              "      <td>-4.988498e-01</td>\n",
              "      <td>-4.562989e-01</td>\n",
              "      <td>-2.117214e-01</td>\n",
              "      <td>-2.283949e-01</td>\n",
              "      <td>-5.423504e-01</td>\n",
              "      <td>-1.618463e-01</td>\n",
              "      <td>-3.545861e-01</td>\n",
              "      <td>-3.171451e-01</td>\n",
              "      <td>-3.269839e-01</td>\n",
              "      <td>-7.083953e-02</td>\n",
              "      <td>-5.295979e-02</td>\n",
              "      <td>5.600000</td>\n",
              "      <td>0.000000</td>\n",
              "    </tr>\n",
              "    <tr>\n",
              "      <th>50%</th>\n",
              "      <td>84692.000000</td>\n",
              "      <td>1.810880e-02</td>\n",
              "      <td>6.548556e-02</td>\n",
              "      <td>1.798463e-01</td>\n",
              "      <td>-1.984653e-02</td>\n",
              "      <td>-5.433583e-02</td>\n",
              "      <td>-2.741871e-01</td>\n",
              "      <td>4.010308e-02</td>\n",
              "      <td>2.235804e-02</td>\n",
              "      <td>-5.142873e-02</td>\n",
              "      <td>-9.291738e-02</td>\n",
              "      <td>-3.275735e-02</td>\n",
              "      <td>1.400326e-01</td>\n",
              "      <td>-1.356806e-02</td>\n",
              "      <td>5.060132e-02</td>\n",
              "      <td>4.807155e-02</td>\n",
              "      <td>6.641332e-02</td>\n",
              "      <td>-6.567575e-02</td>\n",
              "      <td>-3.636312e-03</td>\n",
              "      <td>3.734823e-03</td>\n",
              "      <td>-6.248109e-02</td>\n",
              "      <td>-2.945017e-02</td>\n",
              "      <td>6.781943e-03</td>\n",
              "      <td>-1.119293e-02</td>\n",
              "      <td>4.097606e-02</td>\n",
              "      <td>1.659350e-02</td>\n",
              "      <td>-5.213911e-02</td>\n",
              "      <td>1.342146e-03</td>\n",
              "      <td>1.124383e-02</td>\n",
              "      <td>22.000000</td>\n",
              "      <td>0.000000</td>\n",
              "    </tr>\n",
              "    <tr>\n",
              "      <th>75%</th>\n",
              "      <td>139320.500000</td>\n",
              "      <td>1.315642e+00</td>\n",
              "      <td>8.037239e-01</td>\n",
              "      <td>1.027196e+00</td>\n",
              "      <td>7.433413e-01</td>\n",
              "      <td>6.119264e-01</td>\n",
              "      <td>3.985649e-01</td>\n",
              "      <td>5.704361e-01</td>\n",
              "      <td>3.273459e-01</td>\n",
              "      <td>5.971390e-01</td>\n",
              "      <td>4.539234e-01</td>\n",
              "      <td>7.395934e-01</td>\n",
              "      <td>6.182380e-01</td>\n",
              "      <td>6.625050e-01</td>\n",
              "      <td>4.931498e-01</td>\n",
              "      <td>6.488208e-01</td>\n",
              "      <td>5.232963e-01</td>\n",
              "      <td>3.996750e-01</td>\n",
              "      <td>5.008067e-01</td>\n",
              "      <td>4.589494e-01</td>\n",
              "      <td>1.330408e-01</td>\n",
              "      <td>1.863772e-01</td>\n",
              "      <td>5.285536e-01</td>\n",
              "      <td>1.476421e-01</td>\n",
              "      <td>4.395266e-01</td>\n",
              "      <td>3.507156e-01</td>\n",
              "      <td>2.409522e-01</td>\n",
              "      <td>9.104512e-02</td>\n",
              "      <td>7.827995e-02</td>\n",
              "      <td>77.165000</td>\n",
              "      <td>0.000000</td>\n",
              "    </tr>\n",
              "    <tr>\n",
              "      <th>max</th>\n",
              "      <td>172792.000000</td>\n",
              "      <td>2.454930e+00</td>\n",
              "      <td>2.205773e+01</td>\n",
              "      <td>9.382558e+00</td>\n",
              "      <td>1.687534e+01</td>\n",
              "      <td>3.480167e+01</td>\n",
              "      <td>7.330163e+01</td>\n",
              "      <td>1.205895e+02</td>\n",
              "      <td>2.000721e+01</td>\n",
              "      <td>1.559499e+01</td>\n",
              "      <td>2.374514e+01</td>\n",
              "      <td>1.201891e+01</td>\n",
              "      <td>7.848392e+00</td>\n",
              "      <td>7.126883e+00</td>\n",
              "      <td>1.052677e+01</td>\n",
              "      <td>8.877742e+00</td>\n",
              "      <td>1.731511e+01</td>\n",
              "      <td>9.253526e+00</td>\n",
              "      <td>5.041069e+00</td>\n",
              "      <td>5.591971e+00</td>\n",
              "      <td>3.942090e+01</td>\n",
              "      <td>2.720284e+01</td>\n",
              "      <td>1.050309e+01</td>\n",
              "      <td>2.252841e+01</td>\n",
              "      <td>4.584549e+00</td>\n",
              "      <td>7.519589e+00</td>\n",
              "      <td>3.517346e+00</td>\n",
              "      <td>3.161220e+01</td>\n",
              "      <td>3.384781e+01</td>\n",
              "      <td>25691.160000</td>\n",
              "      <td>1.000000</td>\n",
              "    </tr>\n",
              "  </tbody>\n",
              "</table>\n",
              "</div>"
            ],
            "text/plain": [
              "                Time            V1  ...         Amount          Class\n",
              "count  284807.000000  2.848070e+05  ...  284807.000000  284807.000000\n",
              "mean    94813.859575  3.919560e-15  ...      88.349619       0.001727\n",
              "std     47488.145955  1.958696e+00  ...     250.120109       0.041527\n",
              "min         0.000000 -5.640751e+01  ...       0.000000       0.000000\n",
              "25%     54201.500000 -9.203734e-01  ...       5.600000       0.000000\n",
              "50%     84692.000000  1.810880e-02  ...      22.000000       0.000000\n",
              "75%    139320.500000  1.315642e+00  ...      77.165000       0.000000\n",
              "max    172792.000000  2.454930e+00  ...   25691.160000       1.000000\n",
              "\n",
              "[8 rows x 31 columns]"
            ]
          },
          "metadata": {
            "tags": []
          },
          "execution_count": 9
        }
      ]
    },
    {
      "cell_type": "markdown",
      "metadata": {
        "id": "instant-produce"
      },
      "source": [
        "### 2.2 Visualização dos dados"
      ],
      "id": "instant-produce"
    },
    {
      "cell_type": "markdown",
      "metadata": {
        "id": "wWJKUsIpuuNp"
      },
      "source": [
        "Agora, vamos partir para a visualização dos dados do dataset. A visualização dos dados:\r\n",
        "\r\n",
        "\r\n",
        "\r\n",
        "*   Ajuda identificar padrões\r\n",
        "*   Facilita o tratamento da informação\r\n",
        "*   Permite descobrir e visualizar as correlações\r\n",
        "*   Nos permite interpretar e comunicar as informações de forma melhor"
      ],
      "id": "wWJKUsIpuuNp"
    },
    {
      "cell_type": "markdown",
      "metadata": {
        "id": "z1ieGsGswBht"
      },
      "source": [
        "Como é a nossa distribuição de Classes? "
      ],
      "id": "z1ieGsGswBht"
    },
    {
      "cell_type": "code",
      "metadata": {
        "colab": {
          "base_uri": "https://localhost:8080/"
        },
        "id": "liquid-population",
        "outputId": "c8734063-1a74-40c3-9595-9a9afa5095fc"
      },
      "source": [
        "print(df.Class.value_counts())\r\n",
        "print(\"\\nFraudes representam {:.2f}% do dataset.\\n\".format((df[df.Class == 1].shape[0] / df.shape[0]) * 100))"
      ],
      "id": "liquid-population",
      "execution_count": 10,
      "outputs": [
        {
          "output_type": "stream",
          "text": [
            "0    284315\n",
            "1       492\n",
            "Name: Class, dtype: int64\n",
            "\n",
            "Fraudes representam 0.17% do dataset.\n",
            "\n"
          ],
          "name": "stdout"
        }
      ]
    },
    {
      "cell_type": "markdown",
      "metadata": {
        "id": "U2sVBE0BwW2p"
      },
      "source": [
        "O conjunto de dados possui 492 entradas classificadas como **Fraudes** (Classe = 1), esse número representa apenas 0,17% dos dados do conjunto, que possui um total de 284807 entradas. Vamos gerar um gráfico para vermos essa distrubição."
      ],
      "id": "U2sVBE0BwW2p"
    },
    {
      "cell_type": "code",
      "metadata": {
        "id": "baking-bouquet",
        "colab": {
          "base_uri": "https://localhost:8080/",
          "height": 0
        },
        "outputId": "e9d13c2a-d56c-4cce-a7e1-b36890e92bba"
      },
      "source": [
        "sns.countplot(data=df, x='Class')"
      ],
      "id": "baking-bouquet",
      "execution_count": 11,
      "outputs": [
        {
          "output_type": "execute_result",
          "data": {
            "text/plain": [
              "<matplotlib.axes._subplots.AxesSubplot at 0x7fae1f3d51d0>"
            ]
          },
          "metadata": {
            "tags": []
          },
          "execution_count": 11
        },
        {
          "output_type": "display_data",
          "data": {
            "image/png": "[encoded data removed]",
            "text/plain": [
              "<Figure size 432x288 with 1 Axes>"
            ]
          },
          "metadata": {
            "tags": []
          }
        }
      ]
    },
    {
      "cell_type": "markdown",
      "metadata": {
        "id": "8WghZ3UQy1nO"
      },
      "source": [
        "Através desse gráfico e da análise preliminar vemos que o conjunto de dados é extremamente ***desbalanceado.***"
      ],
      "id": "8WghZ3UQy1nO"
    },
    {
      "cell_type": "markdown",
      "metadata": {
        "id": "qYLsl0HMUZL2"
      },
      "source": [
        "Agora, vamos analisar a distribuição das fraudes em relação ao tempo decorrido e ao valor da transação."
      ],
      "id": "qYLsl0HMUZL2"
    },
    {
      "cell_type": "code",
      "metadata": {
        "colab": {
          "base_uri": "https://localhost:8080/",
          "height": 0
        },
        "id": "hairy-match",
        "outputId": "e7a3aad4-b4aa-4317-b4b1-1c5eface780b"
      },
      "source": [
        "fig, (ax1, ax2) = plt.subplots(2,1, figsize=(16,8))\n",
        "\n",
        "df[\"Time_Hora\"] = df[\"Time\"]/3600\n",
        "ax1.hist(df.Time_Hora[df['Class'] == 0], bins = 40);\n",
        "ax2.hist(df.Time_Hora[df['Class'] == 1], bins = 40);\n",
        "ax1.set_title('Não Fraudes')\n",
        "ax2.set_title('Fraudes')\n",
        "fig.suptitle('Distribuição de Fraudes x Tempo', fontsize=16)\n",
        "\n",
        "plt.show()"
      ],
      "id": "hairy-match",
      "execution_count": 12,
      "outputs": [
        {
          "output_type": "display_data",
          "data": {
            "image/png": "[encoded data removed]",
            "text/plain": [
              "<Figure size 1152x576 with 2 Axes>"
            ]
          },
          "metadata": {
            "tags": []
          }
        }
      ]
    },
    {
      "cell_type": "markdown",
      "metadata": {
        "id": "oDFHrkPXcXEd"
      },
      "source": [
        "Podemos ver que a distribuição das transações não fraudulentas seguem uma ordem, com picos e baixas, seguindo a distribuição de consumo diário das pessoas. Já as distribuições fraudulentas, são mais constantes, não sofrendo variações com o tempo."
      ],
      "id": "oDFHrkPXcXEd"
    },
    {
      "cell_type": "code",
      "metadata": {
        "id": "hmrYaIkTyN9h"
      },
      "source": [
        "df.drop(['Time_Hora'], axis=1, inplace=True)"
      ],
      "id": "hmrYaIkTyN9h",
      "execution_count": 13,
      "outputs": []
    },
    {
      "cell_type": "code",
      "metadata": {
        "colab": {
          "base_uri": "https://localhost:8080/",
          "height": 0
        },
        "id": "simple-mouse",
        "outputId": "e4063645-d3a1-453d-8237-934854f54d5b"
      },
      "source": [
        "fig, (ax1, ax2) = plt.subplots(2, 1, figsize=(16,8))\n",
        "\n",
        "#grafico\n",
        "ax1.hist(df.Amount[df['Class'] == 0], bins = 75);\n",
        "ax2.hist(df.Amount[df['Class'] == 1], bins = 75);\n",
        "ax1.set_title('Não Fraudes')\n",
        "ax2.set_title('Fraudes')\n",
        "fig.suptitle('Distribuição de Fraudes x Valor', fontsize=16)\n",
        "\n",
        "plt.show()"
      ],
      "id": "simple-mouse",
      "execution_count": 14,
      "outputs": [
        {
          "output_type": "display_data",
          "data": {
            "image/png": "[encoded data removed]",
            "text/plain": [
              "<Figure size 1152x576 with 2 Axes>"
            ]
          },
          "metadata": {
            "tags": []
          }
        }
      ]
    },
    {
      "cell_type": "markdown",
      "metadata": {
        "id": "1g-frpwwboTy"
      },
      "source": [
        "Analisando o gráfico vemos que a grande maioria das fraudes possui um valor menor que $500,00. Vamos analisar melhor a variável \"Amount\", que representa o valor da transação."
      ],
      "id": "1g-frpwwboTy"
    },
    {
      "cell_type": "markdown",
      "metadata": {
        "id": "-7trwD6Gk0MV"
      },
      "source": [
        "Estatística para as transações de todo o conjunto de dados."
      ],
      "id": "-7trwD6Gk0MV"
    },
    {
      "cell_type": "code",
      "metadata": {
        "colab": {
          "base_uri": "https://localhost:8080/"
        },
        "id": "u9-M1V9Nurff",
        "outputId": "dcb14e04-58cf-48d0-b0c5-adbcbeead295"
      },
      "source": [
        "df['Amount'].describe()"
      ],
      "id": "u9-M1V9Nurff",
      "execution_count": 15,
      "outputs": [
        {
          "output_type": "execute_result",
          "data": {
            "text/plain": [
              "count    284807.000000\n",
              "mean         88.349619\n",
              "std         250.120109\n",
              "min           0.000000\n",
              "25%           5.600000\n",
              "50%          22.000000\n",
              "75%          77.165000\n",
              "max       25691.160000\n",
              "Name: Amount, dtype: float64"
            ]
          },
          "metadata": {
            "tags": []
          },
          "execution_count": 15
        }
      ]
    },
    {
      "cell_type": "markdown",
      "metadata": {
        "id": "0-XsLen3kzhH"
      },
      "source": [
        "Estatística para as transações de todos as transações não fraudulentas.\r\n",
        "\r\n"
      ],
      "id": "0-XsLen3kzhH"
    },
    {
      "cell_type": "code",
      "metadata": {
        "colab": {
          "base_uri": "https://localhost:8080/"
        },
        "id": "zawBjbH1kxkI",
        "outputId": "50c8b9ef-d0e8-4a02-fa96-fe05665eccd6"
      },
      "source": [
        "df.Amount[df['Class'] == 0].describe()\r\n"
      ],
      "id": "zawBjbH1kxkI",
      "execution_count": 16,
      "outputs": [
        {
          "output_type": "execute_result",
          "data": {
            "text/plain": [
              "count    284315.000000\n",
              "mean         88.291022\n",
              "std         250.105092\n",
              "min           0.000000\n",
              "25%           5.650000\n",
              "50%          22.000000\n",
              "75%          77.050000\n",
              "max       25691.160000\n",
              "Name: Amount, dtype: float64"
            ]
          },
          "metadata": {
            "tags": []
          },
          "execution_count": 16
        }
      ]
    },
    {
      "cell_type": "markdown",
      "metadata": {
        "id": "7snALCXFk70C"
      },
      "source": [
        "Estatística para as transações de todos as transações fraudulentas.\r\n"
      ],
      "id": "7snALCXFk70C"
    },
    {
      "cell_type": "code",
      "metadata": {
        "colab": {
          "base_uri": "https://localhost:8080/"
        },
        "id": "FkvKrmSBkoP9",
        "outputId": "f7f77136-2071-4779-f183-8ffe74e8b28b"
      },
      "source": [
        "df.Amount[df['Class'] == 1].describe()\r\n"
      ],
      "id": "FkvKrmSBkoP9",
      "execution_count": 17,
      "outputs": [
        {
          "output_type": "execute_result",
          "data": {
            "text/plain": [
              "count     492.000000\n",
              "mean      122.211321\n",
              "std       256.683288\n",
              "min         0.000000\n",
              "25%         1.000000\n",
              "50%         9.250000\n",
              "75%       105.890000\n",
              "max      2125.870000\n",
              "Name: Amount, dtype: float64"
            ]
          },
          "metadata": {
            "tags": []
          },
          "execution_count": 17
        }
      ]
    },
    {
      "cell_type": "code",
      "metadata": {
        "colab": {
          "base_uri": "https://localhost:8080/",
          "height": 0
        },
        "id": "4PnbQgMXpHs7",
        "outputId": "ccdc6559-2e79-419c-d5c1-e909259031f1"
      },
      "source": [
        "fig, ax = plt.subplots(figsize=(16,8))\r\n",
        "\r\n",
        "bplot = df.loc[df['Amount'] <= 300];\r\n",
        "ax.boxplot(bplot.Amount[bplot['Class'] == 1], showmeans=True, meanline=True);\r\n"
      ],
      "id": "4PnbQgMXpHs7",
      "execution_count": 18,
      "outputs": [
        {
          "output_type": "display_data",
          "data": {
            "image/png": "[encoded data removed]",
            "text/plain": [
              "<Figure size 1152x576 with 1 Axes>"
            ]
          },
          "metadata": {
            "tags": []
          }
        }
      ]
    },
    {
      "cell_type": "markdown",
      "metadata": {
        "id": "0q-7RQOQjk-J"
      },
      "source": [
        "Vemos que os valores da transações fraudulentas x não fraudulentas:\r\n",
        "* As fraudes possuem um valor médio de 122,00 e as transações não fraudulentas possuem uma média de 250,00\r\n",
        "* A mediana das fraudes é de 9,25 versus uma mediana de 22,00 das transações consideradas não fraudulentas\r\n",
        "* Valor máximo de uma fraude foi de 2125,87 enquanto o valor máximo registrado para uma transação normal foi de 25691,16\r\n",
        "\r\n",
        "Essas informações nos fornecem uma pista de sobre uma das caracteristicas das fraudes em comparação a transações regulares."
      ],
      "id": "0q-7RQOQjk-J"
    },
    {
      "cell_type": "markdown",
      "metadata": {
        "id": "AyZ3MsqlmTqU"
      },
      "source": [
        "Vamos investigar se nosso conjunto de dados possui alguma correlação entre as variáveis e a classe \"fraude\"."
      ],
      "id": "AyZ3MsqlmTqU"
    },
    {
      "cell_type": "code",
      "metadata": {
        "colab": {
          "base_uri": "https://localhost:8080/",
          "height": 0
        },
        "id": "0vSs9kUYvwg7",
        "outputId": "a88c5eae-c40c-4fd6-abc2-a92fe62f36af"
      },
      "source": [
        "corr = df.corr()\r\n",
        "\r\n",
        "fig, ax = plt.subplots(figsize=(8,8))\r\n",
        "sns.heatmap(corr, square=True, linewidths=0.05, cmap=\"coolwarm\");"
      ],
      "id": "0vSs9kUYvwg7",
      "execution_count": 19,
      "outputs": [
        {
          "output_type": "display_data",
          "data": {
            "image/png": "[encoded data removed]",
            "text/plain": [
              "<Figure size 576x576 with 2 Axes>"
            ]
          },
          "metadata": {
            "tags": []
          }
        }
      ]
    },
    {
      "cell_type": "markdown",
      "metadata": {
        "id": "hzgKCWAlmtlr"
      },
      "source": [
        "Até o momento, não é possível detectar nenhuma correlação aparente, após um processamento e tratamento dos dados, vamos retorna à esse gráfico de correlação para analisar se houve algum avanço nessa investigação de correlações."
      ],
      "id": "hzgKCWAlmtlr"
    },
    {
      "cell_type": "markdown",
      "metadata": {
        "id": "SsdiBPLQ5mFc"
      },
      "source": [
        "## 3. Preparação dos Dados\r\n",
        "\r\n",
        "Nessa etapa trataremos nossos dados para que possamos treinar nosso Algorítmo e obter os melhores resultados possíveis. Anteriormente descobrimos que o conjunto de dados é desbalanceado e passou por uma processo de pré-processamento e normalização. Vamos adequar os dados para nossa análise.\r\n",
        "\r\n",
        "* Normalizar os dados que ainda não haviam sido pré-processados (`Time` e `Amount`)\r\n",
        "* Dividir o conjunto de dados entre treino e teste\r\n",
        "* Balancear o conjunto de dados"
      ],
      "id": "SsdiBPLQ5mFc"
    },
    {
      "cell_type": "markdown",
      "metadata": {
        "id": "FYkDJaFooD2W"
      },
      "source": [
        "Dividiremos nosso conjunto de dados para treinamento do modelo e para o teste futuro.\r\n",
        "\r\n",
        "**Dados para Treino**\r\n",
        "\r\n",
        "Dados de treino são os dados utilizados pelo algoritmo de machine learning para criação do modelo de previsão/classificação. \r\n",
        "\r\n",
        "**Dados para Teste** \r\n",
        "\r\n",
        "Serão informados ao modelo após seu treinamento, simulando previsões reais que o modelo realizará, permitindo assim que o desempenho mais real seja avaliado."
      ],
      "id": "FYkDJaFooD2W"
    },
    {
      "cell_type": "code",
      "metadata": {
        "id": "AANsoeoq_dv8"
      },
      "source": [
        "#dividir entre treinamento e teste\r\n",
        "X = df.drop(['Class'], axis=1)\r\n",
        "y = df.Class"
      ],
      "id": "AANsoeoq_dv8",
      "execution_count": 20,
      "outputs": []
    },
    {
      "cell_type": "code",
      "metadata": {
        "colab": {
          "base_uri": "https://localhost:8080/"
        },
        "id": "wHCiqdvx9qnY",
        "outputId": "df97e181-67a3-4afb-8c7a-27bcbab74591"
      },
      "source": [
        "print('Dataset completo:', df.shape)\r\n",
        "print('Dataset de treinamento:', X.shape)\r\n",
        "print('Dataset de alvo:', y.shape)"
      ],
      "id": "wHCiqdvx9qnY",
      "execution_count": 21,
      "outputs": [
        {
          "output_type": "stream",
          "text": [
            "Dataset completo: (284807, 31)\n",
            "Dataset de treinamento: (284807, 30)\n",
            "Dataset de alvo: (284807,)\n"
          ],
          "name": "stdout"
        }
      ]
    },
    {
      "cell_type": "code",
      "metadata": {
        "id": "d_QL1h1l_7kP"
      },
      "source": [
        "#dividir entre treino e teste\r\n",
        "X_train, X_test, y_train, y_test = train_test_split(X, y)"
      ],
      "id": "d_QL1h1l_7kP",
      "execution_count": 22,
      "outputs": []
    },
    {
      "cell_type": "markdown",
      "metadata": {
        "id": "Z2xWXR2Bo_xB"
      },
      "source": [
        "Após realizar a divisão dos dados entre **teste e treino**, vamos normalizar os valores que não foram pré-processados anteriormente: Amount e Time.\r\n",
        "Faremos isso separadamente nos modelos de teste e treino, para que não haja interferência no nosso modelo de teste."
      ],
      "id": "Z2xWXR2Bo_xB"
    },
    {
      "cell_type": "code",
      "metadata": {
        "id": "VjWFYJV8-AqY"
      },
      "source": [
        "# parametrizar scaler\r\n",
        "scaler = StandardScaler()\r\n",
        "\r\n",
        "#normalizar os dados treino\r\n",
        "X_train = scaler.fit_transform(X_train)\r\n",
        "X_test = scaler.transform(X_test)"
      ],
      "id": "VjWFYJV8-AqY",
      "execution_count": 23,
      "outputs": []
    },
    {
      "cell_type": "markdown",
      "metadata": {
        "id": "DW_5CT6npS52"
      },
      "source": [
        "Além disso, iremos balancear os dados, como vimos anteriormente, as fraudes representam apenas 0,17% das transações do conjunto de dados. Aqui, vamos balancear as fraudes e não fraudes em nosso conjunto de treino. Para isso usaremos ***under-sampling*** para igualar a quantidade de Fraudes e Não Fraudes."
      ],
      "id": "DW_5CT6npS52"
    },
    {
      "cell_type": "code",
      "metadata": {
        "colab": {
          "base_uri": "https://localhost:8080/"
        },
        "id": "HJqcDA4MA70R",
        "outputId": "1b7b8be0-13ed-4c9d-b8dc-9779adcfda4a"
      },
      "source": [
        "#balancear os dados de treino\r\n",
        "rus = RandomUnderSampler()\r\n",
        "X_rus, y_rus = rus.fit_sample(X_train, y_train)"
      ],
      "id": "HJqcDA4MA70R",
      "execution_count": 24,
      "outputs": [
        {
          "output_type": "stream",
          "text": [
            "/usr/local/lib/python3.7/dist-packages/sklearn/utils/deprecation.py:87: FutureWarning: Function safe_indexing is deprecated; safe_indexing is deprecated in version 0.22 and will be removed in version 0.24.\n",
            "  warnings.warn(msg, category=FutureWarning)\n"
          ],
          "name": "stderr"
        }
      ]
    },
    {
      "cell_type": "code",
      "metadata": {
        "colab": {
          "base_uri": "https://localhost:8080/",
          "height": 321
        },
        "id": "lzWjv4aPCVuz",
        "outputId": "0f111c68-c6ec-4c7e-e32a-cf0f3b76b02b"
      },
      "source": [
        "#verificar dataset balanceado\r\n",
        "sns.countplot(y_rus);"
      ],
      "id": "lzWjv4aPCVuz",
      "execution_count": 25,
      "outputs": [
        {
          "output_type": "stream",
          "text": [
            "/usr/local/lib/python3.7/dist-packages/seaborn/_decorators.py:43: FutureWarning: Pass the following variable as a keyword arg: x. From version 0.12, the only valid positional argument will be `data`, and passing other arguments without an explicit keyword will result in an error or misinterpretation.\n",
            "  FutureWarning\n"
          ],
          "name": "stderr"
        },
        {
          "output_type": "display_data",
          "data": {
            "image/png": "[encoded data removed]",
            "text/plain": [
              "<Figure size 432x288 with 1 Axes>"
            ]
          },
          "metadata": {
            "tags": []
          }
        }
      ]
    },
    {
      "cell_type": "markdown",
      "metadata": {
        "id": "nBtRbKK6p2SP"
      },
      "source": [
        "Através do gráfico verificamos que os dados foram balanceados corretamente no nosos conjunto de treino. Agora, vamos verificar novamente a correlação entre as variáveis."
      ],
      "id": "nBtRbKK6p2SP"
    },
    {
      "cell_type": "code",
      "metadata": {
        "colab": {
          "base_uri": "https://localhost:8080/",
          "height": 495
        },
        "id": "HzX6J_ULNjrG",
        "outputId": "bbfe4c5e-0fa8-4b09-9aaf-9b7c63d76b79"
      },
      "source": [
        "#correlação normalizada e balanceada\r\n",
        "corr_rus = pd.DataFrame(X_rus).corr()\r\n",
        "\r\n",
        "\r\n",
        "# gráfico heatmap\r\n",
        "fig, ax = plt.subplots(figsize=(8,8))\r\n",
        "sns.heatmap(corr_rus, square=True, xticklabels=df.columns, yticklabels=df.columns, linewidths=0.05, cmap=\"coolwarm\")\r\n",
        "\r\n"
      ],
      "id": "HzX6J_ULNjrG",
      "execution_count": 26,
      "outputs": [
        {
          "output_type": "execute_result",
          "data": {
            "text/plain": [
              "<matplotlib.axes._subplots.AxesSubplot at 0x7fae1581ea10>"
            ]
          },
          "metadata": {
            "tags": []
          },
          "execution_count": 26
        },
        {
          "output_type": "display_data",
          "data": {
            "image/png": "[encoded data removed]",
            "text/plain": [
              "<Figure size 576x576 with 2 Axes>"
            ]
          },
          "metadata": {
            "tags": []
          }
        }
      ]
    },
    {
      "cell_type": "markdown",
      "metadata": {
        "id": "58WgQxt0qILY"
      },
      "source": [
        "Após a normalização e balanceamento dos dados, finalmente conseguimos ver as correlações apresetadas no conjunto de dados."
      ],
      "id": "58WgQxt0qILY"
    },
    {
      "cell_type": "markdown",
      "metadata": {
        "id": "5_pZGUf3Mx1Z"
      },
      "source": [
        "### 4. Modelo Machine Learning"
      ],
      "id": "5_pZGUf3Mx1Z"
    },
    {
      "cell_type": "markdown",
      "metadata": {
        "id": "MiWyBOZcrrbD"
      },
      "source": [
        "Aqui, escolheremos vamos escolher o modelo de classificação, treinar com nossos dados e verificar sua acertividade no conjunto de testes."
      ],
      "id": "MiWyBOZcrrbD"
    },
    {
      "cell_type": "markdown",
      "metadata": {
        "id": "a0YnrYj8sBod"
      },
      "source": [
        "#### Modelo de Regressão Logistica"
      ],
      "id": "a0YnrYj8sBod"
    },
    {
      "cell_type": "markdown",
      "metadata": {
        "id": "6XOUxiSesnO-"
      },
      "source": [
        "A regressão logística é um recurso que nos permite estimar\r\n",
        "a probabilidade associada à ocorrência de determinado\r\n",
        "evento em face de um conjunto de variáveis explanatórias. Vamos treinar nosso modelo e avaliar seu desempenho utilizando uma matriz de confusão. Além disso, vamos utilizar acurácia, recall e AUC, para avaliar o desempenho do nosso modelo."
      ],
      "id": "6XOUxiSesnO-"
    },
    {
      "cell_type": "code",
      "metadata": {
        "id": "-EImczl8Mxnb"
      },
      "source": [
        "#logistic regression\r\n",
        "\r\n",
        "#1 escolher modelo\r\n",
        "from sklearn.linear_model import LogisticRegression\r\n",
        "\r\n",
        "#2 parametrizar modelo\r\n",
        "LR = LogisticRegression(max_iter=125, multi_class='ovr', solver='liblinear')\r\n",
        "\r\n",
        "#3 dividir modelo\r\n",
        "#já realizado\r\n",
        "\r\n",
        "#4 treinar modelo\r\n",
        "LR.fit(X_rus, y_rus)\r\n",
        "\r\n",
        "#5 fazer as previsões\r\n",
        "y_pred = LR.predict(X_test)\r\n",
        "y_pred_proba = LR.predict_proba(X_test)\r\n"
      ],
      "id": "-EImczl8Mxnb",
      "execution_count": 27,
      "outputs": []
    },
    {
      "cell_type": "markdown",
      "metadata": {
        "id": "hu7TjlMpuCO4"
      },
      "source": [
        "Após o treinamento e a previsão do modelo, vamos analisar os dados de desempenho."
      ],
      "id": "hu7TjlMpuCO4"
    },
    {
      "cell_type": "code",
      "metadata": {
        "colab": {
          "base_uri": "https://localhost:8080/",
          "height": 583
        },
        "id": "8SobFRDYN6H4",
        "outputId": "18c0229d-ed6c-46eb-85db-e80c7e5a683a"
      },
      "source": [
        "print(\"Relatório de Classificação:\\n\", classification_report(y_test, y_pred, digits=3))\r\n",
        "skplt.metrics.plot_confusion_matrix(y_test, y_pred, normalize=True);\r\n",
        "\r\n",
        "\r\n",
        "# acurácia, recall e AUC do modelo\r\n",
        "print(\"Acurácia de : {:.3f}\\n\".format(accuracy_score(y_test, y_pred)))\r\n",
        "print(\"Recall de: {:.3f}\\n\".format(recall_score(y_test, y_pred)))\r\n",
        "print(\"ROC AUC Score: {:.3f}\\n\".format(roc_auc_score(y_test, y_pred)))\r\n"
      ],
      "id": "8SobFRDYN6H4",
      "execution_count": 28,
      "outputs": [
        {
          "output_type": "stream",
          "text": [
            "Relatório de Classificação:\n",
            "               precision    recall  f1-score   support\n",
            "\n",
            "           0      1.000     0.967     0.983     71067\n",
            "           1      0.052     0.956     0.099       135\n",
            "\n",
            "    accuracy                          0.967     71202\n",
            "   macro avg      0.526     0.961     0.541     71202\n",
            "weighted avg      0.998     0.967     0.982     71202\n",
            "\n",
            "Acurácia de : 0.967\n",
            "\n",
            "Recall de: 0.956\n",
            "\n",
            "ROC AUC Score: 0.961\n",
            "\n"
          ],
          "name": "stdout"
        },
        {
          "output_type": "display_data",
          "data": {
            "image/png": "[encoded data removed]",
            "text/plain": [
              "<Figure size 432x288 with 2 Axes>"
            ]
          },
          "metadata": {
            "tags": []
          }
        }
      ]
    },
    {
      "cell_type": "markdown",
      "metadata": {
        "id": "7hcdqlecS9XB"
      },
      "source": [
        "### Modelo Árvore de Decisão\r\n"
      ],
      "id": "7hcdqlecS9XB"
    },
    {
      "cell_type": "markdown",
      "metadata": {
        "id": "HrV7jVmEuBVP"
      },
      "source": [
        "Nosso modelo poderia ser melhor? Agora, vamos criar um modelo baseado em Árvore de decisão e comparar com nosso modelo anterior.\r\n",
        "\r\n",
        "Uma arvore de decisão divide os dados em varios pontos de decisão. Estes pontos são chamados de \"nós\" e a partir deles uma decisão será tomada, seguir para um outro \"ramo\", ou por outro. \r\n",
        "\r\n",
        "<a href=\"#\"><img src=\"https://didatica.tech/wp-content/uploads/2020/07/image-5.png\" width='100%' alt=\"banner\" border=\"0\"></a>\r\n",
        "Figura: Árvore de Decisão,[fonte](https://didatica.tech/como-funciona-o-algoritmo-arvore-de-decisao/)"
      ],
      "id": "HrV7jVmEuBVP"
    },
    {
      "cell_type": "code",
      "metadata": {
        "id": "H2vo2fyQS9Ly"
      },
      "source": [
        "# tree-classifier\r\n",
        "\r\n",
        "#1 escolher modelo\r\n",
        "from sklearn.tree import DecisionTreeClassifier\r\n",
        "\r\n",
        "#2 parametrizar modelo\r\n",
        "DT = DecisionTreeClassifier(max_depth=9)\r\n",
        "\r\n",
        "#3 dividir modelo\r\n",
        "#já realizado\r\n",
        "\r\n",
        "#4 treinar modelo\r\n",
        "DT.fit(X_rus, y_rus)\r\n",
        "\r\n",
        "#5 fazer as previsões\r\n",
        "y_pred_dt = DT.predict(X_test)\r\n"
      ],
      "id": "H2vo2fyQS9Ly",
      "execution_count": 29,
      "outputs": []
    },
    {
      "cell_type": "markdown",
      "metadata": {
        "id": "rrYgta7lv6fg"
      },
      "source": [
        "Novamente, vamos verificar o relatório de desempenho do nosso modelo:"
      ],
      "id": "rrYgta7lv6fg"
    },
    {
      "cell_type": "code",
      "metadata": {
        "id": "BJr2SA_lTQsl",
        "colab": {
          "base_uri": "https://localhost:8080/",
          "height": 583
        },
        "outputId": "8ff8f173-cd53-4152-eec6-e2f1d85fdab2"
      },
      "source": [
        "print(\"Relatório de Classificação:\\n\", classification_report(y_test, y_pred_dt, digits=3))\r\n",
        "skplt.metrics.plot_confusion_matrix(y_test, y_pred_dt, normalize=True);\r\n",
        "\r\n",
        "# acuracia do modelo\r\n",
        "print(\"Acurácia de : {:.3f}\\n\".format(accuracy_score(y_test, y_pred_dt)))\r\n",
        "print(\"Recall de: {:.3f}\\n\".format(recall_score(y_test, y_pred_dt)))\r\n",
        "print(\"ROC AUC Score: {:.3f}\\n\".format(roc_auc_score(y_test, y_pred_dt)))\r\n"
      ],
      "id": "BJr2SA_lTQsl",
      "execution_count": 30,
      "outputs": [
        {
          "output_type": "stream",
          "text": [
            "Relatório de Classificação:\n",
            "               precision    recall  f1-score   support\n",
            "\n",
            "           0      1.000     0.914     0.955     71067\n",
            "           1      0.021     0.956     0.040       135\n",
            "\n",
            "    accuracy                          0.914     71202\n",
            "   macro avg      0.510     0.935     0.498     71202\n",
            "weighted avg      0.998     0.914     0.953     71202\n",
            "\n",
            "Acurácia de : 0.914\n",
            "\n",
            "Recall de: 0.956\n",
            "\n",
            "ROC AUC Score: 0.935\n",
            "\n"
          ],
          "name": "stdout"
        },
        {
          "output_type": "display_data",
          "data": {
            "image/png": "[encoded data removed]",
            "text/plain": [
              "<Figure size 432x288 with 2 Axes>"
            ]
          },
          "metadata": {
            "tags": []
          }
        }
      ]
    },
    {
      "cell_type": "markdown",
      "metadata": {
        "id": "TnEXSoYPv_8G"
      },
      "source": [
        "O desempenho do modelo de árvore de decisão é muito parecido com o de regressão logística."
      ],
      "id": "TnEXSoYPv_8G"
    },
    {
      "cell_type": "markdown",
      "metadata": {
        "id": "iWLvNwHqXAr3"
      },
      "source": [
        "### Modelo Naive Bayes"
      ],
      "id": "iWLvNwHqXAr3"
    },
    {
      "cell_type": "markdown",
      "metadata": {
        "id": "Sbr7gUiawSPq"
      },
      "source": [
        "Agora, vamos para nosso último modelo, o Naive Bayes.\r\n",
        "\r\n",
        "O tal do Naive Bayes,age como um classificador e baseando-se na probabilidade de cada evento ocorrer, desconsiderando a correlação entre variáveis do conjunto de dados. Aqui, iremos utilizar o Gaussian Naive Bayes. \r\n"
      ],
      "id": "Sbr7gUiawSPq"
    },
    {
      "cell_type": "code",
      "metadata": {
        "colab": {
          "base_uri": "https://localhost:8080/"
        },
        "id": "lQX7KvNxW65K",
        "outputId": "27a3f0dc-884d-4be1-854d-e04b6faaaf52"
      },
      "source": [
        "# Nearest Neighbors\r\n",
        "\r\n",
        "#1 escolher modelo\r\n",
        "from sklearn.naive_bayes import GaussianNB\r\n",
        "\r\n",
        "#2 parametrizar modelo\r\n",
        "gnb = GaussianNB()\r\n",
        "\r\n",
        "#3 dividir modelo\r\n",
        "#já realizado\r\n",
        "\r\n",
        "#4 treinar modelo\r\n",
        "gnb.fit(X_rus, y_rus)\r\n",
        "\r\n",
        "#5 fazer as previsões\r\n",
        "y_pred_gnb = gnb.predict(X_test)\r\n",
        "print(y_pred_gnb)"
      ],
      "id": "lQX7KvNxW65K",
      "execution_count": 31,
      "outputs": [
        {
          "output_type": "stream",
          "text": [
            "[0 0 0 ... 0 0 0]\n"
          ],
          "name": "stdout"
        }
      ]
    },
    {
      "cell_type": "code",
      "metadata": {
        "colab": {
          "base_uri": "https://localhost:8080/",
          "height": 583
        },
        "id": "TU9hQ9zQaHKY",
        "outputId": "34fbf9ca-1b44-468a-e174-1b886b028220"
      },
      "source": [
        "print(\"Relatório de Classificação:\\n\", classification_report(y_test, y_pred_gnb, digits=3))\r\n",
        "skplt.metrics.plot_confusion_matrix(y_test, y_pred_gnb, normalize=True);\r\n",
        "\r\n",
        "# acuracia e recall do modelo\r\n",
        "print(\"Acurácia de : {:.3f}\\n\".format(accuracy_score(y_test, y_pred_gnb)))\r\n",
        "print(\"Recall de: {:.3f}\\n\".format(recall_score(y_test, y_pred_gnb)))\r\n",
        "print(\"ROC AUC Score: {:.3f}\\n\".format(roc_auc_score(y_test, y_pred_gnb)))\r\n"
      ],
      "id": "TU9hQ9zQaHKY",
      "execution_count": 32,
      "outputs": [
        {
          "output_type": "stream",
          "text": [
            "Relatório de Classificação:\n",
            "               precision    recall  f1-score   support\n",
            "\n",
            "           0      1.000     0.974     0.987     71067\n",
            "           1      0.061     0.889     0.114       135\n",
            "\n",
            "    accuracy                          0.974     71202\n",
            "   macro avg      0.530     0.931     0.551     71202\n",
            "weighted avg      0.998     0.974     0.985     71202\n",
            "\n",
            "Acurácia de : 0.974\n",
            "\n",
            "Recall de: 0.889\n",
            "\n",
            "ROC AUC Score: 0.931\n",
            "\n"
          ],
          "name": "stdout"
        },
        {
          "output_type": "display_data",
          "data": {
            "image/png": "[encoded data removed]",
            "text/plain": [
              "<Figure size 432x288 with 2 Axes>"
            ]
          },
          "metadata": {
            "tags": []
          }
        }
      ]
    },
    {
      "cell_type": "markdown",
      "metadata": {
        "id": "2pBkL96pxzsf"
      },
      "source": [
        "#### Tabela de Comparação entre os modelos\r\n"
      ],
      "id": "2pBkL96pxzsf"
    },
    {
      "cell_type": "markdown",
      "metadata": {
        "id": "jnO1biRWznCO"
      },
      "source": [
        "Vamos compara o desempenho dos modelos:"
      ],
      "id": "jnO1biRWznCO"
    },
    {
      "cell_type": "markdown",
      "metadata": {
        "id": "oRv3_zrlza0Q"
      },
      "source": [
        "![image.png](data:image/png;base64,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)"
      ],
      "id": "oRv3_zrlza0Q"
    },
    {
      "cell_type": "markdown",
      "metadata": {
        "id": "ekSeOH_Yzqhr"
      },
      "source": [
        "De acordo com as métricas de desempenho, o modelo que melhor previu as fraudes, portanto, foi o mais apropriádo para solucação do problema, foi o de Regressão Logística."
      ],
      "id": "ekSeOH_Yzqhr"
    },
    {
      "cell_type": "markdown",
      "metadata": {
        "id": "tEn_U0V3z5Sx"
      },
      "source": [
        "## Consclusões\r\n",
        "Utilizando o conjunto de dados disponibilizado por algumas empresas européias de cartões de créditos, criamos nosso modelo de previsão de fraudes. Para isso, foi necessário uma análise do problema, exploração dos dados, tratamento e balanceamento dos dados, para que enfim, podéssemos treinar e testar nosso modelo de Machine Learning. \r\n",
        "\r\n",
        "É claro, nosso modelo não é perfeito, havendo espaço para aprimoramentos e otimizações do modelo escolhido, mas, o modelo obteve um ótimo desempenho com os dados de teste apresentados.\r\n",
        "\r\n",
        "Nesse artigo, vimos um pequeno pedaço de todo o esforço desprendido para a criação de algorítmos capazes de classificar um fraude nas transações de cartão de crédito. Nas aplicações do mundo real, esse trabalho existe uma constate melhoria e aprimoramento dos parâmetros do modelo."
      ],
      "id": "tEn_U0V3z5Sx"
    }
  ]
}
