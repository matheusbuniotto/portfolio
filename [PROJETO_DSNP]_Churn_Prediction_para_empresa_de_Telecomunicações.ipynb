{
  "nbformat": 4,
  "nbformat_minor": 0,
  "metadata": {
    "colab": {
      "name": "[PROJETO - DSNP] Churn Prediction para empresa de Telecomunicações.ipynb",
      "provenance": [],
      "authorship_tag": "ABX9TyNFN0FfqSKqxF8LqrSFkVI0",
      "include_colab_link": true
    },
    "kernelspec": {
      "name": "python3",
      "display_name": "Python 3"
    }
  },
  "cells": [
    {
      "cell_type": "markdown",
      "metadata": {
        "id": "view-in-github",
        "colab_type": "text"
      },
      "source": [
        "<a href=\"https://colab.research.google.com/github/matheusbuniotto/portfolio/blob/main/%5BPROJETO_DSNP%5D_Churn_Prediction_para_empresa_de_Telecomunica%C3%A7%C3%B5es.ipynb\" target=\"_parent\"><img src=\"https://colab.research.google.com/assets/colab-badge.svg\" alt=\"Open In Colab\"/></a>"
      ]
    },
    {
      "cell_type": "markdown",
      "metadata": {
        "id": "0qeZYbxIuJNc"
      },
      "source": [
        "<a href=\"#\"><img src=\"https://github.com/matheusbuniotto/portifolio/blob/main/logo_vertical.png?raw=true\" width='210px' alt=\"logo\" border=\"0\"></a>\r\n",
        "\r\n",
        "#### **Data Science na Prática**\r\n",
        "#### *Projeto - Prevendo o Churn em uma empresa de Telecoomunicação*\r\n",
        "*por Matheus Buniotto*\r\n",
        "\r\n",
        "---\r\n"
      ]
    },
    {
      "cell_type": "markdown",
      "metadata": {
        "id": "dBfsnEOkuTzb"
      },
      "source": [
        "# Projeto - Churn Rate Prediction\r\n",
        "> \r\n",
        "O Churn rate é uma métrica utilizada para detectar a perda de clientes em um determinado período e é muito utilizada em empresas SaaS (Software as a Services) ou que trabalham com produtos ou serviços por assinatura.\r\n",
        "\r\n",
        "O calcúlo do Churn Rate é representado pela formúla:\r\n",
        "\r\n",
        "![Curn](https://agendor-blog-uploads.s3.sa-east-1.amazonaws.com/2017/06/11181759/churn-rate-03.png)\r\n",
        "Fonte: [Meet](https://meetime.com.br/blog/gestao-empresarial/reducao-de-churn/)\r\n",
        "\r\n",
        "**A importância do Churn Rate**\r\n",
        "\r\n",
        "A fidelização de um cliente é fundamental o sucesso das empresas. \r\n",
        "\r\n",
        "> “Manter um cliente é muito mais barato do que atrair um novo”\r\n",
        "\r\n",
        "Isso faz sentido, afinal, você não precisa gastar tempo e recursos para atrair alguém que já é seu cliente.\r\n",
        "\r\n",
        "Hoje, essa máxima é ainda mais importante e as cada vez mais as empresas estão despendendo esforços para que haja uma maior retenção dos consumidores.\r\n",
        "\r\n",
        "### **O problema**\r\n",
        "![Churn](https://ikarus.digital/wp-content/uploads/5d0136e22309e039a15a700f_churn-14-original.jpg)\r\n",
        "Manter uma taxa de Churn o mais baixo possível representa um aumento significativo nos lucros da empresa. \r\n",
        "\r\n",
        "Se você ainda não está convencido, um estudo conduzido por Frederick Reichheld da Bain & Company(o inventor do NPS), revelou que melhorar a retenção de clientes em apenas 5% pode aumentar os lucros da empresa de 25 a 95%!\r\n",
        "\r\n",
        "Fonte: [Harvard Business Review](https://hbr.org/2014/10/the-value-of-keeping-the-right-customers)\r\n",
        "\r\n",
        "\r\n",
        "* Você já imaginou se pudessemos prever um cliente que provavelmente cancelará sua assinatura?\r\n",
        "\r\n",
        "\r\n",
        "### **Hipótese**\r\n",
        "\r\n",
        "Utilizando dados históricos de clientes e através de algorítimos de Machine Learning podemos prever a probabilidade de um cliente cancelar sua assinatura.\r\n",
        "\r\n",
        "Sabendo qual cliente terá maior chance de desistir de sua assinatura podemos direcionar os esforços para mante-lo fiel ao produto ou serviço. \r\n",
        "\r\n",
        "Podemos ainda, utilizar os dados do cliente para fazermos uma oferta especial e personalizada à ele, dessa forma podemos aumentar a satisfação do cliente em relação ao serviço ou produto ofertado. \r\n",
        "\r\n",
        "> **91%** dos consumidores dizem que são mais propensos a comprar com marcas que fornecem ofertas e recomendações que são relevantes para eles. - *Accenture*\r\n",
        "\r\n",
        ">\r\n",
        "### **O Projeto**\r\n",
        "\r\n",
        "Nesse projeto irei utilizar os dados fornecidos originalmente na plataforma de ensino da IBM Developer, e refletem um problema típico de Churn em empresas de telecomunicação.\r\n",
        "\r\n",
        "Utilizando os dados, iremos prever os clientes que serão mais propensos à cancelar o serviço. "
      ]
    },
    {
      "cell_type": "markdown",
      "metadata": {
        "id": "gCYglGqV9MrX"
      },
      "source": [
        "## 1. Aquisição dos dados"
      ]
    },
    {
      "cell_type": "markdown",
      "metadata": {
        "id": "kMy4CBVd9S4H"
      },
      "source": [
        "Como citado acima, os dados foram disponibilizados pela plataforma IBM Developer, e podem ser encontrados através do link: [IBM](https://developer.ibm.com/technologies/data-science/patterns/predict-customer-churn-using-watson-studio-and-jupyter-notebooks/#)\r\n",
        "\r\n",
        "Apesar de não termos informações explícitas sobre o que cada variável representa, os nomes das colunas nos permite entender o que cada uma representa. "
      ]
    },
    {
      "cell_type": "code",
      "metadata": {
        "id": "Yb6IedO69MSx"
      },
      "source": [
        "# importar os pacotes necessários\r\n",
        "import pandas as pd\r\n",
        "import seaborn as sns\r\n",
        "import matplotlib.pyplot as plt\r\n",
        "import numpy as np\r\n",
        "import warnings\r\n",
        "warnings.simplefilter(action='ignore', category=FutureWarning)\r\n",
        "warnings.simplefilter(action='ignore', category=UserWarning)\r\n",
        "sns.set(style=\"white\")\r\n",
        "%matplotlib inline\r\n",
        "\r\n",
        "\r\n",
        "# importar os dados\r\n",
        "PATH = \"https://raw.githubusercontent.com/carlosfab/dsnp2/master/datasets/WA_Fn-UseC_-Telco-Customer-Churn.csv\"\r\n",
        "df = pd.read_csv(PATH)\r\n",
        "\r\n"
      ],
      "execution_count": 125,
      "outputs": []
    },
    {
      "cell_type": "markdown",
      "metadata": {
        "id": "UQZBxaHo-Xx4"
      },
      "source": [
        "## 2. Análise explorátória\r\n",
        "Nessa etapa iremos entender os dados, sua composição, formatos, estrutura, etc. Além disso, vamos transforma-los em gráficos que facilitem a compreensão e nos ajude a extrair informações relevantes para contrução do nosso modelo."
      ]
    },
    {
      "cell_type": "markdown",
      "metadata": {
        "id": "aVZkG_Vj9_D5"
      },
      "source": [
        " Verificando as 5 primeiras entradas do conjunto de dados. Vamos ver qual é a \"cara\" dos nossos dados."
      ]
    },
    {
      "cell_type": "code",
      "metadata": {
        "colab": {
          "base_uri": "https://localhost:8080/",
          "height": 309
        },
        "id": "1eftdEaYuCiV",
        "outputId": "60190970-d23b-4d16-9cc5-a3f7837e8d0b"
      },
      "source": [
        "# ver as 5 primeiras entradas\r\n",
        "df.head()"
      ],
      "execution_count": 126,
      "outputs": [
        {
          "output_type": "execute_result",
          "data": {
            "text/html": [
              "<div>\n",
              "<style scoped>\n",
              "    .dataframe tbody tr th:only-of-type {\n",
              "        vertical-align: middle;\n",
              "    }\n",
              "\n",
              "    .dataframe tbody tr th {\n",
              "        vertical-align: top;\n",
              "    }\n",
              "\n",
              "    .dataframe thead th {\n",
              "        text-align: right;\n",
              "    }\n",
              "</style>\n",
              "<table border=\"1\" class=\"dataframe\">\n",
              "  <thead>\n",
              "    <tr style=\"text-align: right;\">\n",
              "      <th></th>\n",
              "      <th>customerID</th>\n",
              "      <th>gender</th>\n",
              "      <th>SeniorCitizen</th>\n",
              "      <th>Partner</th>\n",
              "      <th>Dependents</th>\n",
              "      <th>tenure</th>\n",
              "      <th>PhoneService</th>\n",
              "      <th>MultipleLines</th>\n",
              "      <th>InternetService</th>\n",
              "      <th>OnlineSecurity</th>\n",
              "      <th>OnlineBackup</th>\n",
              "      <th>DeviceProtection</th>\n",
              "      <th>TechSupport</th>\n",
              "      <th>StreamingTV</th>\n",
              "      <th>StreamingMovies</th>\n",
              "      <th>Contract</th>\n",
              "      <th>PaperlessBilling</th>\n",
              "      <th>PaymentMethod</th>\n",
              "      <th>MonthlyCharges</th>\n",
              "      <th>TotalCharges</th>\n",
              "      <th>Churn</th>\n",
              "    </tr>\n",
              "  </thead>\n",
              "  <tbody>\n",
              "    <tr>\n",
              "      <th>0</th>\n",
              "      <td>7590-VHVEG</td>\n",
              "      <td>Female</td>\n",
              "      <td>0</td>\n",
              "      <td>Yes</td>\n",
              "      <td>No</td>\n",
              "      <td>1</td>\n",
              "      <td>No</td>\n",
              "      <td>No phone service</td>\n",
              "      <td>DSL</td>\n",
              "      <td>No</td>\n",
              "      <td>Yes</td>\n",
              "      <td>No</td>\n",
              "      <td>No</td>\n",
              "      <td>No</td>\n",
              "      <td>No</td>\n",
              "      <td>Month-to-month</td>\n",
              "      <td>Yes</td>\n",
              "      <td>Electronic check</td>\n",
              "      <td>29.85</td>\n",
              "      <td>29.85</td>\n",
              "      <td>No</td>\n",
              "    </tr>\n",
              "    <tr>\n",
              "      <th>1</th>\n",
              "      <td>5575-GNVDE</td>\n",
              "      <td>Male</td>\n",
              "      <td>0</td>\n",
              "      <td>No</td>\n",
              "      <td>No</td>\n",
              "      <td>34</td>\n",
              "      <td>Yes</td>\n",
              "      <td>No</td>\n",
              "      <td>DSL</td>\n",
              "      <td>Yes</td>\n",
              "      <td>No</td>\n",
              "      <td>Yes</td>\n",
              "      <td>No</td>\n",
              "      <td>No</td>\n",
              "      <td>No</td>\n",
              "      <td>One year</td>\n",
              "      <td>No</td>\n",
              "      <td>Mailed check</td>\n",
              "      <td>56.95</td>\n",
              "      <td>1889.5</td>\n",
              "      <td>No</td>\n",
              "    </tr>\n",
              "    <tr>\n",
              "      <th>2</th>\n",
              "      <td>3668-QPYBK</td>\n",
              "      <td>Male</td>\n",
              "      <td>0</td>\n",
              "      <td>No</td>\n",
              "      <td>No</td>\n",
              "      <td>2</td>\n",
              "      <td>Yes</td>\n",
              "      <td>No</td>\n",
              "      <td>DSL</td>\n",
              "      <td>Yes</td>\n",
              "      <td>Yes</td>\n",
              "      <td>No</td>\n",
              "      <td>No</td>\n",
              "      <td>No</td>\n",
              "      <td>No</td>\n",
              "      <td>Month-to-month</td>\n",
              "      <td>Yes</td>\n",
              "      <td>Mailed check</td>\n",
              "      <td>53.85</td>\n",
              "      <td>108.15</td>\n",
              "      <td>Yes</td>\n",
              "    </tr>\n",
              "    <tr>\n",
              "      <th>3</th>\n",
              "      <td>7795-CFOCW</td>\n",
              "      <td>Male</td>\n",
              "      <td>0</td>\n",
              "      <td>No</td>\n",
              "      <td>No</td>\n",
              "      <td>45</td>\n",
              "      <td>No</td>\n",
              "      <td>No phone service</td>\n",
              "      <td>DSL</td>\n",
              "      <td>Yes</td>\n",
              "      <td>No</td>\n",
              "      <td>Yes</td>\n",
              "      <td>Yes</td>\n",
              "      <td>No</td>\n",
              "      <td>No</td>\n",
              "      <td>One year</td>\n",
              "      <td>No</td>\n",
              "      <td>Bank transfer (automatic)</td>\n",
              "      <td>42.30</td>\n",
              "      <td>1840.75</td>\n",
              "      <td>No</td>\n",
              "    </tr>\n",
              "    <tr>\n",
              "      <th>4</th>\n",
              "      <td>9237-HQITU</td>\n",
              "      <td>Female</td>\n",
              "      <td>0</td>\n",
              "      <td>No</td>\n",
              "      <td>No</td>\n",
              "      <td>2</td>\n",
              "      <td>Yes</td>\n",
              "      <td>No</td>\n",
              "      <td>Fiber optic</td>\n",
              "      <td>No</td>\n",
              "      <td>No</td>\n",
              "      <td>No</td>\n",
              "      <td>No</td>\n",
              "      <td>No</td>\n",
              "      <td>No</td>\n",
              "      <td>Month-to-month</td>\n",
              "      <td>Yes</td>\n",
              "      <td>Electronic check</td>\n",
              "      <td>70.70</td>\n",
              "      <td>151.65</td>\n",
              "      <td>Yes</td>\n",
              "    </tr>\n",
              "  </tbody>\n",
              "</table>\n",
              "</div>"
            ],
            "text/plain": [
              "   customerID  gender  SeniorCitizen  ... MonthlyCharges TotalCharges  Churn\n",
              "0  7590-VHVEG  Female              0  ...          29.85        29.85     No\n",
              "1  5575-GNVDE    Male              0  ...          56.95       1889.5     No\n",
              "2  3668-QPYBK    Male              0  ...          53.85       108.15    Yes\n",
              "3  7795-CFOCW    Male              0  ...          42.30      1840.75     No\n",
              "4  9237-HQITU  Female              0  ...          70.70       151.65    Yes\n",
              "\n",
              "[5 rows x 21 columns]"
            ]
          },
          "metadata": {
            "tags": []
          },
          "execution_count": 126
        }
      ]
    },
    {
      "cell_type": "markdown",
      "metadata": {
        "id": "ruiwOzzc-2fI"
      },
      "source": [
        "Tamanho,composição e formato dos dados."
      ]
    },
    {
      "cell_type": "code",
      "metadata": {
        "colab": {
          "base_uri": "https://localhost:8080/"
        },
        "id": "bTKaN8UKuGFb",
        "outputId": "42ac1aae-76e6-4de3-b983-df1708c851b1"
      },
      "source": [
        "df.shape\r\n",
        "\r\n",
        "print('O conjunto de dados possui: {:} entradas'.format(df.shape[0]))\r\n",
        "print('O conjunto de dados possui: {:} variáveis'.format(df.shape[1]))"
      ],
      "execution_count": 127,
      "outputs": [
        {
          "output_type": "stream",
          "text": [
            "O conjunto de dados possui: 7043 entradas\n",
            "O conjunto de dados possui: 21 variáveis\n"
          ],
          "name": "stdout"
        }
      ]
    },
    {
      "cell_type": "code",
      "metadata": {
        "colab": {
          "base_uri": "https://localhost:8080/"
        },
        "id": "IzSaz-EC_Bhh",
        "outputId": "b626481f-a264-4c99-a9d3-36b41b2e25f4"
      },
      "source": [
        "df.dtypes"
      ],
      "execution_count": 128,
      "outputs": [
        {
          "output_type": "execute_result",
          "data": {
            "text/plain": [
              "customerID           object\n",
              "gender               object\n",
              "SeniorCitizen         int64\n",
              "Partner              object\n",
              "Dependents           object\n",
              "tenure                int64\n",
              "PhoneService         object\n",
              "MultipleLines        object\n",
              "InternetService      object\n",
              "OnlineSecurity       object\n",
              "OnlineBackup         object\n",
              "DeviceProtection     object\n",
              "TechSupport          object\n",
              "StreamingTV          object\n",
              "StreamingMovies      object\n",
              "Contract             object\n",
              "PaperlessBilling     object\n",
              "PaymentMethod        object\n",
              "MonthlyCharges      float64\n",
              "TotalCharges         object\n",
              "Churn                object\n",
              "dtype: object"
            ]
          },
          "metadata": {
            "tags": []
          },
          "execution_count": 128
        }
      ]
    },
    {
      "cell_type": "markdown",
      "metadata": {
        "id": "8Bbm9omQ-7oJ"
      },
      "source": [
        "Vemos que a variável TotalCharges, que representa o valor total de recargas, está em formato *object*. Como a variável representa um valor numérico, vamos realizar uma conversão para tipo numérico.\r\n",
        "\r\n",
        "A coluna CostumerID não irá influenciar em nossa análise, por se tratar de uma identificação do cliente e não agregará em nosso modelo."
      ]
    },
    {
      "cell_type": "code",
      "metadata": {
        "id": "Qr9JS70WHJ3b"
      },
      "source": [
        "#converter TotalCharges para float64\r\n",
        "df.TotalCharges = df.TotalCharges.replace(\" \", 0).astype('float64')"
      ],
      "execution_count": 129,
      "outputs": []
    },
    {
      "cell_type": "code",
      "metadata": {
        "colab": {
          "base_uri": "https://localhost:8080/"
        },
        "id": "00ZXnY46HTFr",
        "outputId": "affed66f-5278-4c7e-f64c-2f14108c0669"
      },
      "source": [
        "df.TotalCharges.dtypes"
      ],
      "execution_count": 130,
      "outputs": [
        {
          "output_type": "execute_result",
          "data": {
            "text/plain": [
              "dtype('float64')"
            ]
          },
          "metadata": {
            "tags": []
          },
          "execution_count": 130
        }
      ]
    },
    {
      "cell_type": "code",
      "metadata": {
        "id": "wR22wG3p_7Bf"
      },
      "source": [
        "df.drop(('customerID'), axis=1, inplace=True)"
      ],
      "execution_count": 131,
      "outputs": []
    },
    {
      "cell_type": "markdown",
      "metadata": {
        "id": "m6tLc-RWAida"
      },
      "source": [
        "Vamos investigar a nossa variável **Alvo - Churn!**"
      ]
    },
    {
      "cell_type": "code",
      "metadata": {
        "colab": {
          "base_uri": "https://localhost:8080/"
        },
        "id": "XW9oPIO5_nKj",
        "outputId": "4401b20c-ef9a-475d-829c-32a7aa9a7d37"
      },
      "source": [
        "df['Churn'].unique().tolist()"
      ],
      "execution_count": 132,
      "outputs": [
        {
          "output_type": "execute_result",
          "data": {
            "text/plain": [
              "['No', 'Yes']"
            ]
          },
          "metadata": {
            "tags": []
          },
          "execution_count": 132
        }
      ]
    },
    {
      "cell_type": "code",
      "metadata": {
        "colab": {
          "base_uri": "https://localhost:8080/"
        },
        "id": "xPoZZ0_4Asbq",
        "outputId": "22f24543-6921-4f90-8769-887d0151ddc6"
      },
      "source": [
        "df['Churn'].value_counts()"
      ],
      "execution_count": 133,
      "outputs": [
        {
          "output_type": "execute_result",
          "data": {
            "text/plain": [
              "No     5174\n",
              "Yes    1869\n",
              "Name: Churn, dtype: int64"
            ]
          },
          "metadata": {
            "tags": []
          },
          "execution_count": 133
        }
      ]
    },
    {
      "cell_type": "markdown",
      "metadata": {
        "id": "t0Xf-rpZEZa6"
      },
      "source": [
        "A variável Churn é composta de por Sim e Não. Mais a frente iremos balancear os Churn para que nosso modelo possa aprender sem nenhum viés. \r\n",
        "\r\n",
        "Grande parte das variáveis do conjunto de dados são variáveis categóricas, vamos enteder como elas são compostas:\r\n"
      ]
    },
    {
      "cell_type": "code",
      "metadata": {
        "id": "qLX87ZA6FGlB"
      },
      "source": [
        "#criar df para ver as categorias das colunas\r\n",
        "df_categorias = df.drop(['tenure', 'MonthlyCharges', 'TotalCharges'], axis = 1) "
      ],
      "execution_count": 134,
      "outputs": []
    },
    {
      "cell_type": "code",
      "metadata": {
        "colab": {
          "base_uri": "https://localhost:8080/"
        },
        "id": "Vao154BeFc26",
        "outputId": "eb016f2e-3ea3-478c-e481-5447e91025fb"
      },
      "source": [
        "for c in df_categorias.columns:\r\n",
        "  print(c, ':', df[c].nunique(), 'categorias')"
      ],
      "execution_count": 135,
      "outputs": [
        {
          "output_type": "stream",
          "text": [
            "gender : 2 categorias\n",
            "SeniorCitizen : 2 categorias\n",
            "Partner : 2 categorias\n",
            "Dependents : 2 categorias\n",
            "PhoneService : 2 categorias\n",
            "MultipleLines : 3 categorias\n",
            "InternetService : 3 categorias\n",
            "OnlineSecurity : 3 categorias\n",
            "OnlineBackup : 3 categorias\n",
            "DeviceProtection : 3 categorias\n",
            "TechSupport : 3 categorias\n",
            "StreamingTV : 3 categorias\n",
            "StreamingMovies : 3 categorias\n",
            "Contract : 3 categorias\n",
            "PaperlessBilling : 2 categorias\n",
            "PaymentMethod : 4 categorias\n",
            "Churn : 2 categorias\n"
          ],
          "name": "stdout"
        }
      ]
    },
    {
      "cell_type": "markdown",
      "metadata": {
        "id": "xTl0REWbF8DC"
      },
      "source": [
        "Vamos criar 2 listas, representando as variáveis binárias e não binárias. Isso facilitará o tratamento das variáveis futuramente."
      ]
    },
    {
      "cell_type": "code",
      "metadata": {
        "id": "XfCYQkyZFgWo"
      },
      "source": [
        "categorias_binarias = []\r\n",
        "categorias_n_binarias = []\r\n",
        "\r\n",
        "for c in df_categorias.columns:\r\n",
        "  if df[c].nunique() == 2:\r\n",
        "    categorias_binarias.append(c)\r\n",
        "  else:\r\n",
        "    categorias_n_binarias.append(c)"
      ],
      "execution_count": 136,
      "outputs": []
    },
    {
      "cell_type": "code",
      "metadata": {
        "colab": {
          "base_uri": "https://localhost:8080/"
        },
        "id": "df-5IKhZFzP4",
        "outputId": "4fbf82a3-e769-41ae-8f23-6170b0a845b0"
      },
      "source": [
        "print('Categorias Binárias:')\r\n",
        "print(categorias_binarias)\r\n",
        "\r\n",
        "print('')\r\n",
        "\r\n",
        "print('Categorias Não Binárias:')\r\n",
        "print(categorias_n_binarias)"
      ],
      "execution_count": 137,
      "outputs": [
        {
          "output_type": "stream",
          "text": [
            "Categorias Binárias:\n",
            "['gender', 'SeniorCitizen', 'Partner', 'Dependents', 'PhoneService', 'PaperlessBilling', 'Churn']\n",
            "\n",
            "Categorias Não Binárias:\n",
            "['MultipleLines', 'InternetService', 'OnlineSecurity', 'OnlineBackup', 'DeviceProtection', 'TechSupport', 'StreamingTV', 'StreamingMovies', 'Contract', 'PaymentMethod']\n"
          ],
          "name": "stdout"
        }
      ]
    },
    {
      "cell_type": "markdown",
      "metadata": {
        "id": "44II2w3iHYSc"
      },
      "source": [
        "Sabendo que a maioria dos conjuntos de dados aprensentam algum problema em relação a valores nulos ou em brancos, vamos analisar nosso conjunto."
      ]
    },
    {
      "cell_type": "code",
      "metadata": {
        "colab": {
          "base_uri": "https://localhost:8080/"
        },
        "id": "fGZcNoFGG-bi",
        "outputId": "244029a1-8f73-4417-9fda-009c1cfe6744"
      },
      "source": [
        "print('O conjunto de dados possui: {} valores nulos'.format(df.isnull().sum().sum()))"
      ],
      "execution_count": 138,
      "outputs": [
        {
          "output_type": "stream",
          "text": [
            "O conjunto de dados possui: 0 valores nulos\n"
          ],
          "name": "stdout"
        }
      ]
    },
    {
      "cell_type": "markdown",
      "metadata": {
        "id": "rEQKM7bnH3Ir"
      },
      "source": [
        "Vamos extrair as informações estatísticas relevantes dos dados númericos "
      ]
    },
    {
      "cell_type": "code",
      "metadata": {
        "colab": {
          "base_uri": "https://localhost:8080/",
          "height": 297
        },
        "id": "mdfRbZ-GH1U7",
        "outputId": "5d280509-29cd-463f-8f7f-cdcc80d2f61f"
      },
      "source": [
        "df[['tenure', 'MonthlyCharges', 'TotalCharges']].describe()"
      ],
      "execution_count": 139,
      "outputs": [
        {
          "output_type": "execute_result",
          "data": {
            "text/html": [
              "<div>\n",
              "<style scoped>\n",
              "    .dataframe tbody tr th:only-of-type {\n",
              "        vertical-align: middle;\n",
              "    }\n",
              "\n",
              "    .dataframe tbody tr th {\n",
              "        vertical-align: top;\n",
              "    }\n",
              "\n",
              "    .dataframe thead th {\n",
              "        text-align: right;\n",
              "    }\n",
              "</style>\n",
              "<table border=\"1\" class=\"dataframe\">\n",
              "  <thead>\n",
              "    <tr style=\"text-align: right;\">\n",
              "      <th></th>\n",
              "      <th>tenure</th>\n",
              "      <th>MonthlyCharges</th>\n",
              "      <th>TotalCharges</th>\n",
              "    </tr>\n",
              "  </thead>\n",
              "  <tbody>\n",
              "    <tr>\n",
              "      <th>count</th>\n",
              "      <td>7043.000000</td>\n",
              "      <td>7043.000000</td>\n",
              "      <td>7043.000000</td>\n",
              "    </tr>\n",
              "    <tr>\n",
              "      <th>mean</th>\n",
              "      <td>32.371149</td>\n",
              "      <td>64.761692</td>\n",
              "      <td>2279.734304</td>\n",
              "    </tr>\n",
              "    <tr>\n",
              "      <th>std</th>\n",
              "      <td>24.559481</td>\n",
              "      <td>30.090047</td>\n",
              "      <td>2266.794470</td>\n",
              "    </tr>\n",
              "    <tr>\n",
              "      <th>min</th>\n",
              "      <td>0.000000</td>\n",
              "      <td>18.250000</td>\n",
              "      <td>0.000000</td>\n",
              "    </tr>\n",
              "    <tr>\n",
              "      <th>25%</th>\n",
              "      <td>9.000000</td>\n",
              "      <td>35.500000</td>\n",
              "      <td>398.550000</td>\n",
              "    </tr>\n",
              "    <tr>\n",
              "      <th>50%</th>\n",
              "      <td>29.000000</td>\n",
              "      <td>70.350000</td>\n",
              "      <td>1394.550000</td>\n",
              "    </tr>\n",
              "    <tr>\n",
              "      <th>75%</th>\n",
              "      <td>55.000000</td>\n",
              "      <td>89.850000</td>\n",
              "      <td>3786.600000</td>\n",
              "    </tr>\n",
              "    <tr>\n",
              "      <th>max</th>\n",
              "      <td>72.000000</td>\n",
              "      <td>118.750000</td>\n",
              "      <td>8684.800000</td>\n",
              "    </tr>\n",
              "  </tbody>\n",
              "</table>\n",
              "</div>"
            ],
            "text/plain": [
              "            tenure  MonthlyCharges  TotalCharges\n",
              "count  7043.000000     7043.000000   7043.000000\n",
              "mean     32.371149       64.761692   2279.734304\n",
              "std      24.559481       30.090047   2266.794470\n",
              "min       0.000000       18.250000      0.000000\n",
              "25%       9.000000       35.500000    398.550000\n",
              "50%      29.000000       70.350000   1394.550000\n",
              "75%      55.000000       89.850000   3786.600000\n",
              "max      72.000000      118.750000   8684.800000"
            ]
          },
          "metadata": {
            "tags": []
          },
          "execution_count": 139
        }
      ]
    },
    {
      "cell_type": "markdown",
      "metadata": {
        "id": "omexFCQxIfvs"
      },
      "source": [
        "Anteriormente descobrimos que a variável alvo (aquela que estamos tentando prever) está desbalanceada. Vamos analisar melhor:"
      ]
    },
    {
      "cell_type": "code",
      "metadata": {
        "colab": {
          "base_uri": "https://localhost:8080/",
          "height": 355
        },
        "id": "Nw9XbY8NIbC4",
        "outputId": "5d44b80f-7989-4caf-8e9f-d7dc151a9e00"
      },
      "source": [
        "ax = sns.countplot(x=\"Churn\", data=df)\r\n",
        "plt.title('Balanceamento dos dados - Churn')\r\n",
        "ax.set_yticklabels(['{:.0%}'.format(num) for num in ax.get_yticks()/len(df)])\r\n",
        "plt.show()\r\n",
        "\r\n",
        "churn_yes = df.Churn.value_counts()[1]/df.shape[0]\r\n",
        "churn_no = df.Churn.value_counts()[0]/df.shape[0]\r\n",
        "\r\n",
        "print('\\n')\r\n",
        "print('Os clientes Churn representam {:,.2%} do total'.format(churn_yes))"
      ],
      "execution_count": 140,
      "outputs": [
        {
          "output_type": "display_data",
          "data": {
            "image/png": "[encoded data removed]",
            "text/plain": [
              "<Figure size 432x288 with 1 Axes>"
            ]
          },
          "metadata": {
            "tags": [],
            "needs_background": "light"
          }
        },
        {
          "output_type": "stream",
          "text": [
            "\n",
            "\n",
            "Os clientes Churn representam 26.54% do total\n"
          ],
          "name": "stdout"
        }
      ]
    },
    {
      "cell_type": "markdown",
      "metadata": {
        "id": "sBzJtwb9Ivcz"
      },
      "source": [
        "Agora, vamos partir para análise de outras variáveis do conjunto de dados para extrairmos informações relevantes, como por exemplo a correlação entre algumas variáveis ou os clientes mais propensos à cancelarem sua assinatura."
      ]
    },
    {
      "cell_type": "code",
      "metadata": {
        "colab": {
          "base_uri": "https://localhost:8080/",
          "height": 821
        },
        "id": "NlQ_PM7LI7O0",
        "outputId": "7bb4a313-fbc1-4b0b-95a2-ec5860681c24"
      },
      "source": [
        "def plotar(var):\r\n",
        " # Função para plotar\r\n",
        " # gráficos de distribuição entre as variáveis e a Churn sim/não\" \r\n",
        "\r\n",
        "  plt.figure(figsize=(8, 4))\r\n",
        "  p1=sns.kdeplot(df[df['Churn'] == 'Yes'][var], shade=True, color=\"r\", label='Churn = Sim', linewidth=0)\r\n",
        "  p2=sns.kdeplot(df[df['Churn'] == 'No'][var], shade=True, color=\"#2d5973\", label='Churn = Não', linewidth=0)\r\n",
        "  plt.legend()\r\n",
        "plotar('tenure')\r\n",
        "plotar('MonthlyCharges')\r\n",
        "plotar('TotalCharges')\r\n",
        "\r\n",
        "plt.show()"
      ],
      "execution_count": 141,
      "outputs": [
        {
          "output_type": "display_data",
          "data": {
            "image/png": "[encoded data removed]",
            "text/plain": [
              "<Figure size 576x288 with 1 Axes>"
            ]
          },
          "metadata": {
            "tags": [],
            "needs_background": "light"
          }
        },
        {
          "output_type": "display_data",
          "data": {
            "image/png": "[encoded data removed]",
            "text/plain": [
              "<Figure size 576x288 with 1 Axes>"
            ]
          },
          "metadata": {
            "tags": [],
            "needs_background": "light"
          }
        },
        {
          "output_type": "display_data",
          "data": {
            "image/png": "[encoded data removed]",
            "text/plain": [
              "<Figure size 576x288 with 1 Axes>"
            ]
          },
          "metadata": {
            "tags": [],
            "needs_background": "light"
          }
        }
      ]
    },
    {
      "cell_type": "markdown",
      "metadata": {
        "id": "7Nj3feHDJpuh"
      },
      "source": [
        "Através dos gráficos acima vemos que a maioria dos cancelamentos ocorrem nos primeiros meses de contrato do serviço. Além disso, pessoas que gastam mais com as recargas estão mais propensas ao Churn. \r\n",
        "\r\n",
        "Veja como após um processamento inicial dos dados já temos informações valiosas para redução do Churn. Nesse exemplo, a empresa poderia implantar benefícios extras para pessoas com gastos maiores e nos primeiros meses de contrato.\r\n",
        "\r\n",
        "Após isso, seria necessario acompanhar os indicadores para entender se as medidas foram efetivas e otimizar a estratrégia.\r\n",
        "\r\n",
        "Vamos ver o boxplot das variáveis numéricas.\r\n",
        "\r\n",
        "* Boxplot é uma ferramenta gráfica para representar a variação de dados observados de uma variável numérica por meio de quartis. "
      ]
    },
    {
      "cell_type": "code",
      "metadata": {
        "colab": {
          "base_uri": "https://localhost:8080/",
          "height": 293
        },
        "id": "-HjgEkgTLRjP",
        "outputId": "be4eb8eb-0f05-4c3f-a664-ecb81f170f13"
      },
      "source": [
        "fig, (ax1,ax2,ax3) = plt.subplots(1,3,figsize=(15,5))\r\n",
        "\r\n",
        "sns.boxplot(data=df, x='tenure', color='b', ax=ax1)\r\n",
        "sns.boxplot(data=df, x='TotalCharges', color='g', ax=ax2)\r\n",
        "sns.boxplot(data=df, x='MonthlyCharges',color='y' , ax=ax3)\r\n",
        "\r\n",
        "plt.tight_layout()\r\n"
      ],
      "execution_count": 142,
      "outputs": [
        {
          "output_type": "display_data",
          "data": {
            "image/png": "[encoded data removed]",
            "text/plain": [
              "<Figure size 1080x360 with 3 Axes>"
            ]
          },
          "metadata": {
            "tags": [],
            "needs_background": "light"
          }
        }
      ]
    },
    {
      "cell_type": "markdown",
      "metadata": {
        "id": "rjWa24sxOWCC"
      },
      "source": [
        "Através do boxplot não detectamos nenhum outlier evidente. "
      ]
    },
    {
      "cell_type": "code",
      "metadata": {
        "id": "p36R9sf5Mvap"
      },
      "source": [
        "def barplot_porcentagens(var, orient='v', axis_name=\"clientes\"): \r\n",
        "    #função para criar os gráficos com porcentagens\r\n",
        "    p = df.groupby(var)[\"Churn\"].value_counts().to_frame()/df.shape[0]\r\n",
        "    p = p.rename({\"Churn\": axis_name}, axis=1).reset_index() \r\n",
        "\r\n",
        "    ax = sns.barplot(x = var, y= axis_name, hue='Churn', data=p, orient=orient)\r\n",
        "    ax.set_yticklabels(['{:.0%}'.format(num) for num in ax.get_yticks()])\r\n",
        "    ax.plot()\r\n"
      ],
      "execution_count": 143,
      "outputs": []
    },
    {
      "cell_type": "code",
      "metadata": {
        "colab": {
          "base_uri": "https://localhost:8080/",
          "height": 285
        },
        "id": "iw6M56ukNBLw",
        "outputId": "1d2ae28a-2e09-495b-ff7a-9e306359d6e7"
      },
      "source": [
        "barplot_porcentagens('SeniorCitizen')"
      ],
      "execution_count": 144,
      "outputs": [
        {
          "output_type": "display_data",
          "data": {
            "image/png": "[encoded data removed]",
            "text/plain": [
              "<Figure size 432x288 with 1 Axes>"
            ]
          },
          "metadata": {
            "tags": [],
            "needs_background": "light"
          }
        }
      ]
    },
    {
      "cell_type": "code",
      "metadata": {
        "colab": {
          "base_uri": "https://localhost:8080/",
          "height": 285
        },
        "id": "lXvhx8eENPAJ",
        "outputId": "555352ba-d939-40e2-b621-bb280ebe80b5"
      },
      "source": [
        "barplot_porcentagens(\"gender\")"
      ],
      "execution_count": 145,
      "outputs": [
        {
          "output_type": "display_data",
          "data": {
            "image/png": "[encoded data removed]",
            "text/plain": [
              "<Figure size 432x288 with 1 Axes>"
            ]
          },
          "metadata": {
            "tags": [],
            "needs_background": "light"
          }
        }
      ]
    },
    {
      "cell_type": "markdown",
      "metadata": {
        "id": "zzhRYCPLOJj5"
      },
      "source": [
        "O gênero dos clientes não possuem influência na sua probabilidade de cancelamento."
      ]
    },
    {
      "cell_type": "code",
      "metadata": {
        "colab": {
          "base_uri": "https://localhost:8080/",
          "height": 285
        },
        "id": "QKSKVM-DNgUA",
        "outputId": "ab14781d-7957-43bc-96e6-d958f7f240fd"
      },
      "source": [
        "barplot_porcentagens(\"InternetService\")"
      ],
      "execution_count": 146,
      "outputs": [
        {
          "output_type": "display_data",
          "data": {
            "image/png": "[encoded data removed]",
            "text/plain": [
              "<Figure size 432x288 with 1 Axes>"
            ]
          },
          "metadata": {
            "tags": [],
            "needs_background": "light"
          }
        }
      ]
    },
    {
      "cell_type": "markdown",
      "metadata": {
        "id": "4gkCUNqaN49w"
      },
      "source": [
        "As pessoas que possuem o serviço de internet fibra ótica contrato aparentam ser mais propensos a cancelar os serviços."
      ]
    },
    {
      "cell_type": "code",
      "metadata": {
        "colab": {
          "base_uri": "https://localhost:8080/",
          "height": 285
        },
        "id": "1phoVP6dNhwA",
        "outputId": "0d82f626-971c-494f-8a96-c2956cb80feb"
      },
      "source": [
        "barplot_porcentagens('PaperlessBilling')"
      ],
      "execution_count": 147,
      "outputs": [
        {
          "output_type": "display_data",
          "data": {
            "image/png": "[encoded data removed]",
            "text/plain": [
              "<Figure size 432x288 with 1 Axes>"
            ]
          },
          "metadata": {
            "tags": [],
            "needs_background": "light"
          }
        }
      ]
    },
    {
      "cell_type": "markdown",
      "metadata": {
        "id": "81X8Yyu5NCez"
      },
      "source": [
        "Pessoas que efetuam através de \"papeis\" são menos provaveis a cancelarem o serviço.\r\n",
        "\r\n",
        "\r\n",
        "\r\n"
      ]
    },
    {
      "cell_type": "code",
      "metadata": {
        "colab": {
          "base_uri": "https://localhost:8080/",
          "height": 285
        },
        "id": "RDTeCzaCOyMy",
        "outputId": "18a04b43-ebc0-4318-cd7c-c4281c4e50be"
      },
      "source": [
        "barplot_porcentagens('Contract')"
      ],
      "execution_count": 148,
      "outputs": [
        {
          "output_type": "display_data",
          "data": {
            "image/png": "[encoded data removed]",
            "text/plain": [
              "<Figure size 432x288 with 1 Axes>"
            ]
          },
          "metadata": {
            "tags": [],
            "needs_background": "light"
          }
        }
      ]
    },
    {
      "cell_type": "markdown",
      "metadata": {
        "id": "3OQuR5l8Ox_C"
      },
      "source": [
        "Contratos de maior duração possuem um menor Churn."
      ]
    },
    {
      "cell_type": "code",
      "metadata": {
        "colab": {
          "base_uri": "https://localhost:8080/",
          "height": 173
        },
        "id": "8UZej53IOfCL",
        "outputId": "ec2dae3a-57c6-4c2b-ecf4-4bd169632949"
      },
      "source": [
        "#selecionar colunas para gráfico Churn para clientes com parceiros ou não\r\n",
        "partner = df.groupby('Partner')['Churn'].value_counts()\r\n",
        "partner = partner.to_frame().rename({'Churn': 'clientes'}, axis=1).reset_index()\r\n",
        "partner"
      ],
      "execution_count": 149,
      "outputs": [
        {
          "output_type": "execute_result",
          "data": {
            "text/html": [
              "<div>\n",
              "<style scoped>\n",
              "    .dataframe tbody tr th:only-of-type {\n",
              "        vertical-align: middle;\n",
              "    }\n",
              "\n",
              "    .dataframe tbody tr th {\n",
              "        vertical-align: top;\n",
              "    }\n",
              "\n",
              "    .dataframe thead th {\n",
              "        text-align: right;\n",
              "    }\n",
              "</style>\n",
              "<table border=\"1\" class=\"dataframe\">\n",
              "  <thead>\n",
              "    <tr style=\"text-align: right;\">\n",
              "      <th></th>\n",
              "      <th>Partner</th>\n",
              "      <th>Churn</th>\n",
              "      <th>clientes</th>\n",
              "    </tr>\n",
              "  </thead>\n",
              "  <tbody>\n",
              "    <tr>\n",
              "      <th>0</th>\n",
              "      <td>No</td>\n",
              "      <td>No</td>\n",
              "      <td>2441</td>\n",
              "    </tr>\n",
              "    <tr>\n",
              "      <th>1</th>\n",
              "      <td>No</td>\n",
              "      <td>Yes</td>\n",
              "      <td>1200</td>\n",
              "    </tr>\n",
              "    <tr>\n",
              "      <th>2</th>\n",
              "      <td>Yes</td>\n",
              "      <td>No</td>\n",
              "      <td>2733</td>\n",
              "    </tr>\n",
              "    <tr>\n",
              "      <th>3</th>\n",
              "      <td>Yes</td>\n",
              "      <td>Yes</td>\n",
              "      <td>669</td>\n",
              "    </tr>\n",
              "  </tbody>\n",
              "</table>\n",
              "</div>"
            ],
            "text/plain": [
              "  Partner Churn  clientes\n",
              "0      No    No      2441\n",
              "1      No   Yes      1200\n",
              "2     Yes    No      2733\n",
              "3     Yes   Yes       669"
            ]
          },
          "metadata": {
            "tags": []
          },
          "execution_count": 149
        }
      ]
    },
    {
      "cell_type": "code",
      "metadata": {
        "colab": {
          "base_uri": "https://localhost:8080/",
          "height": 297
        },
        "id": "Lw2lD6-hObTx",
        "outputId": "3c6ba56a-554b-4ff4-8144-30558ec45e7f"
      },
      "source": [
        "fig, (ax1, ax2) = plt.subplots(1, 2, figsize=(14,4))\r\n",
        "\r\n",
        "ax1.set_title(\"Parceiros - Sim/Não\")\r\n",
        "ax2.set_title(\"Dependentes - Sim/Não\")\r\n",
        "\r\n",
        "# Plotar Partner column\r\n",
        "ax = sns.barplot(x='Partner', y= 'clientes', hue='Churn', data=partner, ax=ax1)\r\n",
        "\r\n",
        "# Plot Dependents column\r\n",
        "dep = df.groupby('Dependents')[\"Churn\"].value_counts()\r\n",
        "dep = dep.to_frame().rename({\"Churn\": 'clientes'}, axis=1).reset_index()\r\n",
        "\r\n",
        "sns.barplot(x='Dependents', y='clientes', data = dep, hue='Churn');\r\n",
        "\r\n",
        "plt.show()"
      ],
      "execution_count": 150,
      "outputs": [
        {
          "output_type": "display_data",
          "data": {
            "image/png": "[encoded data removed]",
            "text/plain": [
              "<Figure size 1008x288 with 2 Axes>"
            ]
          },
          "metadata": {
            "tags": [],
            "needs_background": "light"
          }
        }
      ]
    },
    {
      "cell_type": "code",
      "metadata": {
        "colab": {
          "base_uri": "https://localhost:8080/",
          "height": 585
        },
        "id": "QgDggykjOtAy",
        "outputId": "5575f165-76ac-425f-be04-f4e09fef0619"
      },
      "source": [
        "ax = sns.catplot(x=\"Churn\", y=\"MonthlyCharges\", row=\"PaymentMethod\", kind=\"bar\", data=df, height=2, aspect=4, orient='v')\r\n",
        "\r\n",
        "plt.tight_layout()"
      ],
      "execution_count": 151,
      "outputs": [
        {
          "output_type": "display_data",
          "data": {
            "image/png": "[encoded data removed]",
            "text/plain": [
              "<Figure size 576x576 with 4 Axes>"
            ]
          },
          "metadata": {
            "tags": [],
            "needs_background": "light"
          }
        }
      ]
    },
    {
      "cell_type": "markdown",
      "metadata": {
        "id": "FsYUXEpHO8G8"
      },
      "source": [
        "## Preparação dos dados\r\n",
        "Nessa etapa faremos o tratamento dos dados para que possamos realizar o treinamento do nosso modelo de Machine Learning"
      ]
    },
    {
      "cell_type": "code",
      "metadata": {
        "id": "ZOksvd0eO793"
      },
      "source": [
        "#copiar o dataset original  \r\n",
        "df_enc = df.copy()"
      ],
      "execution_count": 152,
      "outputs": []
    },
    {
      "cell_type": "markdown",
      "metadata": {
        "id": "IVr90gHEPTpK"
      },
      "source": [
        "Agora, iremos transformar as variáveis categóricas em numéricas para que possamos treinar nossos modelos. Para isso utilizaremos o LabelEncoder para variáveis binárias e o get_dummy para variáveis categóricas não binárias, disponível na biblioteca sklearn.\r\n",
        "\r\n",
        "**O que são variáveis categóricas?**\r\n",
        "> Variáveis categóricas também são chamadas variáveis quantitativas ou variáveis de atributo. Os valores de uma variável categórica são categorias ou grupos mutuamente exclusivos. Os dados categóricos podem ou não ter alguma ordem lógica.\r\n",
        "Fonte: [Mintlab](https://support.minitab.com/pt-br/minitab/20/help-and-how-to/statistics/tables/supporting-topics/basics/categorical-and-quantitative-variables/)"
      ]
    },
    {
      "cell_type": "code",
      "metadata": {
        "colab": {
          "base_uri": "https://localhost:8080/"
        },
        "id": "dLVSdPKMO7mC",
        "outputId": "8414f7b5-acab-40ae-9faf-b960be3a35b9"
      },
      "source": [
        "#importar encoder\r\n",
        "from sklearn.preprocessing import LabelEncoder\r\n",
        "\r\n",
        "#parametrizar\r\n",
        "le = LabelEncoder()\r\n",
        "\r\n",
        "for c in categorias_binarias:\r\n",
        "  df_enc[c] = le.fit_transform(df_enc[c])\r\n",
        "  print(c, 'passou pelo LabelEncoder')"
      ],
      "execution_count": 153,
      "outputs": [
        {
          "output_type": "stream",
          "text": [
            "gender passou pelo LabelEncoder\n",
            "SeniorCitizen passou pelo LabelEncoder\n",
            "Partner passou pelo LabelEncoder\n",
            "Dependents passou pelo LabelEncoder\n",
            "PhoneService passou pelo LabelEncoder\n",
            "PaperlessBilling passou pelo LabelEncoder\n",
            "Churn passou pelo LabelEncoder\n"
          ],
          "name": "stdout"
        }
      ]
    },
    {
      "cell_type": "markdown",
      "metadata": {
        "id": "_GziU7jMQFfV"
      },
      "source": [
        "Vamos ver como ficaram nossas variáveis categóricas binárias."
      ]
    },
    {
      "cell_type": "code",
      "metadata": {
        "colab": {
          "base_uri": "https://localhost:8080/",
          "height": 292
        },
        "id": "7fKE05etQUKq",
        "outputId": "e8319192-d01f-408f-8c83-be8ebf76e10f"
      },
      "source": [
        "df_enc.head()"
      ],
      "execution_count": 154,
      "outputs": [
        {
          "output_type": "execute_result",
          "data": {
            "text/html": [
              "<div>\n",
              "<style scoped>\n",
              "    .dataframe tbody tr th:only-of-type {\n",
              "        vertical-align: middle;\n",
              "    }\n",
              "\n",
              "    .dataframe tbody tr th {\n",
              "        vertical-align: top;\n",
              "    }\n",
              "\n",
              "    .dataframe thead th {\n",
              "        text-align: right;\n",
              "    }\n",
              "</style>\n",
              "<table border=\"1\" class=\"dataframe\">\n",
              "  <thead>\n",
              "    <tr style=\"text-align: right;\">\n",
              "      <th></th>\n",
              "      <th>gender</th>\n",
              "      <th>SeniorCitizen</th>\n",
              "      <th>Partner</th>\n",
              "      <th>Dependents</th>\n",
              "      <th>tenure</th>\n",
              "      <th>PhoneService</th>\n",
              "      <th>MultipleLines</th>\n",
              "      <th>InternetService</th>\n",
              "      <th>OnlineSecurity</th>\n",
              "      <th>OnlineBackup</th>\n",
              "      <th>DeviceProtection</th>\n",
              "      <th>TechSupport</th>\n",
              "      <th>StreamingTV</th>\n",
              "      <th>StreamingMovies</th>\n",
              "      <th>Contract</th>\n",
              "      <th>PaperlessBilling</th>\n",
              "      <th>PaymentMethod</th>\n",
              "      <th>MonthlyCharges</th>\n",
              "      <th>TotalCharges</th>\n",
              "      <th>Churn</th>\n",
              "    </tr>\n",
              "  </thead>\n",
              "  <tbody>\n",
              "    <tr>\n",
              "      <th>0</th>\n",
              "      <td>0</td>\n",
              "      <td>0</td>\n",
              "      <td>1</td>\n",
              "      <td>0</td>\n",
              "      <td>1</td>\n",
              "      <td>0</td>\n",
              "      <td>No phone service</td>\n",
              "      <td>DSL</td>\n",
              "      <td>No</td>\n",
              "      <td>Yes</td>\n",
              "      <td>No</td>\n",
              "      <td>No</td>\n",
              "      <td>No</td>\n",
              "      <td>No</td>\n",
              "      <td>Month-to-month</td>\n",
              "      <td>1</td>\n",
              "      <td>Electronic check</td>\n",
              "      <td>29.85</td>\n",
              "      <td>29.85</td>\n",
              "      <td>0</td>\n",
              "    </tr>\n",
              "    <tr>\n",
              "      <th>1</th>\n",
              "      <td>1</td>\n",
              "      <td>0</td>\n",
              "      <td>0</td>\n",
              "      <td>0</td>\n",
              "      <td>34</td>\n",
              "      <td>1</td>\n",
              "      <td>No</td>\n",
              "      <td>DSL</td>\n",
              "      <td>Yes</td>\n",
              "      <td>No</td>\n",
              "      <td>Yes</td>\n",
              "      <td>No</td>\n",
              "      <td>No</td>\n",
              "      <td>No</td>\n",
              "      <td>One year</td>\n",
              "      <td>0</td>\n",
              "      <td>Mailed check</td>\n",
              "      <td>56.95</td>\n",
              "      <td>1889.50</td>\n",
              "      <td>0</td>\n",
              "    </tr>\n",
              "    <tr>\n",
              "      <th>2</th>\n",
              "      <td>1</td>\n",
              "      <td>0</td>\n",
              "      <td>0</td>\n",
              "      <td>0</td>\n",
              "      <td>2</td>\n",
              "      <td>1</td>\n",
              "      <td>No</td>\n",
              "      <td>DSL</td>\n",
              "      <td>Yes</td>\n",
              "      <td>Yes</td>\n",
              "      <td>No</td>\n",
              "      <td>No</td>\n",
              "      <td>No</td>\n",
              "      <td>No</td>\n",
              "      <td>Month-to-month</td>\n",
              "      <td>1</td>\n",
              "      <td>Mailed check</td>\n",
              "      <td>53.85</td>\n",
              "      <td>108.15</td>\n",
              "      <td>1</td>\n",
              "    </tr>\n",
              "    <tr>\n",
              "      <th>3</th>\n",
              "      <td>1</td>\n",
              "      <td>0</td>\n",
              "      <td>0</td>\n",
              "      <td>0</td>\n",
              "      <td>45</td>\n",
              "      <td>0</td>\n",
              "      <td>No phone service</td>\n",
              "      <td>DSL</td>\n",
              "      <td>Yes</td>\n",
              "      <td>No</td>\n",
              "      <td>Yes</td>\n",
              "      <td>Yes</td>\n",
              "      <td>No</td>\n",
              "      <td>No</td>\n",
              "      <td>One year</td>\n",
              "      <td>0</td>\n",
              "      <td>Bank transfer (automatic)</td>\n",
              "      <td>42.30</td>\n",
              "      <td>1840.75</td>\n",
              "      <td>0</td>\n",
              "    </tr>\n",
              "    <tr>\n",
              "      <th>4</th>\n",
              "      <td>0</td>\n",
              "      <td>0</td>\n",
              "      <td>0</td>\n",
              "      <td>0</td>\n",
              "      <td>2</td>\n",
              "      <td>1</td>\n",
              "      <td>No</td>\n",
              "      <td>Fiber optic</td>\n",
              "      <td>No</td>\n",
              "      <td>No</td>\n",
              "      <td>No</td>\n",
              "      <td>No</td>\n",
              "      <td>No</td>\n",
              "      <td>No</td>\n",
              "      <td>Month-to-month</td>\n",
              "      <td>1</td>\n",
              "      <td>Electronic check</td>\n",
              "      <td>70.70</td>\n",
              "      <td>151.65</td>\n",
              "      <td>1</td>\n",
              "    </tr>\n",
              "  </tbody>\n",
              "</table>\n",
              "</div>"
            ],
            "text/plain": [
              "   gender  SeniorCitizen  Partner  ...  MonthlyCharges  TotalCharges  Churn\n",
              "0       0              0        1  ...           29.85         29.85      0\n",
              "1       1              0        0  ...           56.95       1889.50      0\n",
              "2       1              0        0  ...           53.85        108.15      1\n",
              "3       1              0        0  ...           42.30       1840.75      0\n",
              "4       0              0        0  ...           70.70        151.65      1\n",
              "\n",
              "[5 rows x 20 columns]"
            ]
          },
          "metadata": {
            "tags": []
          },
          "execution_count": 154
        }
      ]
    },
    {
      "cell_type": "markdown",
      "metadata": {
        "id": "F_W2EgD9QbxS"
      },
      "source": [
        "Vamos ver quais eram os valores da variável gender e como eles ficaram após passar pela transformação em variáveis categóricas.\r\n"
      ]
    },
    {
      "cell_type": "code",
      "metadata": {
        "colab": {
          "base_uri": "https://localhost:8080/"
        },
        "id": "colPyS25QoSz",
        "outputId": "f0f50734-2920-45e6-e8c6-f00ab3282dcc"
      },
      "source": [
        "print('Antes:', df.gender.unique(), '\\n')\r\n",
        "print('Depois:', df_enc.gender.unique())"
      ],
      "execution_count": 155,
      "outputs": [
        {
          "output_type": "stream",
          "text": [
            "Antes: ['Female' 'Male'] \n",
            "\n",
            "Depois: [0 1]\n"
          ],
          "name": "stdout"
        }
      ]
    },
    {
      "cell_type": "markdown",
      "metadata": {
        "id": "011b4u0IREzk"
      },
      "source": [
        "Como podemos ver, os valores categóricos Male e Female, foram transformados em 1 e 0, respectivamente. Isso ajudará no treinamento do nosso modelo de machine learning.\r\n",
        "\r\n"
      ]
    },
    {
      "cell_type": "markdown",
      "metadata": {
        "id": "vx70bbt5RVOT"
      },
      "source": [
        "Vamos verificar se há alguma correlação evidente entre as variáveis."
      ]
    },
    {
      "cell_type": "code",
      "metadata": {
        "colab": {
          "base_uri": "https://localhost:8080/",
          "height": 815
        },
        "id": "KovvgKaKRL7U",
        "outputId": "6189f72d-5416-444b-fedc-2fa95b82fe6b"
      },
      "source": [
        "corr = df_enc.corr()\r\n",
        "\r\n",
        "fig, ax = plt.subplots(figsize=(14,14))\r\n",
        "sns.heatmap(corr, square=True, annot=True, linewidths=.1, cmap = 'coolwarm');"
      ],
      "execution_count": 156,
      "outputs": [
        {
          "output_type": "display_data",
          "data": {
            "image/png": "[encoded data removed]",
            "text/plain": [
              "<Figure size 1008x1008 with 2 Axes>"
            ]
          },
          "metadata": {
            "tags": [],
            "needs_background": "light"
          }
        }
      ]
    },
    {
      "cell_type": "markdown",
      "metadata": {
        "id": "i7wWBsATRfIl"
      },
      "source": [
        "Agora, também vamos transformar as variáveis categóricas não binárias, utilizando a função get_dummy"
      ]
    },
    {
      "cell_type": "code",
      "metadata": {
        "colab": {
          "base_uri": "https://localhost:8080/"
        },
        "id": "ECR_x74oReA1",
        "outputId": "14c759ba-5d87-4a5b-833b-d5b84ba7696d"
      },
      "source": [
        "#converter variaveis dummy\r\n",
        "\r\n",
        "df_enc = pd.get_dummies(df_enc, columns=categorias_n_binarias)\r\n",
        "\r\n",
        "for c in categorias_n_binarias:\r\n",
        "  print('A variável {} foi transformada'.format(c))"
      ],
      "execution_count": 157,
      "outputs": [
        {
          "output_type": "stream",
          "text": [
            "A variável MultipleLines foi transformada\n",
            "A variável InternetService foi transformada\n",
            "A variável OnlineSecurity foi transformada\n",
            "A variável OnlineBackup foi transformada\n",
            "A variável DeviceProtection foi transformada\n",
            "A variável TechSupport foi transformada\n",
            "A variável StreamingTV foi transformada\n",
            "A variável StreamingMovies foi transformada\n",
            "A variável Contract foi transformada\n",
            "A variável PaymentMethod foi transformada\n"
          ],
          "name": "stdout"
        }
      ]
    },
    {
      "cell_type": "code",
      "metadata": {
        "colab": {
          "base_uri": "https://localhost:8080/",
          "height": 258
        },
        "id": "97Wip0irRnQ4",
        "outputId": "4d822c09-7d7d-4f80-8354-4484c9a3ec43"
      },
      "source": [
        "df_enc.head()"
      ],
      "execution_count": 158,
      "outputs": [
        {
          "output_type": "execute_result",
          "data": {
            "text/html": [
              "<div>\n",
              "<style scoped>\n",
              "    .dataframe tbody tr th:only-of-type {\n",
              "        vertical-align: middle;\n",
              "    }\n",
              "\n",
              "    .dataframe tbody tr th {\n",
              "        vertical-align: top;\n",
              "    }\n",
              "\n",
              "    .dataframe thead th {\n",
              "        text-align: right;\n",
              "    }\n",
              "</style>\n",
              "<table border=\"1\" class=\"dataframe\">\n",
              "  <thead>\n",
              "    <tr style=\"text-align: right;\">\n",
              "      <th></th>\n",
              "      <th>gender</th>\n",
              "      <th>SeniorCitizen</th>\n",
              "      <th>Partner</th>\n",
              "      <th>Dependents</th>\n",
              "      <th>tenure</th>\n",
              "      <th>PhoneService</th>\n",
              "      <th>PaperlessBilling</th>\n",
              "      <th>MonthlyCharges</th>\n",
              "      <th>TotalCharges</th>\n",
              "      <th>Churn</th>\n",
              "      <th>MultipleLines_No</th>\n",
              "      <th>MultipleLines_No phone service</th>\n",
              "      <th>MultipleLines_Yes</th>\n",
              "      <th>InternetService_DSL</th>\n",
              "      <th>InternetService_Fiber optic</th>\n",
              "      <th>InternetService_No</th>\n",
              "      <th>OnlineSecurity_No</th>\n",
              "      <th>OnlineSecurity_No internet service</th>\n",
              "      <th>OnlineSecurity_Yes</th>\n",
              "      <th>OnlineBackup_No</th>\n",
              "      <th>OnlineBackup_No internet service</th>\n",
              "      <th>OnlineBackup_Yes</th>\n",
              "      <th>DeviceProtection_No</th>\n",
              "      <th>DeviceProtection_No internet service</th>\n",
              "      <th>DeviceProtection_Yes</th>\n",
              "      <th>TechSupport_No</th>\n",
              "      <th>TechSupport_No internet service</th>\n",
              "      <th>TechSupport_Yes</th>\n",
              "      <th>StreamingTV_No</th>\n",
              "      <th>StreamingTV_No internet service</th>\n",
              "      <th>StreamingTV_Yes</th>\n",
              "      <th>StreamingMovies_No</th>\n",
              "      <th>StreamingMovies_No internet service</th>\n",
              "      <th>StreamingMovies_Yes</th>\n",
              "      <th>Contract_Month-to-month</th>\n",
              "      <th>Contract_One year</th>\n",
              "      <th>Contract_Two year</th>\n",
              "      <th>PaymentMethod_Bank transfer (automatic)</th>\n",
              "      <th>PaymentMethod_Credit card (automatic)</th>\n",
              "      <th>PaymentMethod_Electronic check</th>\n",
              "      <th>PaymentMethod_Mailed check</th>\n",
              "    </tr>\n",
              "  </thead>\n",
              "  <tbody>\n",
              "    <tr>\n",
              "      <th>0</th>\n",
              "      <td>0</td>\n",
              "      <td>0</td>\n",
              "      <td>1</td>\n",
              "      <td>0</td>\n",
              "      <td>1</td>\n",
              "      <td>0</td>\n",
              "      <td>1</td>\n",
              "      <td>29.85</td>\n",
              "      <td>29.85</td>\n",
              "      <td>0</td>\n",
              "      <td>0</td>\n",
              "      <td>1</td>\n",
              "      <td>0</td>\n",
              "      <td>1</td>\n",
              "      <td>0</td>\n",
              "      <td>0</td>\n",
              "      <td>1</td>\n",
              "      <td>0</td>\n",
              "      <td>0</td>\n",
              "      <td>0</td>\n",
              "      <td>0</td>\n",
              "      <td>1</td>\n",
              "      <td>1</td>\n",
              "      <td>0</td>\n",
              "      <td>0</td>\n",
              "      <td>1</td>\n",
              "      <td>0</td>\n",
              "      <td>0</td>\n",
              "      <td>1</td>\n",
              "      <td>0</td>\n",
              "      <td>0</td>\n",
              "      <td>1</td>\n",
              "      <td>0</td>\n",
              "      <td>0</td>\n",
              "      <td>1</td>\n",
              "      <td>0</td>\n",
              "      <td>0</td>\n",
              "      <td>0</td>\n",
              "      <td>0</td>\n",
              "      <td>1</td>\n",
              "      <td>0</td>\n",
              "    </tr>\n",
              "    <tr>\n",
              "      <th>1</th>\n",
              "      <td>1</td>\n",
              "      <td>0</td>\n",
              "      <td>0</td>\n",
              "      <td>0</td>\n",
              "      <td>34</td>\n",
              "      <td>1</td>\n",
              "      <td>0</td>\n",
              "      <td>56.95</td>\n",
              "      <td>1889.50</td>\n",
              "      <td>0</td>\n",
              "      <td>1</td>\n",
              "      <td>0</td>\n",
              "      <td>0</td>\n",
              "      <td>1</td>\n",
              "      <td>0</td>\n",
              "      <td>0</td>\n",
              "      <td>0</td>\n",
              "      <td>0</td>\n",
              "      <td>1</td>\n",
              "      <td>1</td>\n",
              "      <td>0</td>\n",
              "      <td>0</td>\n",
              "      <td>0</td>\n",
              "      <td>0</td>\n",
              "      <td>1</td>\n",
              "      <td>1</td>\n",
              "      <td>0</td>\n",
              "      <td>0</td>\n",
              "      <td>1</td>\n",
              "      <td>0</td>\n",
              "      <td>0</td>\n",
              "      <td>1</td>\n",
              "      <td>0</td>\n",
              "      <td>0</td>\n",
              "      <td>0</td>\n",
              "      <td>1</td>\n",
              "      <td>0</td>\n",
              "      <td>0</td>\n",
              "      <td>0</td>\n",
              "      <td>0</td>\n",
              "      <td>1</td>\n",
              "    </tr>\n",
              "    <tr>\n",
              "      <th>2</th>\n",
              "      <td>1</td>\n",
              "      <td>0</td>\n",
              "      <td>0</td>\n",
              "      <td>0</td>\n",
              "      <td>2</td>\n",
              "      <td>1</td>\n",
              "      <td>1</td>\n",
              "      <td>53.85</td>\n",
              "      <td>108.15</td>\n",
              "      <td>1</td>\n",
              "      <td>1</td>\n",
              "      <td>0</td>\n",
              "      <td>0</td>\n",
              "      <td>1</td>\n",
              "      <td>0</td>\n",
              "      <td>0</td>\n",
              "      <td>0</td>\n",
              "      <td>0</td>\n",
              "      <td>1</td>\n",
              "      <td>0</td>\n",
              "      <td>0</td>\n",
              "      <td>1</td>\n",
              "      <td>1</td>\n",
              "      <td>0</td>\n",
              "      <td>0</td>\n",
              "      <td>1</td>\n",
              "      <td>0</td>\n",
              "      <td>0</td>\n",
              "      <td>1</td>\n",
              "      <td>0</td>\n",
              "      <td>0</td>\n",
              "      <td>1</td>\n",
              "      <td>0</td>\n",
              "      <td>0</td>\n",
              "      <td>1</td>\n",
              "      <td>0</td>\n",
              "      <td>0</td>\n",
              "      <td>0</td>\n",
              "      <td>0</td>\n",
              "      <td>0</td>\n",
              "      <td>1</td>\n",
              "    </tr>\n",
              "    <tr>\n",
              "      <th>3</th>\n",
              "      <td>1</td>\n",
              "      <td>0</td>\n",
              "      <td>0</td>\n",
              "      <td>0</td>\n",
              "      <td>45</td>\n",
              "      <td>0</td>\n",
              "      <td>0</td>\n",
              "      <td>42.30</td>\n",
              "      <td>1840.75</td>\n",
              "      <td>0</td>\n",
              "      <td>0</td>\n",
              "      <td>1</td>\n",
              "      <td>0</td>\n",
              "      <td>1</td>\n",
              "      <td>0</td>\n",
              "      <td>0</td>\n",
              "      <td>0</td>\n",
              "      <td>0</td>\n",
              "      <td>1</td>\n",
              "      <td>1</td>\n",
              "      <td>0</td>\n",
              "      <td>0</td>\n",
              "      <td>0</td>\n",
              "      <td>0</td>\n",
              "      <td>1</td>\n",
              "      <td>0</td>\n",
              "      <td>0</td>\n",
              "      <td>1</td>\n",
              "      <td>1</td>\n",
              "      <td>0</td>\n",
              "      <td>0</td>\n",
              "      <td>1</td>\n",
              "      <td>0</td>\n",
              "      <td>0</td>\n",
              "      <td>0</td>\n",
              "      <td>1</td>\n",
              "      <td>0</td>\n",
              "      <td>1</td>\n",
              "      <td>0</td>\n",
              "      <td>0</td>\n",
              "      <td>0</td>\n",
              "    </tr>\n",
              "    <tr>\n",
              "      <th>4</th>\n",
              "      <td>0</td>\n",
              "      <td>0</td>\n",
              "      <td>0</td>\n",
              "      <td>0</td>\n",
              "      <td>2</td>\n",
              "      <td>1</td>\n",
              "      <td>1</td>\n",
              "      <td>70.70</td>\n",
              "      <td>151.65</td>\n",
              "      <td>1</td>\n",
              "      <td>1</td>\n",
              "      <td>0</td>\n",
              "      <td>0</td>\n",
              "      <td>0</td>\n",
              "      <td>1</td>\n",
              "      <td>0</td>\n",
              "      <td>1</td>\n",
              "      <td>0</td>\n",
              "      <td>0</td>\n",
              "      <td>1</td>\n",
              "      <td>0</td>\n",
              "      <td>0</td>\n",
              "      <td>1</td>\n",
              "      <td>0</td>\n",
              "      <td>0</td>\n",
              "      <td>1</td>\n",
              "      <td>0</td>\n",
              "      <td>0</td>\n",
              "      <td>1</td>\n",
              "      <td>0</td>\n",
              "      <td>0</td>\n",
              "      <td>1</td>\n",
              "      <td>0</td>\n",
              "      <td>0</td>\n",
              "      <td>1</td>\n",
              "      <td>0</td>\n",
              "      <td>0</td>\n",
              "      <td>0</td>\n",
              "      <td>0</td>\n",
              "      <td>1</td>\n",
              "      <td>0</td>\n",
              "    </tr>\n",
              "  </tbody>\n",
              "</table>\n",
              "</div>"
            ],
            "text/plain": [
              "   gender  ...  PaymentMethod_Mailed check\n",
              "0       0  ...                           0\n",
              "1       1  ...                           1\n",
              "2       1  ...                           1\n",
              "3       1  ...                           0\n",
              "4       0  ...                           0\n",
              "\n",
              "[5 rows x 41 columns]"
            ]
          },
          "metadata": {
            "tags": []
          },
          "execution_count": 158
        }
      ]
    },
    {
      "cell_type": "markdown",
      "metadata": {
        "id": "v5SjQ_5mSQkK"
      },
      "source": [
        "### Balancear os dados"
      ]
    },
    {
      "cell_type": "markdown",
      "metadata": {
        "id": "kPevoo_iSQg0"
      },
      "source": [
        "Como vimos acima, os dados da variável Churn estão desbalanceados, possuindo uma quantiade muito maior de uma categoria do que outra. Chegou a hora de balancear o conjunto de dados para que não haja viés nas previsões. Para isso, vamos utilizar o SMOTE.\r\n",
        "\r\n",
        "\r\n",
        ">A SMOTE (técnica de sobreamostragem minoritária sintética) é uma técnica estatística para aumentar o número de casos em seu conjunto de um modo equilibrado. O módulo funciona gerando novas instâncias de casos minoritários existentes que você fornece como entrada. Essa implementação de SMOTE não altera o número de casos de maioria.\r\n",
        "\r\n",
        "\r\n",
        "Fonte: [Microsoft Machine Learning](https://docs.microsoft.com/pt-br/azure/machine-learning/algorithm-module-reference/smote#:~:text=A%20SMOTE%20(t%C3%A9cnica%20de%20sobreamostragem,dataset%20in%20a%20balanced%20way.)"
      ]
    },
    {
      "cell_type": "code",
      "metadata": {
        "id": "gFYsHnzhSQcc"
      },
      "source": [
        "!pip install imbalanced-learn -q\r\n",
        "#Importing SMOTE\r\n",
        "from imblearn.over_sampling import SMOTE"
      ],
      "execution_count": 159,
      "outputs": []
    },
    {
      "cell_type": "markdown",
      "metadata": {
        "id": "9X9wdAUITRC5"
      },
      "source": [
        "Como é a distribuição atual da variável Churn\r\n"
      ]
    },
    {
      "cell_type": "code",
      "metadata": {
        "colab": {
          "base_uri": "https://localhost:8080/",
          "height": 355
        },
        "id": "JrpbPc2ZSO1s",
        "outputId": "794e6a14-bb67-4b99-d415-0dd5aa82b2ea"
      },
      "source": [
        "ax = sns.countplot(x=\"Churn\", data=df_enc)\r\n",
        "plt.title('Churn')\r\n",
        "plt.show()\r\n",
        "\r\n",
        "churn_yes = df_enc.Churn.value_counts()[1]/df.shape[0]\r\n",
        "churn_no = df_enc.Churn.value_counts()[0]/df.shape[0]\r\n",
        "\r\n",
        "print('\\n')\r\n",
        "print('Os clientes Churn representam {:,.2%} do total'.format(churn_yes))"
      ],
      "execution_count": 160,
      "outputs": [
        {
          "output_type": "display_data",
          "data": {
            "image/png": "[encoded data removed]",
            "text/plain": [
              "<Figure size 432x288 with 1 Axes>"
            ]
          },
          "metadata": {
            "tags": [],
            "needs_background": "light"
          }
        },
        {
          "output_type": "stream",
          "text": [
            "\n",
            "\n",
            "Os clientes Churn representam 26.54% do total\n"
          ],
          "name": "stdout"
        }
      ]
    },
    {
      "cell_type": "code",
      "metadata": {
        "id": "_LpLfDDsTYhZ"
      },
      "source": [
        "#1 parametrizar \r\n",
        "smt = SMOTE()\r\n",
        "\r\n",
        "#2 separar o modelo entre features e target\r\n",
        "X = df_enc.drop('Churn', axis=1)\r\n",
        "y = df_enc.Churn\r\n",
        "\r\n",
        "#aplicar smote nos dados\r\n",
        "X, y = smt.fit_sample(X, y)"
      ],
      "execution_count": 161,
      "outputs": []
    },
    {
      "cell_type": "markdown",
      "metadata": {
        "id": "Sw3fHkWwTkBK"
      },
      "source": [
        "Como ficaram os dados da variável Churn após a aplicação do SMOTE"
      ]
    },
    {
      "cell_type": "code",
      "metadata": {
        "colab": {
          "base_uri": "https://localhost:8080/",
          "height": 374
        },
        "id": "tfzEDxIFTef4",
        "outputId": "f53c68ed-145b-45df-8a87-fb4e90ad3270"
      },
      "source": [
        "ax = sns.countplot(x = y)\r\n",
        "plt.title('Churn')\r\n",
        "plt.show()\r\n",
        "\r\n",
        "print('\\n')\r\n",
        "print(np.bincount(y))\r\n",
        "print('Agora temos {} entradas'.format(y.shape[0]))\r\n",
        "print('sendo 50% para Churn Sim e 50% para Churn Não')"
      ],
      "execution_count": 162,
      "outputs": [
        {
          "output_type": "display_data",
          "data": {
            "image/png": "[encoded data removed]",
            "text/plain": [
              "<Figure size 432x288 with 1 Axes>"
            ]
          },
          "metadata": {
            "tags": [],
            "needs_background": "light"
          }
        },
        {
          "output_type": "stream",
          "text": [
            "\n",
            "\n",
            "[5174 5174]\n",
            "Agora temos 10348 entradas\n",
            "sendo 50% para Churn Sim e 50% para Churn Não\n"
          ],
          "name": "stdout"
        }
      ]
    },
    {
      "cell_type": "markdown",
      "metadata": {
        "id": "Jzod3Z3eUBoH"
      },
      "source": [
        "## Construção do modelo\r\n",
        "\r\n",
        "Agora que nossos dados já estão balanceados e devidamente preparados, vamos dar início ao processo de construção do nosso modelo que será responsável por prever se um cliente cancelará o serviço ou não.\r\n",
        "\r\n",
        "Estamos lidando com um problema de classificação, então utilizaremos modelos que condizem com a nosso necessidade de classficar \r\n",
        "\r\n",
        "* Churn \r\n",
        "   * Sim \r\n",
        "   * Não\r\n"
      ]
    },
    {
      "cell_type": "code",
      "metadata": {
        "id": "iZ5hD5pIU2j2"
      },
      "source": [
        "!pip install scikit-plot -q"
      ],
      "execution_count": 163,
      "outputs": []
    },
    {
      "cell_type": "code",
      "metadata": {
        "id": "zvyelDDbU35O"
      },
      "source": [
        "#importando as bibliotecas que serão utilizadas\r\n",
        "\r\n",
        "#métricas \r\n",
        "from sklearn.metrics import roc_auc_score\r\n",
        "from sklearn.metrics import confusion_matrix\r\n",
        "from sklearn.metrics import accuracy_score\r\n",
        "from sklearn.metrics import f1_score\r\n",
        "from sklearn.metrics import recall_score\r\n",
        "from sklearn.metrics import classification_report\r\n",
        "import scikitplot as skplt\r\n",
        "from sklearn.model_selection import cross_val_score\r\n",
        "from sklearn.metrics import make_scorer\r\n",
        "from sklearn.model_selection import cross_validate\r\n",
        "from sklearn.model_selection import GridSearchCV\r\n",
        "from matplotlib import pyplot\r\n",
        "\r\n",
        "#modelos\r\n",
        "from sklearn.tree import DecisionTreeClassifier\r\n",
        "from sklearn.linear_model import LogisticRegression\r\n",
        "from sklearn.svm import SVC\r\n",
        "from sklearn.model_selection import train_test_split\r\n",
        "from sklearn.ensemble import RandomForestClassifier\r\n",
        "from sklearn.preprocessing import StandardScaler"
      ],
      "execution_count": 164,
      "outputs": []
    },
    {
      "cell_type": "markdown",
      "metadata": {
        "id": "sJxzUfN5VERA"
      },
      "source": [
        "Vamos utilizar 4 modelos de classificação para comparação e definir qual será o que possui o melhor desempenho dentre os 4 escolhidos.\r\n",
        "\r\n",
        "Os modelos são:\r\n",
        "* Árvore de decisão\r\n",
        "* Regressão Logística\r\n",
        "* SVC (Support Vector Machine)\r\n",
        "* Floresta de decisão aleatória"
      ]
    },
    {
      "cell_type": "markdown",
      "metadata": {
        "id": "B4CTbboiV7bY"
      },
      "source": [
        "A seguir, faremos as seguintes etapas:\r\n",
        "\r\n",
        "\r\n",
        "*   Dividir nossos dados em treino e teste para que não ocorra overfitting\r\n",
        "*   Normalizar os dados\r\n",
        "*   Treinar os modelos\r\n",
        "\r\n",
        "\r\n",
        "\r\n"
      ]
    },
    {
      "cell_type": "code",
      "metadata": {
        "id": "jLiUTXMLVD7A"
      },
      "source": [
        "#1 importar modelos\r\n",
        "dt = DecisionTreeClassifier()\r\n",
        "lr = LogisticRegression()\r\n",
        "svc = SVC()\r\n",
        "rf = RandomForestClassifier()\r\n",
        "\r\n",
        "names = ['Decision Tree', 'Logistic Regression', 'SVC', 'Random Forest']\r\n",
        "classifiers = [dt, lr, svc, rf]\r\n",
        "\r\n",
        "#4 separar entre treino e teste\r\n",
        "X_train, X_test, y_train, y_test = train_test_split(X,y)\r\n",
        "\r\n",
        "\r\n",
        "#4.1 normalizar os dados\r\n",
        "scaler = StandardScaler()\r\n",
        "scaler = scaler.fit(X_train)\r\n",
        "X_train = scaler.transform(X_train)\r\n",
        "X_test = scaler.transform(X_test)\r\n",
        "\r\n",
        "\r\n",
        "#5 treinar modelo\r\n",
        "model_dt = dt.fit(X_train, y_train)\r\n",
        "model_lr = lr.fit(X_train, y_train)\r\n",
        "model_svc = svc.fit(X_train, y_train)\r\n",
        "model_rf = rf.fit(X_train, y_train)\r\n"
      ],
      "execution_count": 165,
      "outputs": []
    },
    {
      "cell_type": "markdown",
      "metadata": {
        "id": "I8jv7YxBV2ud"
      },
      "source": [
        "Após treinarmos os modelos nos dados de treino, vamos verificar seu desempenho através de Cross-validation"
      ]
    },
    {
      "cell_type": "code",
      "metadata": {
        "colab": {
          "base_uri": "https://localhost:8080/"
        },
        "id": "jvPZiI1xVwYa",
        "outputId": "0ef85766-6cd3-4740-eabd-cab0811d7bce"
      },
      "source": [
        "print('Cross Validation dos Modelos: recall\\n')\r\n",
        "models = (model_dt, model_lr, model_svc, model_rf)\r\n",
        "for n, m in zip(names, models):\r\n",
        "    scores = cross_val_score(m, X_train, y_train, cv=5, scoring='recall')\r\n",
        "    print(n, \"tem recall de : %0.3f (+/- %0.2f)\\n\" % (scores.mean(), scores.std() * 2))\r\n",
        "\r\n",
        "print('')\r\n",
        "print('Cross Validation dos Modelos: Acurácia\\n')\r\n",
        "for n, m in zip(names, models):\r\n",
        "    scores_2 = cross_val_score(m, X_train, y_train, cv=5, scoring='accuracy')\r\n",
        "    print(n, \"tem acurácia de: %0.3f (+/- %0.2f)\\n\" % (scores_2.mean(), scores_2.std() * 2))"
      ],
      "execution_count": 166,
      "outputs": [
        {
          "output_type": "stream",
          "text": [
            "Cross Validation dos Modelos: recall\n",
            "\n",
            "Decision Tree tem recall de : 0.808 (+/- 0.02)\n",
            "\n",
            "Logistic Regression tem recall de : 0.826 (+/- 0.03)\n",
            "\n",
            "SVC tem recall de : 0.832 (+/- 0.03)\n",
            "\n",
            "Random Forest tem recall de : 0.827 (+/- 0.03)\n",
            "\n",
            "\n",
            "Cross Validation dos Modelos: Acurácia\n",
            "\n",
            "Decision Tree tem acurácia de: 0.804 (+/- 0.01)\n",
            "\n",
            "Logistic Regression tem acurácia de: 0.776 (+/- 0.01)\n",
            "\n",
            "SVC tem acurácia de: 0.828 (+/- 0.01)\n",
            "\n",
            "Random Forest tem acurácia de: 0.855 (+/- 0.01)\n",
            "\n"
          ],
          "name": "stdout"
        }
      ]
    },
    {
      "cell_type": "markdown",
      "metadata": {
        "id": "t0LPKnowWUB6"
      },
      "source": [
        "Vemos que os modelos Random Forest e SVC foram os que tiveram um melhor desempenho.\r\n",
        " \r\n",
        "Agora, daremos início a parametrização para otimizar o modelo de Floresta de Decisão. "
      ]
    },
    {
      "cell_type": "markdown",
      "metadata": {
        "id": "hI_HomWmW61w"
      },
      "source": [
        "#### Tunning dos parâmetros"
      ]
    },
    {
      "cell_type": "code",
      "metadata": {
        "colab": {
          "base_uri": "https://localhost:8080/"
        },
        "id": "SyrZlFwAXMsh",
        "outputId": "0c518a36-fce9-4ce5-d115-489b446bfc7e"
      },
      "source": [
        "parametros = {'n_estimators': [10,15,20,30,50,75,100]}\r\n",
        "parametros_d = {'max_depth': [5,7,10,15,20,30]}\r\n",
        "\r\n",
        "grid_search = GridSearchCV(rf, parametros, scoring=\"recall\")\r\n",
        "clf = GridSearchCV(rf, parametros)\r\n",
        "clf.fit(X_train, y_train)\r\n",
        "\r\n",
        "# ver melhor parâmetro\r\n",
        "print(clf.best_params_)\r\n",
        "# ver todos parâmetros testados\r\n",
        "means = clf.cv_results_['mean_test_score']\r\n",
        "stds = clf.cv_results_['std_test_score']\r\n",
        "\r\n",
        "for mean, std, params in zip(means, stds, clf.cv_results_['params']):\r\n",
        "        print(\"%0.3f (+/-%0.03f) for %r\"\r\n",
        "              % (mean, std * 2, params))"
      ],
      "execution_count": 167,
      "outputs": [
        {
          "output_type": "stream",
          "text": [
            "{'n_estimators': 50}\n",
            "0.846 (+/-0.012) for {'n_estimators': 10}\n",
            "0.849 (+/-0.013) for {'n_estimators': 15}\n",
            "0.852 (+/-0.020) for {'n_estimators': 20}\n",
            "0.852 (+/-0.011) for {'n_estimators': 30}\n",
            "0.858 (+/-0.009) for {'n_estimators': 50}\n",
            "0.856 (+/-0.009) for {'n_estimators': 75}\n",
            "0.855 (+/-0.014) for {'n_estimators': 100}\n"
          ],
          "name": "stdout"
        }
      ]
    },
    {
      "cell_type": "code",
      "metadata": {
        "id": "hArYsYz3XQSj"
      },
      "source": [
        "grid_search = GridSearchCV(rf, parametros_d, scoring=\"recall\")\r\n",
        "clf = GridSearchCV(rf, parametros_d)\r\n",
        "clf.fit(X_train, y_train)\r\n",
        "\r\n",
        "# ver melhor parâmetro\r\n",
        "print(clf.best_params_)\r\n",
        "# ver todos parâmetros testados\r\n",
        "means = clf.cv_results_['mean_test_score']\r\n",
        "stds = clf.cv_results_['std_test_score']\r\n",
        "\r\n",
        "for mean, std, params in zip(means, stds, clf.cv_results_['params']):\r\n",
        "        print(\"%0.3f (+/-%0.03f) for %r\"\r\n",
        "              % (mean, std * 2, params))"
      ],
      "execution_count": null,
      "outputs": []
    },
    {
      "cell_type": "markdown",
      "metadata": {
        "id": "1FtlULUkb6wR"
      },
      "source": [
        "> Quais as features foram as mais importantes para a criação do modelo de Random Forest?"
      ]
    },
    {
      "cell_type": "code",
      "metadata": {
        "id": "XbmXoFLqasko"
      },
      "source": [
        "importance = rf.feature_importances_\r\n",
        "\r\n",
        "for i,v in enumerate(importance):\r\n",
        "  print('Feature: %0d, Score: %.4f' % (i,v))\r\n",
        "plt.bar([x for x in range(len(importance))], importance)\r\n",
        "plt.show()"
      ],
      "execution_count": null,
      "outputs": []
    },
    {
      "cell_type": "markdown",
      "metadata": {
        "id": "V9gWuRA3Xpa6"
      },
      "source": [
        "### Verificar o modelo parametrizado\r\n",
        "Temos nosso modelo escolhido e validado através dos dados de treino, agora chegou a hora de testar com nossos dados de teste e ver como ele vai se sair!"
      ]
    },
    {
      "cell_type": "code",
      "metadata": {
        "id": "0RBkjwhLXuAy"
      },
      "source": [
        "#1 importar modelos\r\n",
        "rf = RandomForestClassifier(max_depth=10, n_estimators=100)\r\n",
        "\r\n",
        "#2 treinar modelo\r\n",
        "model_rf = rf.fit(X_train, y_train)\r\n",
        "\r\n",
        "#3 ML nos dados de teste\r\n",
        "y_pred_rf = model_rf.predict(X_test)\r\n",
        "\r\n",
        "#4 Classification Report\r\n",
        "print(classification_report(y_test, y_pred_rf))\r\n",
        "print(\"Recall: {:.3f}\\n\".format(recall_score(y_test, y_pred_rf)))\r\n",
        "print(\"Acurácia: {:.3f}\\n\".format(accuracy_score(y_test, y_pred_rf)))\r\n",
        "print(\"AUC: {:.3}\\n\".format(roc_auc_score(y_test, y_pred_rf)))\r\n",
        "\r\n",
        "# plotar matriz de confusão\r\n",
        "skplt.metrics.plot_confusion_matrix(y_test, y_pred_rf, normalize=True,\r\n",
        "                                    title='Random Forest',\r\n",
        "                                    title_fontsize=16,\r\n",
        "                                    text_fontsize=14);\r\n",
        "                                  "
      ],
      "execution_count": null,
      "outputs": []
    },
    {
      "cell_type": "markdown",
      "metadata": {
        "id": "KbKEMq-hYECd"
      },
      "source": [
        "Pronto! Nosso modelo está treinado e pronto para ser implementado na previsão de Churns! Na base de teste o modelo conseguiu prever corretamente 86% dos clientes que viriam a cancelar o serviço. "
      ]
    },
    {
      "cell_type": "markdown",
      "metadata": {
        "id": "P7pLs1wDYWtZ"
      },
      "source": [
        "## Conclusão \r\n",
        "Além de aprender sobre Churn e o poder da retenção de clientes em uma empresa, conseguimos extrair informações valiosas do conjunto de dados.\r\n",
        "\r\n",
        "Foi realizada a análise e o tratamento dos dados, bem como o ajuste das variáveis categóricas para que fosse possível treinar e implementar o modelo de machine learning.\r\n",
        "\r\n",
        "Após o treinamento dos modelos, optamos utilizar o modelo de Random Forest, então, foi feito a otimização dos parâmetros do modelo.\r\n",
        "\r\n",
        "Em seguida usamos o modelo treinado para fazer as previsões nos dados de teste, obtendo uma pocentagem de 86% para clientes que se tornariam Churn. Ainda há muitas otimizações que podem ser feitas, mas através desse projeto foi alcançado um excelente resultado, capaz de oferecer informações valiosas para a empresa, ajudado a mesma a atingir seu objetivo de reduzir a Churn Rate e aumentar a receita.\r\n",
        "\r\n",
        "\r\n"
      ]
    },
    {
      "cell_type": "markdown",
      "metadata": {
        "id": "qXCTWH3vZ6AG"
      },
      "source": [
        ""
      ]
    }
  ]
}